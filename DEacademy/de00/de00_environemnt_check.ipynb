{
 "cells": [
  {
   "cell_type": "markdown",
   "id": "22e46489",
   "metadata": {},
   "source": [
    "# Python Jupyter Notebook 使用教學\n",
    "\n",
    "簡介 Jupyter Notebook\n",
    "\n",
    "* 是一個寫程式的工具\n",
    "* 逐行執行並且做到資料視覺化\n",
    "* 由於其逐行執行的特性，適合 Python 初學者從中了解程式邏輯\n",
    "\n",
    "## 開啟 Jupyter Notebook\n",
    "\n",
    "每個學員在上課之前, 會收到一封內含上課內容的email。這個email裡會有一個鏈結, 點選鏈結之後就會在Browser上開啟Jupyter notebook。\n",
    "請使用自己的**工號**與由**學員管理員所提供的密碼來登入**。"
   ]
  },
  {
   "cell_type": "markdown",
   "id": "9bd7a5ff",
   "metadata": {},
   "source": [
    "# Jupyter Notebook 功能介紹\n",
    "\n",
    "> 注意：\n",
    "> 透過 Jupyter Notebook 建立的 Python 檔副檔名是 .ipynb，與一般的 .py 檔不同\n",
    "\n",
    "進入撰寫程式碼的頁面後，會看到一個格子，裡面可以輸入程式碼，在 Jupyter Notebook 中稱它為一個 Cell，一支程式可以存在多個 Cell，每個 Cell 都是可以執行的區塊\n",
    "\n",
    "![](images/jupyter_nb_01.png)"
   ]
  },
  {
   "cell_type": "markdown",
   "id": "b2d66e1b",
   "metadata": {},
   "source": [
    "## Jupyter Notebook 按鈕介紹\n",
    "\n",
    "在頁面上方有一排按鈕，我們對當中較常用的做介紹。\n",
    "\n",
    "![](images/jupyter_nb_02.png)\n",
    "\n",
    "![](images/jupyter_nb_03.png)"
   ]
  },
  {
   "cell_type": "markdown",
   "id": "2b90765e",
   "metadata": {},
   "source": [
    "## 初嘗 Python\n",
    "\n",
    "不可免俗，各式程式語言的第一個教學都是印出 Hello World，因此這邊也以印出 Hello World 作為範例\n",
    "一般要透過 Python 印出字串時，我們會透過 print() 來達成，如下：\n",
    "\n",
    "```python\n",
    "print('Hello World')\n",
    "```\n",
    "\n",
    "但是 Jupyter Notebook 的特性是不需透過 print() 直接執行即可印出結果，如下圖：\n",
    "![](images/jupyter_nb_04.png)"
   ]
  },
  {
   "cell_type": "markdown",
   "id": "e8260da9",
   "metadata": {},
   "source": [
    "當然，在初學期間建議同學養成印出結果記得用上`print()`的好習慣\n",
    "\n",
    "![](images/jupyter_nb_05.png)\n",
    "\n",
    "要執行 Cell 有 2 種方式：\n",
    "\n",
    "1. 按下界面上的 `Run`\n",
    "2. 按鍵盤的 `Shift` + `Enter`"
   ]
  },
  {
   "cell_type": "code",
   "execution_count": 1,
   "id": "12510d13",
   "metadata": {},
   "outputs": [
    {
     "name": "stdout",
     "output_type": "stream",
     "text": [
      "Hello World\n"
     ]
    }
   ],
   "source": [
    "## 請在以下的 cell 來試試\n",
    "\n",
    "print('Hello World')"
   ]
  }
 ],
 "metadata": {
  "kernelspec": {
   "display_name": "Python 3",
   "language": "python",
   "name": "python3"
  },
  "language_info": {
   "codemirror_mode": {
    "name": "ipython",
    "version": 3
   },
   "file_extension": ".py",
   "mimetype": "text/x-python",
   "name": "python",
   "nbconvert_exporter": "python",
   "pygments_lexer": "ipython3",
   "version": "3.7.10"
  },
  "toc": {
   "base_numbering": 1,
   "nav_menu": {},
   "number_sections": true,
   "sideBar": true,
   "skip_h1_title": false,
   "title_cell": "Table of Contents",
   "title_sidebar": "Contents",
   "toc_cell": false,
   "toc_position": {},
   "toc_section_display": true,
   "toc_window_display": true
  }
 },
 "nbformat": 4,
 "nbformat_minor": 5
}
