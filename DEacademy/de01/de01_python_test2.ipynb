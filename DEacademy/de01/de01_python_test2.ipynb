{
 "cells": [
  {
   "cell_type": "markdown",
   "id": "a814c680",
   "metadata": {},
   "source": [
    "## de01 - python 基礎: 作業 （補考）\n",
    "\n",
    "### 範例資料集\n",
    "\n",
    "* 測試資料集: data/titanic.csv\n",
    "* 格式: CSV\n",
    "* 表頭: Y\n",
    "* 欄位解釋:\n",
    "    * PassengerId:乘客編號\n",
    "    * Survived:是否存活(0:死亡，1:存活)\n",
    "    * Pclass:票艙分級(1:最高集,...,3:最低集)\n",
    "    * Name:姓名\n",
    "    * Sex:性別\n",
    "    * Age:年齡\n",
    "    * SibSp:兄弟姊妹及配偶在船上的總數(旁系)\n",
    "    * Parch:父母及小孩在船上的總數(直系)\n",
    "    * Ticket:票號\n",
    "    * Fare:票價\n",
    "    * Cabin:客艙編號\n",
    "    * Embarked:上船的港口\n",
    "    \n",
    "```csv\n",
    "PassengerId,Survived,Pclass,Name,Sex,Age,SibSp,Parch,Ticket,Fare,Cabin,Embarked\n",
    "1,0,3,\"Braund, Mr. Owen Harris\",male,22,1,0,A/5 21171,7.25,,S\n",
    "2,1,1,\"Cumings, Mrs. John Bradley (Florence Briggs Thayer)\",female,38,1,0,PC 17599,71.2833,C85,C\n",
    "3,1,3,\"Heikkinen, Miss. Laina\",female,26,0,0,STON/O2. 3101282,7.925,,S\n",
    "4,1,1,\"Futrelle, Mrs. Jacques Heath (Lily May Peel)\",female,35,1,0,113803,53.1,C123,S\n",
    "5,0,3,\"Allen, Mr. William Henry\",male,35,0,0,373450,8.05,,S\n",
    "6,0,3,\"Moran, Mr. James\",male,,0,0,330877,8.4583,,Q\n",
    "7,0,1,\"McCarthy, Mr. Timothy J\",male,54,0,0,17463,51.8625,E46,S\n",
    "8,0,3,\"Palsson, Master. Gosta Leonard\",male,2,3,1,349909,21.075,,S\n",
    "9,1,3,\"Johnson, Mrs. Oscar W (Elisabeth Vilhelmina Berg)\",female,27,0,2,347742,11.1333,,S\n",
    "...\n",
    "...\n",
    "```"
   ]
  },
  {
   "cell_type": "code",
   "execution_count": null,
   "id": "24d72edb",
   "metadata": {},
   "outputs": [],
   "source": [
    "## 範例\n",
    "import csv\n",
    "\n",
    "# open csv\n",
    "with open(\"data/titanic.csv\") as titanic:\n",
    "    # read file content\n",
    "    rows = csv.reader(titanic)\n",
    "    \n",
    "    # iterate each row\n",
    "    for row in rows:\n",
    "        print(row)"
   ]
  },
  {
   "cell_type": "markdown",
   "id": "f10ecf09",
   "metadata": {},
   "source": [
    "## 作業#01\n",
    "\n",
    "請計算有多少乘客沒有登錄年齡(`Age`欄位為空或NULL)? 並打印出來!\n",
    "\n",
    "> 運算限制: 只能使用csv套件與Looping的手法來計算\n",
    "\n",
    "```python\n",
    "missing_value_age_count = 0\n",
    "\n",
    "...\n",
    "...\n",
    "\n",
    "print(f'Missing value count in age is: {missing_value_age_count}')\n",
    "```"
   ]
  },
  {
   "cell_type": "code",
   "execution_count": null,
   "id": "afb0cf9e",
   "metadata": {},
   "outputs": [],
   "source": [
    "## task01\n",
    "\n",
    "missing_value_age_count = 0\n",
    "\n",
    "## write your code below\n",
    "\n",
    "\n",
    "print(f'Missing value count in age is: {missing_value_age_count}')"
   ]
  },
  {
   "cell_type": "markdown",
   "id": "6462f30d",
   "metadata": {},
   "source": [
    "## 作業#02\n",
    "\n",
    "請計算出乘客最小的年齡? 並打印出來!\n",
    "\n",
    "> 運算限制: 只能使用csv套件與Looping的手法來計算\n",
    "\n",
    "```python\n",
    "min_age = 0\n",
    "\n",
    "...\n",
    "...\n",
    "\n",
    "print(f'Min age is {min_age}')\n",
    "```"
   ]
  },
  {
   "cell_type": "code",
   "execution_count": null,
   "id": "8cd6322a",
   "metadata": {},
   "outputs": [],
   "source": [
    "## task02\n",
    "\n",
    "min_age = 0\n",
    "\n",
    "## write your code here\n",
    "\n",
    "\n",
    "print(f'Min age is {min_age}')"
   ]
  },
  {
   "cell_type": "markdown",
   "id": "58382f11",
   "metadata": {},
   "source": [
    "## 作業#03\n",
    "\n",
    "請計算**有登錄年齡**的乘客的平均年齡? 並打印出來!\n",
    "\n",
    "> 運算限制: 只能使用csv套件與Looping的手法來計算\n",
    "\n",
    "```python\n",
    "avg_age = 0\n",
    "\n",
    "...\n",
    "...\n",
    "\n",
    "print(f\"Passengers' average age is: {avg_age}\")\n",
    "```"
   ]
  },
  {
   "cell_type": "code",
   "execution_count": null,
   "id": "ec3d75eb",
   "metadata": {},
   "outputs": [],
   "source": [
    "## task03\n",
    "\n",
    "avg_age = 0\n",
    "\n",
    "## write your code here\n",
    "\n",
    "\n",
    "\n",
    "\n",
    "\n",
    "print(f\"Passengers' average age is: {avg_age}\")"
   ]
  },
  {
   "cell_type": "markdown",
   "id": "e620d315",
   "metadata": {},
   "source": [
    "## 作業#04\n",
    "\n",
    "請計算出存活的男乘客與女乘客（**有登錄年齡**）的平均年齡? 並打印出來!\n",
    "\n",
    "> 運算限制: 只能使用csv套件與Looping的手法來計算\n",
    "\n",
    "```python\n",
    "male_survived_avg_age = 0;\n",
    "female_survived_avg_age = 0;\n",
    "\n",
    "print(f'Male survived average age is: {male_survived_avg_age}')\n",
    "print(f'Female survived average is: {female_survived_avg_age}')\n",
    "```"
   ]
  },
  {
   "cell_type": "code",
   "execution_count": null,
   "id": "012c4d13",
   "metadata": {},
   "outputs": [],
   "source": [
    "## task04\n",
    "\n",
    "male_survived_avg_age = 0;\n",
    "female_survived_avg_age = 0;\n",
    "\n",
    "## write your code here\n",
    "\n",
    "\n",
    "\n",
    "\n",
    "\n",
    "\n",
    "\n",
    "print(f'Male survived average age is: {male_survived_avg_age}')\n",
    "print(f'Female survived average is: {female_survived_avg_age}')"
   ]
  }
 ],
 "metadata": {
  "kernelspec": {
   "display_name": "Python 3",
   "language": "python",
   "name": "python3"
  },
  "language_info": {
   "codemirror_mode": {
    "name": "ipython",
    "version": 3
   },
   "file_extension": ".py",
   "mimetype": "text/x-python",
   "name": "python",
   "nbconvert_exporter": "python",
   "pygments_lexer": "ipython3",
   "version": "3.7.10"
  },
  "toc": {
   "base_numbering": 1,
   "nav_menu": {},
   "number_sections": true,
   "sideBar": true,
   "skip_h1_title": false,
   "title_cell": "Table of Contents",
   "title_sidebar": "Contents",
   "toc_cell": false,
   "toc_position": {},
   "toc_section_display": true,
   "toc_window_display": false
  }
 },
 "nbformat": 4,
 "nbformat_minor": 5
}
