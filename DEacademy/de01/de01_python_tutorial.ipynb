{
 "cells": [
  {
   "cell_type": "markdown",
   "id": "9277965c",
   "metadata": {},
   "source": [
    "# python 基礎\n",
    "\n",
    "詳細教程: https://www.w3schools.com/python/default.asp\n",
    "\n",
    "Python 是物件導向的高階程式語言。\n",
    "容易理解與學習且方便使用，可以達到各種難度的應用，也能在大多數的系統中運行。\n",
    "相較於C++或Java，Python能用較少的程式碼表達。\n",
    "\n",
    "Python 提供許多 Library(函式庫)讓使用者下載，所以具有龐大且多元的函式庫，可以支援大部份的應用。\n",
    "另外 Python 擁有 standard library，同時 Python 社群提供了Third-Party模組，\n",
    "使得Python 發展迅速及使用廣泛，相關資源也相當豐富。"
   ]
  },
  {
   "cell_type": "markdown",
   "id": "8b6d475e",
   "metadata": {},
   "source": [
    "###  Python 特點:\n",
    "\n",
    "* 高階＆直譯式程式語言\n",
    "* 容易撰寫\n",
    "* 功能強大\n",
    "* 跨平台，可在多個平台上執行\n",
    "* 豐富且多元的套件\n",
    "* 容易擴充，Python具有非常多的第三方程式庫"
   ]
  },
  {
   "cell_type": "markdown",
   "id": "3b0d3c4b",
   "metadata": {},
   "source": [
    "### Python應用\n",
    "\n",
    "1. 資料蒐集、資料處理，資料分析視覺化\n",
    "2. Web開發應用\n",
    "3. 網絡爬蟲\n",
    "4. 人工智慧應用(機器學習、深度學習）\n",
    "5. 資料庫支援\n",
    "6. 圖形處理"
   ]
  },
  {
   "cell_type": "markdown",
   "id": "560f6a93",
   "metadata": {},
   "source": [
    "## 01 Python 變數與資料型別\n",
    "\n",
    "### 變數\n",
    "\n",
    "python變數不須宣告就可以使用能，自動辨別type。\n",
    "Python 程式語言中的 `=` 給定值，`==` 相等的值。"
   ]
  },
  {
   "cell_type": "code",
   "execution_count": 1,
   "id": "a3185354",
   "metadata": {},
   "outputs": [],
   "source": [
    "#Python宣告\n",
    "\n",
    "a = \"123\" \n",
    "b = '123'\n",
    "c = 1\n",
    "d = True"
   ]
  },
  {
   "cell_type": "code",
   "execution_count": 2,
   "id": "4049f1b1",
   "metadata": {},
   "outputs": [
    {
     "name": "stdout",
     "output_type": "stream",
     "text": [
      "<class 'str'>\n",
      "<class 'str'>\n",
      "<class 'int'>\n",
      "<class 'bool'>\n"
     ]
    }
   ],
   "source": [
    "# 打印資料型別\n",
    "\n",
    "print(type(a))\n",
    "\n",
    "print(type(b))\n",
    "\n",
    "print(type(c))\n",
    "\n",
    "print(type(d))"
   ]
  },
  {
   "cell_type": "markdown",
   "id": "89caebd5",
   "metadata": {},
   "source": [
    "### 變數命名規則:\n",
    "\n",
    "* 只能包含英文、數字和底線\n",
    "* 變數名稱不能有空格，通常用底線替換 `ex : number_id`\n",
    "* 不能是保留字 `ex : int` 、`ex : float`\n",
    "* 英文大小寫不同的就可以為不同變數名稱\n",
    "\n",
    "### 資料型別\n",
    "\n",
    "Python資料型別有以下幾種\n",
    "\n",
    "* Text Type: `str`\n",
    "* Numeric Types: `int`, `float`, `complex`\n",
    "* Sequence Types: `list`, `tuple`, `range`\n",
    "* Mapping Type:\t`dict`\n",
    "* Set Types: `set`, `frozenset`\n",
    "* Boolean Type:\t`bool`\n",
    "* Binary Types:\t`bytes`, `bytearray`, `memoryview`"
   ]
  },
  {
   "cell_type": "code",
   "execution_count": 3,
   "id": "efa30eea",
   "metadata": {},
   "outputs": [],
   "source": [
    "# int 整數\n",
    "a = 87 \n",
    "\n",
    "# float 浮點數，小數點\n",
    "b = 87.878787 \n",
    "\n",
    "# string 字串，文字字元\n",
    "c = \"apple\"  \n",
    "\n",
    "# bool 布林，分為 True、False 用於條件判斷\n",
    "d = True"
   ]
  },
  {
   "cell_type": "markdown",
   "id": "30ae506b",
   "metadata": {},
   "source": [
    "## 02 Python的運算符\n",
    "\n",
    "### 算術運算子\n",
    "\n",
    "a=14\n",
    "b=4\n",
    "\n",
    "* `a+b` => a、b相加 `a+b = 18`\n",
    "* `a-b` => a、b相減 `a-b = 10`\n",
    "* `a*b` => a、b相乘 `a*b = 56`\n",
    "* `a/b` => a 除以 b `a/b = 3.5`\n",
    "* `a%b` => a 除以 b的餘數 `a%b = 2`\n",
    "* `a**b` => a的b次方 `a**b = 38416 (14*14*14*14)`\n",
    "* `a//b` => a 除以 b，只取整數解 `a//b = 3`\n",
    "\n",
    "### 賦值運算子\n",
    "\n",
    "* `a+=b` => `a=a+b`\n",
    "* `a-=b` => `a=a-b`\n",
    "* `a*=b` => `a=a*b`\n",
    "* `a/=b` => `a=a/b`\n",
    "* `a%=b` => `a=a%b`\n",
    "* `a**=b` => `a=a**b`\n",
    "* `a//=b` => `a=a//b`"
   ]
  },
  {
   "cell_type": "code",
   "execution_count": 4,
   "id": "bb00c767",
   "metadata": {},
   "outputs": [
    {
     "name": "stdout",
     "output_type": "stream",
     "text": [
      "輸入第一個數字: 10\n",
      "輸入第二個數字: 12\n",
      "1012\n"
     ]
    },
    {
     "ename": "TypeError",
     "evalue": "unsupported operand type(s) for -: 'str' and 'str'",
     "output_type": "error",
     "traceback": [
      "\u001b[0;31m---------------------------------------------------------------------------\u001b[0m",
      "\u001b[0;31mTypeError\u001b[0m                                 Traceback (most recent call last)",
      "\u001b[0;32m<ipython-input-4-b6a7b1757c66>\u001b[0m in \u001b[0;36m<module>\u001b[0;34m\u001b[0m\n\u001b[1;32m      5\u001b[0m \u001b[0;34m\u001b[0m\u001b[0m\n\u001b[1;32m      6\u001b[0m \u001b[0mprint\u001b[0m\u001b[0;34m(\u001b[0m\u001b[0mnum1\u001b[0m \u001b[0;34m+\u001b[0m \u001b[0mnum2\u001b[0m\u001b[0;34m)\u001b[0m\u001b[0;34m\u001b[0m\u001b[0;34m\u001b[0m\u001b[0m\n\u001b[0;32m----> 7\u001b[0;31m \u001b[0mprint\u001b[0m\u001b[0;34m(\u001b[0m\u001b[0mnum1\u001b[0m \u001b[0;34m-\u001b[0m \u001b[0mnum2\u001b[0m\u001b[0;34m)\u001b[0m\u001b[0;34m\u001b[0m\u001b[0;34m\u001b[0m\u001b[0m\n\u001b[0m\u001b[1;32m      8\u001b[0m \u001b[0mprint\u001b[0m\u001b[0;34m(\u001b[0m\u001b[0mnum1\u001b[0m \u001b[0;34m*\u001b[0m \u001b[0mnum2\u001b[0m\u001b[0;34m)\u001b[0m\u001b[0;34m\u001b[0m\u001b[0;34m\u001b[0m\u001b[0m\n\u001b[1;32m      9\u001b[0m \u001b[0mprint\u001b[0m\u001b[0;34m(\u001b[0m\u001b[0mnum1\u001b[0m \u001b[0;34m/\u001b[0m \u001b[0mnum2\u001b[0m\u001b[0;34m)\u001b[0m\u001b[0;34m\u001b[0m\u001b[0;34m\u001b[0m\u001b[0m\n",
      "\u001b[0;31mTypeError\u001b[0m: unsupported operand type(s) for -: 'str' and 'str'"
     ]
    }
   ],
   "source": [
    "#算術運算子\n",
    "#自己輸入兩個數字\n",
    "num1 = input(\"輸入第一個數字: \")\n",
    "num2 = input(\"輸入第二個數字: \")\n",
    "\n",
    "print(num1 + num2)\n",
    "print(num1 - num2)\n",
    "print(num1 * num2)\n",
    "print(num1 / num2)\n",
    "print(num1 % num2)\n",
    "print(num1 ** num2)\n",
    "print(num1 // num2)"
   ]
  },
  {
   "cell_type": "code",
   "execution_count": 5,
   "id": "2541d85a",
   "metadata": {},
   "outputs": [
    {
     "name": "stdout",
     "output_type": "stream",
     "text": [
      "請輸入第一個字串hello\n",
      "請輸入第二個字串world\n",
      "helloworld\n",
      "helloworldhelloworldhelloworld\n"
     ]
    }
   ],
   "source": [
    "#字串運算\n",
    "str1 = input(\"請輸入第一個字串\")\n",
    "str2 = input(\"請輸入第二個字串\")\n",
    "print(str1 + str2)\n",
    "print((str1 + str2)*3) "
   ]
  },
  {
   "cell_type": "markdown",
   "id": "7981bb12",
   "metadata": {},
   "source": [
    "### Python 字串格式化以及 f-string 字串格式化\n",
    "\n",
    "在 Python 裡頭，目前的最新版本 (3.x) 中總共有 3 種不同的方式來達成字串格式化 (String format)。分別是 `%-formatting`、`str.format` 以及 `f-string`。"
   ]
  },
  {
   "cell_type": "markdown",
   "id": "b14d86f5",
   "metadata": {},
   "source": [
    "#### 01. %-formatting\n",
    "\n",
    "C 語言字串格式化深入我們的生活，Python 自然也不意外的會有這個功能。"
   ]
  },
  {
   "cell_type": "code",
   "execution_count": 6,
   "id": "ed8143b3",
   "metadata": {},
   "outputs": [
    {
     "name": "stdout",
     "output_type": "stream",
     "text": [
      "We have 10 apple, 20 banana\n"
     ]
    }
   ],
   "source": [
    "my_str = 'We have %d apple, %d banana' % (10, 20)\n",
    "\n",
    "print(my_str)"
   ]
  },
  {
   "cell_type": "markdown",
   "id": "ee59e6d8",
   "metadata": {},
   "source": [
    "#### 02. str.format\n",
    "\n",
    "PEP 3101 帶來了 str.format()，讓我們可以用 .format 的方式來格式化字串："
   ]
  },
  {
   "cell_type": "code",
   "execution_count": 7,
   "id": "a921283e",
   "metadata": {},
   "outputs": [
    {
     "name": "stdout",
     "output_type": "stream",
     "text": [
      "de-01\n"
     ]
    }
   ],
   "source": [
    "my_str = '{class_name}-{class_seq}'.format(class_name='de', class_seq='01')\n",
    "\n",
    "print(my_str)"
   ]
  },
  {
   "cell_type": "markdown",
   "id": "dff0bb32",
   "metadata": {},
   "source": [
    "#### 03. f-string\n",
    "\n",
    "PEP 498 帶來了 f-string，它的學名叫作 “Literal String Interpolation”。用法如下："
   ]
  },
  {
   "cell_type": "code",
   "execution_count": 8,
   "id": "d16e7c7c",
   "metadata": {},
   "outputs": [
    {
     "name": "stdout",
     "output_type": "stream",
     "text": [
      "de-01\n"
     ]
    }
   ],
   "source": [
    "class_name = 'de'\n",
    "class_seq = '01'\n",
    "\n",
    "my_str = f'{class_name}-{class_seq}'\n",
    "\n",
    "print(my_str)"
   ]
  },
  {
   "cell_type": "markdown",
   "id": "7c5b5ff1",
   "metadata": {},
   "source": [
    "## 03 邏輯運算與判斷式\n",
    "\n",
    "#### Bitwise運算符\n",
    "\n",
    "a = 0011 1101\n",
    "b = 0000 1100\n",
    "\n",
    "* `&` => 二進位運算的 `and`，`a & b = 0000 1100`\n",
    "* `|` => 二進位運算的 `or`，`a | b = 0011 1101`\n",
    "* `^` => 二進位運算的 `xor`，`a ^ b = 0011 0001`\n",
    "* `~` => 二進位運算的 `not`，`~ a = 1100 0010`\n",
    "* `<<` => 二進位運算的左移，`a << 2 = 1111 0100`\n",
    "* `>>` => 二進位運算的右移，`a >> 2 = 0000 1111`\n",
    "\n",
    "#### 關係運算子\n",
    "\n",
    "* `==` => 兩值相等為 True\n",
    "* `!=` => 兩值不相等為 True\n",
    "* `<>` => 兩值不相等為 True\n",
    "* `>` => 左值大於右值為 True\n",
    "* `<` => 左值小於右值為 True\n",
    "* `>=` => 左值大於或等於右值為 True\n",
    "* `<=` => 左值小於或等於右值為 True"
   ]
  },
  {
   "cell_type": "code",
   "execution_count": 9,
   "id": "dde3cade",
   "metadata": {},
   "outputs": [
    {
     "name": "stdout",
     "output_type": "stream",
     "text": [
      "a == b is False\n",
      "a != b is True\n",
      "a > b is False\n",
      "'hello' == 'hello' is True\n",
      "'hello' == 'world' is False\n",
      "'a' > 'b' is False\n",
      "'b' > 'a' is True\n"
     ]
    }
   ],
   "source": [
    "a = 10\n",
    "b = 20\n",
    "print(f'a == b is {a==b}')\n",
    "print(f'a != b is {a!=b}')\n",
    "print(f'a > b is {a>b}')\n",
    "print(f\"'hello' == 'hello' is {'hello'=='hello'}\")\n",
    "print(f\"'hello' == 'world' is {'hello'=='world'}\")\n",
    "print(f\"'a' > 'b' is {'a'>'b'}\")\n",
    "print(f\"'b' > 'a' is {'b'>'a'}\")"
   ]
  },
  {
   "cell_type": "markdown",
   "id": "36ed4907",
   "metadata": {},
   "source": [
    "#### 邏輯運算子\n",
    "\n",
    "* `and`: 兩者都成立才為True\n",
    "* `or`: 其中一個成立就為True\n",
    "* `not`: 反轉操作，如果其中一個條件成立，反向後回傳為False"
   ]
  },
  {
   "cell_type": "code",
   "execution_count": 10,
   "id": "6bbc4027",
   "metadata": {},
   "outputs": [
    {
     "name": "stdout",
     "output_type": "stream",
     "text": [
      "Yes，a 和 b 兩者皆大於0才為True，才符合if條件\n",
      "Yes，a 和 b 其中之一大於0就為True，就符合if條件\n",
      "No\n"
     ]
    }
   ],
   "source": [
    "# a 和 b 兩者皆大於0才為True，才符合if條件\n",
    "if ( a and b ):\n",
    "    print(\"Yes，a 和 b 兩者皆大於0才為True，才符合if條件\")\n",
    "else:\n",
    "    print(\"No\")\n",
    "\n",
    "# a 和 b 其中之一大於0就為True，就符合if條件\n",
    "if ( a or b ):\n",
    "    print(\"Yes，a 和 b 其中之一大於0就為True，就符合if條件\")\n",
    "else:\n",
    "    print(\"No\")\n",
    "\n",
    "# a 和 b 其中之一大於0就為True，但加上反向not之後則為False\n",
    "if not( a or b ):\n",
    "    print(\"Yes\")\n",
    "else:\n",
    "    print(\"No\")"
   ]
  },
  {
   "cell_type": "markdown",
   "id": "02a4b839",
   "metadata": {},
   "source": [
    "#### 判斷式\n",
    "\n",
    "條件判斷在程式中很重要，要先判斷條件是否成立，才能決定要做什麼事情。\n",
    "條件判斷經常使用，所使用的就是if指令。\n",
    "\n",
    "```\n",
    "if(條件):\n",
    "    執行動作描述句...\n",
    "    \n",
    "elif(條件):\n",
    "    執行動作描述句...\n",
    "    \n",
    "else: #不需要寫條件，當不符合上面的條件，其餘所有狀況都會走這裡。\n",
    "    執行動作描述句...\n",
    "```"
   ]
  },
  {
   "cell_type": "markdown",
   "id": "a53f0622",
   "metadata": {},
   "source": [
    "## 04 複雜的資料型別\n",
    "\n",
    "Python有一些容器類的資料型別(Container type) - list, set, dict, tuple\n",
    "\n",
    "### List串列\n",
    "\n",
    "List 串列，可儲存序列資料(可儲不同型別的資料)，相較於其他程式語言的陣列更為強大。\n",
    "\n",
    "python: List用中括號`[]`表示，不同的值用逗號`,`分隔。\n",
    "\n",
    "範例 :"
   ]
  },
  {
   "cell_type": "code",
   "execution_count": 11,
   "id": "a589024b",
   "metadata": {},
   "outputs": [],
   "source": [
    "animals = ['bear', 'cat', 'dog', 'elephant']\n",
    "numbers = [1, 2, 3, 4, 5]"
   ]
  },
  {
   "cell_type": "markdown",
   "id": "499b3fe3",
   "metadata": {},
   "source": [
    "印出List內容操作方式"
   ]
  },
  {
   "cell_type": "code",
   "execution_count": 12,
   "id": "2e24cd23",
   "metadata": {},
   "outputs": [
    {
     "name": "stdout",
     "output_type": "stream",
     "text": [
      "['bear', 'cat', 'dog', 'elephant']\n",
      "bear\n",
      "cat\n",
      "['cat', 'dog']\n",
      "['cat', 'dog', 'elephant']\n",
      "['bear', 'cat', 'dog']\n"
     ]
    }
   ],
   "source": [
    "print (animals)      # 輸出完整的list\n",
    "print (animals[0])   # 輸出list索引值0的位置 => 第一個元素\n",
    "print(animals[-3])   # 輸出list索引值-3的位置 => 倒數第三個元素\n",
    "print (animals[1:3]) # 輸出第二到第三個元素 \n",
    "print (animals[1:])  # 輸出第二到最後一個元素\n",
    "print (animals[:3])  # 輸出第一到第三個元素"
   ]
  },
  {
   "cell_type": "markdown",
   "id": "8e8c25eb",
   "metadata": {},
   "source": [
    "#### List 修改內容\n",
    "\n",
    "* `append()` => 從List尾端新增一個元素進去\n",
    "* `insert()` => 在List的任何位置增加元素\n",
    "* `del` => 將List該位置的值刪除\n",
    "* `pop()` => 將List尾端的元素刪除\n",
    "* `remove()` => 將List中某個數值刪除"
   ]
  },
  {
   "cell_type": "code",
   "execution_count": 13,
   "id": "9e83fac1",
   "metadata": {},
   "outputs": [],
   "source": [
    "animals.append(\"fox\") \n",
    "animals.insert(1, \"bird\")"
   ]
  },
  {
   "cell_type": "markdown",
   "id": "f23fc218",
   "metadata": {},
   "source": [
    "原本：`['bear', 'cat', 'dog', 'elephant']`\n",
    "\n",
    "append：`['bear', 'cat', 'dog', 'elephant', 'fox']`\n",
    "\n",
    "insert：`['bear', 'bird', 'cat', 'dog', 'elephant', 'fox']`"
   ]
  },
  {
   "cell_type": "code",
   "execution_count": 14,
   "id": "7f9679fc",
   "metadata": {},
   "outputs": [
    {
     "name": "stdout",
     "output_type": "stream",
     "text": [
      "['bear', 'bird', 'cat', 'dog', 'elephant', 'fox']\n",
      "['bear', 'bird', 'dog', 'elephant', 'fox']\n",
      "['bear', 'bird', 'dog', 'elephant']\n",
      "['bear', 'bird', 'elephant']\n"
     ]
    }
   ],
   "source": [
    "animals = ['bear', 'bird', 'cat', 'dog', 'elephant', 'fox']\n",
    "print (animals)\n",
    "\n",
    "del animals[2] #刪除第三個元素\"cat\"\n",
    "print(animals)\n",
    "\n",
    "animals.pop() #刪除最尾巴的\"fox\"\n",
    "print(animals)\n",
    "\n",
    "animals.remove(\"dog\") #刪除\"dog\"\n",
    "print(animals)"
   ]
  },
  {
   "cell_type": "markdown",
   "id": "49bc16cb",
   "metadata": {},
   "source": [
    "#### List 函數介紹\n",
    "\n",
    "* reverse()：反轉List的順序\n",
    "* sort()：List排序\n",
    "* index()：某值在List第一次出現的索引位置\n",
    "* count()：某值在List出現的次數"
   ]
  },
  {
   "cell_type": "code",
   "execution_count": 15,
   "id": "b9c2e6c0",
   "metadata": {},
   "outputs": [
    {
     "name": "stdout",
     "output_type": "stream",
     "text": [
      "1\n",
      "2\n",
      "['cat', 'elephant', 'dog', 'cat', 'bear']\n",
      "['bear', 'cat', 'cat', 'dog', 'elephant']\n"
     ]
    }
   ],
   "source": [
    "animals = ['bear', 'cat', 'dog', 'elephant', 'cat']\n",
    "print(animals.index('cat')) # 某值在List第一次出現的索引位置\n",
    "print(animals.count('cat')) # 某值在List出現的次數\n",
    "\n",
    "animals.reverse() # 反轉List的順序\n",
    "print(animals)\n",
    "\n",
    "animals.sort() # List排序\n",
    "print(animals)"
   ]
  },
  {
   "cell_type": "markdown",
   "id": "e8b188e4",
   "metadata": {},
   "source": [
    "### Dict 字典\n",
    "\n",
    "key-value的形式\n",
    "\n",
    "dict 字典，和 list 串列很像但不會使用 0,1,…等的索引index來定位，需要宣告`key鍵值`來對應`儲存的值`。"
   ]
  },
  {
   "cell_type": "code",
   "execution_count": 16,
   "id": "5254bc6c",
   "metadata": {},
   "outputs": [
    {
     "name": "stdout",
     "output_type": "stream",
     "text": [
      "7\n"
     ]
    }
   ],
   "source": [
    "fruits = {\"apple\": 10, \"banana\": 7, \"orange\": 8}\n",
    "print(fruits[\"banana\"])"
   ]
  },
  {
   "cell_type": "markdown",
   "id": "7e7044fc",
   "metadata": {},
   "source": [
    "#### keys、values、items\n",
    "\n",
    "* `keys()` => 取得所有key組合，資料型態為dict_keys\n",
    "* `values()` => 取得所有value組合，資料型態為dict_values\n",
    "* `items()` => 取得所有 (key,value) 組合，資料型態為dict_items"
   ]
  },
  {
   "cell_type": "code",
   "execution_count": 20,
   "id": "b047029a",
   "metadata": {},
   "outputs": [
    {
     "name": "stdout",
     "output_type": "stream",
     "text": [
      "dict_keys(['apple', 'banana', 'orange'])\n",
      "dict_values([10, 7, 8])\n",
      "dict_items([('apple', 10), ('banana', 7), ('orange', 8)])\n"
     ]
    }
   ],
   "source": [
    "fruits = {\"apple\":10, \"banana\":7, \"orange\":8}\n",
    "\n",
    "print(fruits.keys())   #keys()\n",
    "print(fruits.values()) #values()\n",
    "print(fruits.items())  #items()"
   ]
  },
  {
   "cell_type": "markdown",
   "id": "5626438f",
   "metadata": {},
   "source": [
    "### Tuple 元組\n",
    "\n",
    "類似於 list 串列，但tuple 給定元素後**不能改變**\n",
    "\n",
    "不同地方在於：list使用`[ ]`，tuple使用`( )`"
   ]
  },
  {
   "cell_type": "code",
   "execution_count": 2,
   "id": "ed4cdfac",
   "metadata": {},
   "outputs": [
    {
     "name": "stdout",
     "output_type": "stream",
     "text": [
      "('bear', 'cat', 'dog', 'elephant', 'cat')\n",
      "bear\n"
     ]
    }
   ],
   "source": [
    "animals = ('bear', 'cat', 'dog', 'elephant', 'cat')\n",
    "print(animals)\n",
    "print(animals[0])"
   ]
  },
  {
   "cell_type": "markdown",
   "id": "d9865d08",
   "metadata": {},
   "source": [
    "用法和List 很像，但是當你試圖想改變 tuple 裡的元素，Python會跟你說tuple的item不能被給值"
   ]
  },
  {
   "cell_type": "markdown",
   "id": "ea92fbbf",
   "metadata": {},
   "source": [
    "### Set 集合\n",
    "\n",
    "set 的內容元素都必須是獨一無二的"
   ]
  },
  {
   "cell_type": "code",
   "execution_count": 4,
   "id": "fce879bc",
   "metadata": {},
   "outputs": [
    {
     "name": "stdout",
     "output_type": "stream",
     "text": [
      "{'apple', 'cherry', 'banana'}\n"
     ]
    }
   ],
   "source": [
    "fruits_set = {\"apple\", \"banana\", \"cherry\"}\n",
    "\n",
    "print(fruits_set)"
   ]
  },
  {
   "cell_type": "markdown",
   "id": "bacfa021",
   "metadata": {},
   "source": [
    "## 05 迴圈\n",
    "\n",
    "### For 迴圈\n",
    "\n",
    "執行相同的動作，可以藉著for迴圈達到目的，通常與collection物件(如dict,list, tuple, set等等)一起使用，\n",
    "在給定的某個條件下，可以重複做某些動作。\n",
    "\n",
    "以下為For迴圈的語法:\\\n",
    "\n",
    "設定一個變數在某個range下重複執行：\n",
    "\n",
    "```\n",
    "for 變數 in range(star, end, 遞增值)    \n",
    "```"
   ]
  },
  {
   "cell_type": "code",
   "execution_count": 6,
   "id": "a9813d2e",
   "metadata": {},
   "outputs": [
    {
     "name": "stdout",
     "output_type": "stream",
     "text": [
      "0\n",
      "1\n",
      "2\n",
      "3\n",
      "4\n",
      "5\n",
      "6\n",
      "7\n",
      "8\n",
      "9\n"
     ]
    }
   ],
   "source": [
    "for i in range(0, 10):\n",
    "    print(i)"
   ]
  },
  {
   "cell_type": "markdown",
   "id": "70000004",
   "metadata": {},
   "source": [
    "範例：從0加到9"
   ]
  },
  {
   "cell_type": "code",
   "execution_count": 7,
   "id": "a7da3c4a",
   "metadata": {},
   "outputs": [
    {
     "name": "stdout",
     "output_type": "stream",
     "text": [
      "45\n"
     ]
    }
   ],
   "source": [
    "sum = 0\n",
    "\n",
    "for i in range(0,10)b:\n",
    "    sum += i\n",
    "\n",
    "print(sum)"
   ]
  },
  {
   "cell_type": "markdown",
   "id": "26bf3781",
   "metadata": {},
   "source": [
    "**list** 通常與 for 搭配使用\n",
    "範例："
   ]
  },
  {
   "cell_type": "code",
   "execution_count": 9,
   "id": "4b8c8795",
   "metadata": {},
   "outputs": [
    {
     "name": "stdout",
     "output_type": "stream",
     "text": [
      "bear\n",
      "bird\n",
      "cat\n",
      "dog\n",
      "elephant\n",
      "fox\n"
     ]
    }
   ],
   "source": [
    "animals = ['bear', 'bird', 'cat', 'dog', 'elephant', 'fox']\n",
    "\n",
    "for animal in animals:\n",
    "    print(animal)\n"
   ]
  },
  {
   "cell_type": "markdown",
   "id": "627502ef",
   "metadata": {},
   "source": [
    "**dict** 也可以和 for 搭配使用\n",
    "\n",
    "* 拿出dict裡的`keys`"
   ]
  },
  {
   "cell_type": "code",
   "execution_count": 12,
   "id": "5435a074",
   "metadata": {},
   "outputs": [
    {
     "name": "stdout",
     "output_type": "stream",
     "text": [
      "apple\n",
      "banana\n",
      "orange\n"
     ]
    }
   ],
   "source": [
    "fruits = {\"apple\": 10, \"banana\": 7, \"orange\": 8}\n",
    "\n",
    "for x in fruits:\n",
    "    print(x)"
   ]
  },
  {
   "cell_type": "markdown",
   "id": "42b4b76a",
   "metadata": {},
   "source": [
    "* 取出`key`對應的`值value`"
   ]
  },
  {
   "cell_type": "code",
   "execution_count": 13,
   "id": "bd93597f",
   "metadata": {},
   "outputs": [
    {
     "name": "stdout",
     "output_type": "stream",
     "text": [
      "10\n",
      "7\n",
      "8\n"
     ]
    }
   ],
   "source": [
    "fruits = {\"apple\": 10, \"banana\": 7, \"orange\": 8}\n",
    "\n",
    "for x in fruits:\n",
    "    print(fruits[x])"
   ]
  },
  {
   "cell_type": "markdown",
   "id": "8fe3cb99",
   "metadata": {},
   "source": [
    "* 取出 `key,value` 組合"
   ]
  },
  {
   "cell_type": "code",
   "execution_count": 14,
   "id": "df70ef31",
   "metadata": {},
   "outputs": [
    {
     "name": "stdout",
     "output_type": "stream",
     "text": [
      "apple 10\n",
      "banana 7\n",
      "orange 8\n"
     ]
    }
   ],
   "source": [
    "fruits = {\"apple\": 10, \"banana\": 7, \"orange\": 8}\n",
    "\n",
    "for x in fruits:\n",
    "    print(x, fruits[x])"
   ]
  },
  {
   "cell_type": "markdown",
   "id": "90ade16a",
   "metadata": {},
   "source": [
    "### While 迴圈\n",
    "\n",
    "當while內的條件成立就會執行內部程式碼，當程式需要不斷重覆某些運算，一直到出現符合設置的條件狀況才停止。\n",
    "\n",
    "while用法：\n",
    "\n",
    "```\n",
    "while 條件為真：\n",
    "    重複執行\n",
    "```\n"
   ]
  },
  {
   "cell_type": "code",
   "execution_count": 1,
   "id": "8361af12",
   "metadata": {},
   "outputs": [
    {
     "name": "stdout",
     "output_type": "stream",
     "text": [
      "0\n",
      "1\n",
      "2\n",
      "3\n",
      "4\n",
      "5\n",
      "6\n",
      "7\n",
      "8\n",
      "9\n"
     ]
    }
   ],
   "source": [
    "# 跑出 0-9\n",
    "\n",
    "x = 0\n",
    "while (x < 10):\n",
    "    print(x)\n",
    "    x += 1\n"
   ]
  },
  {
   "cell_type": "code",
   "execution_count": 2,
   "id": "4c2b6b45",
   "metadata": {},
   "outputs": [
    {
     "name": "stdout",
     "output_type": "stream",
     "text": [
      "45\n"
     ]
    }
   ],
   "source": [
    "# 加總0~9\n",
    "\n",
    "sum = 0\n",
    "i = 1\n",
    "while i < 10:\n",
    "    sum += i\n",
    "    i += 1\n",
    "    \n",
    "print(sum)"
   ]
  },
  {
   "cell_type": "markdown",
   "id": "3bc3ac96",
   "metadata": {},
   "source": [
    "#### continue\n",
    "\n",
    "在迴圈通常要把“內部動作”執行完一遍之後，才會重新比對迴圈條件是否成立。但在某些時候我們希望他不要執行“內部動作”，跳過這次回圈，直接重新比對迴圈條件是否成立，這時候就是使用`continue`。\n",
    "通常搭配 if...當某個條件成立，就跳過“執行內容”直接進入下一個迴圈。\n",
    "\n",
    "```\n",
    "for 或 while ( ..... ):\n",
    "    ......\n",
    "    if (條件式)\n",
    "        continue\n",
    "    ......\n",
    "```\n"
   ]
  },
  {
   "cell_type": "code",
   "execution_count": 4,
   "id": "1a9700b8",
   "metadata": {},
   "outputs": [
    {
     "name": "stdout",
     "output_type": "stream",
     "text": [
      "40\n"
     ]
    }
   ],
   "source": [
    "# 範例： 0~9加總，但排除5\n",
    "\n",
    "x = 0\n",
    "sum = 0\n",
    "while x < 10:\n",
    "    if (x==5):\n",
    "        x += 1\n",
    "        continue\n",
    "        \n",
    "    sum += x\n",
    "    x += 1\n",
    "    \n",
    "print(sum)"
   ]
  },
  {
   "cell_type": "markdown",
   "id": "3144b0f1",
   "metadata": {},
   "source": [
    "#### break\n",
    "\n",
    "break 用來停止 while 執行，while 為True 表示迴圈永遠成立，會一直執行。如果在迴圈內部加上 if 判斷條件和 break，就能讓迴圈條件成立的情況下結束執行。\n",
    "\n",
    "```\n",
    "for 或 while ( ..... ):\n",
    "    ......\n",
    "    if (條件式)\n",
    "        break\n",
    "    ......\n",
    "```"
   ]
  },
  {
   "cell_type": "code",
   "execution_count": 6,
   "id": "42a29433",
   "metadata": {},
   "outputs": [
    {
     "name": "stdout",
     "output_type": "stream",
     "text": [
      "45\n"
     ]
    }
   ],
   "source": [
    "# 範例： 0~9加總，讓while 為True 表示迴圈永遠成立，當x=10則停止。\n",
    "x = 0\n",
    "sum = 0\n",
    "while True:\n",
    "    sum += x\n",
    "    x += 1\n",
    "    if(x==10):\n",
    "        break\n",
    "        \n",
    "print(sum)"
   ]
  },
  {
   "cell_type": "markdown",
   "id": "1c31fe88",
   "metadata": {},
   "source": [
    "## 06 字串處理\n",
    "\n",
    "字串運用 - 單引號、雙引號括起來的都是字串。\n",
    "字串的常見用法:\n",
    "    \n",
    "### 字串切割 - split()\n",
    "\n",
    "當我們輸入的文字檔或者接收到的資料，可以利用`split()`切割字串，\n",
    "轉換成 list 方便後續分析處理。\n",
    "\n",
    "```\n",
    "str.split(str=''). #' ' 填入要分割的符號\n",
    "```\n"
   ]
  },
  {
   "cell_type": "code",
   "execution_count": 8,
   "id": "29fe7ab0",
   "metadata": {},
   "outputs": [
    {
     "name": "stdout",
     "output_type": "stream",
     "text": [
      "['bear', 'cat', 'dog', 'elephant']\n"
     ]
    }
   ],
   "source": [
    "str1 = 'bear, cat, dog, elephant'\n",
    "arr = str1.split(', ')\n",
    "print(arr)"
   ]
  },
  {
   "cell_type": "markdown",
   "id": "76d5c858",
   "metadata": {},
   "source": [
    "### 取得特定範圍的字串\n",
    "\n",
    "string 和 list 一樣都可以取特定部分的內容"
   ]
  },
  {
   "cell_type": "code",
   "execution_count": 10,
   "id": "902083e4",
   "metadata": {},
   "outputs": [
    {
     "name": "stdout",
     "output_type": "stream",
     "text": [
      "hello world\n",
      "h\n",
      "r\n",
      "ello wo\n",
      "ello world\n",
      "hello w\n"
     ]
    }
   ],
   "source": [
    "str1 = 'hello world'\n",
    "\n",
    "print (str1)      # 輸出完整的str\n",
    "print (str1[0])   # 輸出str1索引值0的位置 => 第一個字元\n",
    "print(str1[-3])   # 輸出str1索引值-3的位置 => 倒數第三個字元\n",
    "print (str1[1:8]) # 輸出第二到第八個字元\n",
    "print (str1[1:])  # 輸出第二到最後一個字元\n",
    "print (str1[:7])  # 輸出第一到第七個字元"
   ]
  },
  {
   "cell_type": "markdown",
   "id": "cb35503c",
   "metadata": {},
   "source": [
    "### 大小寫轉換"
   ]
  },
  {
   "cell_type": "code",
   "execution_count": 12,
   "id": "f7adaa75",
   "metadata": {},
   "outputs": [
    {
     "name": "stdout",
     "output_type": "stream",
     "text": [
      "HELLO WORLD!\n",
      "hello world!\n",
      "HELLO WORLD!\n",
      "Hello World!\n",
      "Hello world!\n"
     ]
    }
   ],
   "source": [
    "str1 = 'hello world!'\n",
    "\n",
    "print(str1.upper())      #全部字元轉成大寫\n",
    "print(str1.lower())      #全部字元轉成小寫\n",
    "print(str1.swapcase())   #將大小寫顛倒\n",
    "\n",
    "print(str1.title())      #每個單字首字大寫\n",
    "print(str1.capitalize()) #第一個字母大寫"
   ]
  },
  {
   "cell_type": "markdown",
   "id": "851155a4",
   "metadata": {},
   "source": [
    "### 計算字串長度"
   ]
  },
  {
   "cell_type": "code",
   "execution_count": 14,
   "id": "ac734ad9",
   "metadata": {},
   "outputs": [
    {
     "name": "stdout",
     "output_type": "stream",
     "text": [
      "12 7\n"
     ]
    }
   ],
   "source": [
    "str1 = 'hello world!'\n",
    "str2 = 'python!'\n",
    "print(len(str1),len(str2))"
   ]
  },
  {
   "cell_type": "markdown",
   "id": "2cb23836",
   "metadata": {},
   "source": [
    "### 替換字串\n",
    "\n",
    "```\n",
    "str.replace(old, new[, max])\n",
    "```\n",
    "\n",
    "參數\n",
    "* old -> 要更換的字串。\n",
    "* new -> 新的字串。\n",
    "* max -> 最多換掉幾次。"
   ]
  },
  {
   "cell_type": "code",
   "execution_count": 15,
   "id": "3c1c0ce4",
   "metadata": {},
   "outputs": [
    {
     "name": "stdout",
     "output_type": "stream",
     "text": [
      "Today was great for learning python! That was good! Thwas was example\n",
      "Today was great for learning python! That was good! This is example\n"
     ]
    }
   ],
   "source": [
    "str1 = \"Today is great for learning python! That is good! This is example\"\n",
    "print(str1.replace(\"is\", \"was\"))\n",
    "print(str1.replace(\"is\", \"was\", 2))"
   ]
  },
  {
   "cell_type": "markdown",
   "id": "673ede84",
   "metadata": {},
   "source": [
    "### 查找字串\n",
    "\n",
    "```\n",
    "str.find(str, beg=0 end=len(string))\n",
    "```\n",
    "\n",
    "參數\n",
    "* str -> 要找的字串。\n",
    "* beg -> 開始找的位置。\n",
    "* end -> 結束的位置。\n",
    "\n",
    "回傳\n",
    "* 如果有找到就回傳位置，沒有找到則回傳-1"
   ]
  },
  {
   "cell_type": "code",
   "execution_count": 18,
   "id": "12da88ef",
   "metadata": {},
   "outputs": [
    {
     "name": "stdout",
     "output_type": "stream",
     "text": [
      "0\n"
     ]
    }
   ],
   "source": [
    "str1 = 'hello world!'\n",
    "str2 = 'hello'\n",
    "print(str1.find(str2))"
   ]
  },
  {
   "cell_type": "markdown",
   "id": "34a22ab3",
   "metadata": {},
   "source": [
    "### 字串串連\n",
    "\n",
    "```\n",
    "str.join(sequence)\n",
    "```"
   ]
  },
  {
   "cell_type": "code",
   "execution_count": 20,
   "id": "8ca5692b",
   "metadata": {},
   "outputs": [
    {
     "name": "stdout",
     "output_type": "stream",
     "text": [
      "a & b & c\n"
     ]
    }
   ],
   "source": [
    "str1 = ' & '\n",
    "tup = ('a', 'b', 'c')\n",
    "print(str1.join(tup))"
   ]
  },
  {
   "cell_type": "markdown",
   "id": "80db8a42",
   "metadata": {},
   "source": [
    "## 07 如何處理 JSON\n",
    "\n",
    "很多資料的傳輸格式都是使用json, 所以對於json資料處理就很重要。\n",
    "JSON（JavaScript Object Notation）輕量級的資料交換語言，容易閱讀的文字為主，用來傳輸由屬性值或者序列性的值組成的資料物件。\n",
    "\n",
    "### JSON格式:\n",
    "\n",
    "* 陣列(array)用中括號 `[ ]`\n",
    "* 物件(object)用大括號 `{ }`, 用key-value的方式儲存\n",
    "\n",
    "```json\n",
    "{\n",
    "  \"id\": 123,\n",
    "  \"Name\": \"wsrsw\",\n",
    "  \"Email\": \"wsrsw@example.com\",\n",
    "  \"contents\": [\n",
    "    {\n",
    "      \"subject\":\"Math\", \n",
    "      \"score\":80\n",
    "    },\n",
    "    {\n",
    "      \"subject\":\"English\", \n",
    "      \"score\":90\n",
    "    }\n",
    "  ]\n",
    "}\n",
    "```"
   ]
  },
  {
   "cell_type": "markdown",
   "id": "e5361a6a",
   "metadata": {},
   "source": [
    "### JSON 模組\n",
    "\n",
    "json是現有REST API的主流形式。json的編碼和解碼在python 中可以透過`json`套件完成。\n",
    "json與python資料類型轉換關係表:\n",
    "\n",
    "Python|JSON\n",
    ":----:|:--:\n",
    "dict|object\n",
    "list, tuple|array\n",
    "str, unicode|string\n",
    "int, long, float|number\n",
    "True|true\n",
    "False|false\n",
    "None|null"
   ]
  },
  {
   "cell_type": "markdown",
   "id": "a3263c29",
   "metadata": {},
   "source": [
    "### Python物件與JSON類型轉換\n",
    "\n",
    "#### JSON字串轉Python dict\n",
    "\n",
    "python json字串轉成python物件\n",
    "需要使用json模塊的`loads()`"
   ]
  },
  {
   "cell_type": "code",
   "execution_count": 23,
   "id": "c700e4b4",
   "metadata": {},
   "outputs": [
    {
     "name": "stdout",
     "output_type": "stream",
     "text": [
      "{'id': 123, 'Name': 'simon', 'Email': 'simon@wistron.com'}\n",
      "<class 'dict'>\n"
     ]
    }
   ],
   "source": [
    "import json\n",
    "str1 = '{\"id\": 123, \"Name\": \"simon\", \"Email\": \"simon@wistron.com\"}'\n",
    "j = json.loads(str1)\n",
    "\n",
    "print(j)\n",
    "print(type(j))"
   ]
  },
  {
   "cell_type": "markdown",
   "id": "81bca011",
   "metadata": {},
   "source": [
    "### Python dict轉JSON字串\n",
    "\n",
    "python物件轉json字串\n",
    "需要使用json模塊的`dumps()`"
   ]
  },
  {
   "cell_type": "code",
   "execution_count": 26,
   "id": "5ff42ab9",
   "metadata": {},
   "outputs": [
    {
     "name": "stdout",
     "output_type": "stream",
     "text": [
      "{\"id\": 123, \"Name\": \"simon\", \"Email\": \"simon@wistron.com\"}\n",
      "<class 'str'>\n"
     ]
    }
   ],
   "source": [
    "import json\n",
    "j = {'id': 123, 'Name': 'simon', 'Email': 'simon@wistron.com'}\n",
    "str1 = json.dumps(j)\n",
    "\n",
    "print(str1)\n",
    "print(type(str1))"
   ]
  },
  {
   "cell_type": "markdown",
   "id": "739356c0",
   "metadata": {},
   "source": [
    "### Python dict包含list轉JSON字串\n",
    "\n",
    "可以使用`indent` => 可以使得數據存儲的格式容易解讀。"
   ]
  },
  {
   "cell_type": "code",
   "execution_count": 29,
   "id": "3acdb190",
   "metadata": {},
   "outputs": [
    {
     "name": "stdout",
     "output_type": "stream",
     "text": [
      "{'id': [1, 2, 3], 'name': ['Tim', 'Bob', 'Lucy']}\n",
      "{\n",
      "    \"id\": [\n",
      "        1,\n",
      "        2,\n",
      "        3\n",
      "    ],\n",
      "    \"name\": [\n",
      "        \"Tim\",\n",
      "        \"Bob\",\n",
      "        \"Lucy\"\n",
      "    ]\n",
      "} <class 'str'>\n"
     ]
    }
   ],
   "source": [
    "import json\n",
    "\n",
    "# dict\n",
    "python_dict = {\"id\": [1, 2, 3], \"name\": [\"Tim\", \"Bob\", \"Lucy\"]}\n",
    "\n",
    "print(python_dict)\n",
    "\n",
    "# convert to json string\n",
    "j = json.dumps(python_dict, indent = 4)\n",
    "\n",
    "print(j, type(j))"
   ]
  },
  {
   "cell_type": "markdown",
   "id": "61b2f0ad",
   "metadata": {},
   "source": [
    "## 08 檔案 I/O\n",
    "\n",
    "### 讀取檔案\n",
    "\n",
    "在python可以處理文字檔中的資訊，可以一次讀取全部的內容，也可以一行一行的讀取。\n",
    "\n",
    "Python內建函式`open()`可以開啟指定檔案，可以讀取、寫入和修改檔案內容。\n",
    "\n",
    "#### open(): 開啟檔案\n",
    "    \n",
    "```\n",
    "open(filename[,mode])\n",
    "```\n",
    "\n",
    "參數:\n",
    "* filename 要讀寫的檔案名稱 (字串型態、不可省略)。\n",
    "* mode 開啟檔案的模式 (字串型態、可以省略，預設為讀取r)。\n",
    "\n",
    "通常都是用r、w、a來控制。\n",
    "\n",
    "檔案讀寫模式如下:\n",
    "\n",
    "字元|說明\n",
    ":---|:-----------------------------------------------------------\n",
    "r\t|只讀取檔案(唯讀)。檔案必須存在。\n",
    "r+\t|讀取寫入檔案(讀寫)。不會新建檔案，檔案必須存在，寫入會覆蓋原本內容。\n",
    "w\t|新建寫入檔案(只寫)。文件內容清零。\n",
    "w+\t|新建讀取寫入檔案(讀寫)。文件內容清零。\n",
    "a\t|寫入檔案(只寫)。新增在檔案後面，不會覆蓋原本的。\n",
    "a+\t|允許新增與讀取(讀寫)。新增在檔案後面，不會覆蓋原本的\n",
    "\n",
    "#### close(): 關閉檔案，關閉後就不能進行讀寫動作"
   ]
  },
  {
   "cell_type": "code",
   "execution_count": 31,
   "id": "504523d8",
   "metadata": {},
   "outputs": [],
   "source": [
    "# 寫入檔案\n",
    "\n",
    "# 使用w+\n",
    "f = open(\"test.txt\", \"w+\")\n",
    "f.write( \"123\\n\")\n",
    "f.close()\n",
    "\n",
    "# 使用r+\n",
    "f = open(\"test.txt\", \"r+\")\n",
    "f.write( \"456\\n\")\n",
    "f.close()\n",
    "\n",
    "# 使用a+\n",
    "f = open(\"test.txt\", \"a+\")\n",
    "f.write( \"789\\n\")\n",
    "f.close()\n"
   ]
  },
  {
   "cell_type": "markdown",
   "id": "0242ed38",
   "metadata": {},
   "source": [
    "這時候就會出現一個txt檔案，來看一下內容吧！\n",
    "\n",
    "```text\n",
    "456\n",
    "789\n",
    "```\n",
    "\n",
    "所以可以知道 r+ 是會覆蓋檔案，a+ 則是附加在檔案後面！\n",
    "再來試試輸入一次試試看r+如何覆蓋檔案。"
   ]
  },
  {
   "cell_type": "code",
   "execution_count": 33,
   "id": "5de71caf",
   "metadata": {},
   "outputs": [],
   "source": [
    "# 使用w+\n",
    "f = open(\"test.txt\", \"w+\")\n",
    "f.write( \"try123\\n\")\n",
    "f.close()\n",
    "\n",
    "# 使用r+\n",
    "f = open(\"test.txt\", \"r+\")\n",
    "f.write( \"456\\n\")\n",
    "f.close()\n",
    "\n",
    "# 使用a+\n",
    "f = open(\"test.txt\", \"a+\")\n",
    "f.write( \"789\\n\")\n",
    "f.close()"
   ]
  },
  {
   "cell_type": "markdown",
   "id": "aaa5ac79",
   "metadata": {},
   "source": [
    "結果:\n",
    "    \n",
    "```\n",
    "456\n",
    "23\n",
    "789\n",
    "```\n",
    "\n",
    "r+寫入了123\\n 一共是4個元素，並且加在檔案最前面，\n",
    "因此他蓋掉了w+ 的前4個元素，所以就只剩下23。"
   ]
  },
  {
   "cell_type": "markdown",
   "id": "49bae745",
   "metadata": {},
   "source": [
    "### 檔案處理\n",
    "\n",
    "來創建個簡單的txt檔案吧！\n",
    "\n",
    "```\n",
    "檔名= hello.txt\n",
    "Hello\n",
    "World\n",
    "123\n",
    "456\n",
    "789\n",
    "```\n",
    "\n",
    "把檔案讀取進來後，接著就是將檔案內容放進變數裡。\n",
    "這裡介詔三種方法:\n",
    "    \n",
    "* read()\n",
    "* readline()\n",
    "* readlines()"
   ]
  },
  {
   "cell_type": "markdown",
   "id": "b2612240",
   "metadata": {},
   "source": [
    "#### read([size]) 方法:\n",
    "\n",
    "size 可以指定要讀取多少字元，沒指定就是讀取全部。"
   ]
  },
  {
   "cell_type": "code",
   "execution_count": 36,
   "id": "930c4c6a",
   "metadata": {},
   "outputs": [
    {
     "name": "stdout",
     "output_type": "stream",
     "text": [
      "Hello\n",
      "World\n",
      "123\n",
      "456\n",
      "789\n",
      "<class 'str'>\n"
     ]
    }
   ],
   "source": [
    "f = open('hello.txt', 'r')\n",
    "\n",
    "lines = f.read() # 沒指定size\n",
    "print(lines)\n",
    "print(type(lines))\n",
    "\n",
    "f.close()"
   ]
  },
  {
   "cell_type": "markdown",
   "id": "53667b9d",
   "metadata": {},
   "source": [
    "#### readline() 方法：\n",
    "\n",
    "每次讀一行 => 讀取時佔用記憶體小，比較適合大檔案。"
   ]
  },
  {
   "cell_type": "code",
   "execution_count": 38,
   "id": "ef008efc",
   "metadata": {},
   "outputs": [
    {
     "name": "stdout",
     "output_type": "stream",
     "text": [
      "Hello\n",
      "World\n",
      "123\n",
      "456\n",
      "789\n"
     ]
    }
   ],
   "source": [
    "f = open('hello.txt', 'r')\n",
    "line = f.readline().replace('\\n','') #去掉換行\n",
    "\n",
    "while line:\n",
    "    print(line)\n",
    "    line = f.readline().replace('\\n','') #去掉換行\n",
    "\n",
    "f.close()"
   ]
  },
  {
   "cell_type": "markdown",
   "id": "b60c295d",
   "metadata": {},
   "source": [
    "#### readlines() 方法:\n",
    "\n",
    "讀取整個檔案內容，儲存在list串列中，一行為一個元素，讀取大檔案會比較佔記憶體。\n",
    "若使用`with`則不須使用`f.close()`。"
   ]
  },
  {
   "cell_type": "code",
   "execution_count": 39,
   "id": "0a52d62d",
   "metadata": {},
   "outputs": [
    {
     "name": "stdout",
     "output_type": "stream",
     "text": [
      "['Hello\\n', 'World\\n', '123\\n', '456\\n', '789']\n"
     ]
    }
   ],
   "source": [
    "with open('hello.txt', 'r') as f:\n",
    "    lines = f.readlines()\n",
    "    \n",
    "print(lines)"
   ]
  },
  {
   "cell_type": "markdown",
   "id": "84c123bc",
   "metadata": {},
   "source": [
    "## 09 函式 Function\n",
    "\n",
    "一旦程式功能變多，相同的功能的程式碼會重複出現，導致程式碼太長、太醜、太難修改，所以需要函式來簡化 - 相同事件只要寫一次就好。\n",
    "\n",
    "函式(function)：可以設置參數，也可以數值傳給其他函式，以及return value。\n",
    "\n",
    "語法：`def functionName()`: 用`:`縮排來表示function區塊。\n",
    "        \n",
    "* 定義函式-我們需要用到`def`關鍵字來告知python我們要定義一個函式\n"
   ]
  },
  {
   "cell_type": "code",
   "execution_count": 2,
   "id": "3e6455cc",
   "metadata": {},
   "outputs": [
    {
     "name": "stdout",
     "output_type": "stream",
     "text": [
      "hello world\n",
      "2\n"
     ]
    }
   ],
   "source": [
    "def try_function():       # 定義try_function()函式\n",
    "    print(\"hello world\")  # 函式的工作是印出hello world\n",
    "    return(1+1)           # 函式回傳的值\n",
    "\n",
    "x = try_function()        # 呼叫try_function()函式,函式回傳的值放進x變數中\n",
    "print(x)"
   ]
  },
  {
   "cell_type": "markdown",
   "id": "0455d30d",
   "metadata": {},
   "source": [
    "* 把參數帶入函式內 - 在已經定義的函式括號內放入參數。"
   ]
  },
  {
   "cell_type": "code",
   "execution_count": 4,
   "id": "70b9a49a",
   "metadata": {},
   "outputs": [
    {
     "name": "stdout",
     "output_type": "stream",
     "text": [
      "Hello data engineer\n"
     ]
    }
   ],
   "source": [
    "def try_function(name):      # 定義try_function()函式,接收name這個參數\n",
    "    print(\"Hello \" + name)   # 函式的工作是印出Hello 加上參數name的值\n",
    "\n",
    "try_function(\"data engineer\")        # 呼叫try_function()函式,函式帶入'data engineer'參數"
   ]
  },
  {
   "cell_type": "markdown",
   "id": "fc0fca81",
   "metadata": {},
   "source": [
    "### 遞迴\n",
    "\n",
    "在解決問題時有時需要回到上一個計算或者需要應用到上一個解法的答案，此時就是利用遞迴的概念來撰寫一個函式。\n",
    "\n",
    "* 特點:\n",
    "    * 將大問題拆解成重複性的小問題\n",
    "    * 自己呼叫自己、設置終止目標\n",
    "    * 範例:階乘、費氏數列、最大公因數、最小公倍數...\n",
    "        \n",
    "階乘 Factorial\n",
    "\n",
    "`n! = 1 x 2 x ... x (n-1) x n`\n",
    "\n",
    "`n! = n x (n-1)!`\n",
    "\n",
    "`n! = n x (n-1) x (n-2) x (n-3) ... x 1`\n",
    "\n",
    "3! = 3x2x1\n",
    "\n",
    "Factorial(3) \n",
    "\n",
    "= 3 * Factorial(2)\n",
    "\n",
    "= 3 * 2 * Factorial(1)\n",
    "\n",
    "= 3 * 2 * 1\n"
   ]
  },
  {
   "cell_type": "code",
   "execution_count": 6,
   "id": "32261d84",
   "metadata": {},
   "outputs": [
    {
     "name": "stdout",
     "output_type": "stream",
     "text": [
      "請輸入數字: 4\n",
      "4! = 24\n"
     ]
    }
   ],
   "source": [
    "def factorial(n):\n",
    "    if n == 1:\n",
    "        return 1\n",
    "    else:\n",
    "        return n * factorial(n-1)\n",
    "    \n",
    "num = int(input('請輸入數字: ')) \n",
    "answer = factorial(num)\n",
    "print(str(num) + '! = ' + str(answer))"
   ]
  },
  {
   "cell_type": "markdown",
   "id": "b98590d3",
   "metadata": {},
   "source": [
    "## 10 類別 Class\n",
    "\n",
    "物件導向當中的類別是抽象描述那些有共同性質的物件，大家可以一起使用，不需重複輸寫，方便且容易修改。內容描述了該類別物件共同的性質，及實現共同行為的方法。\n",
    "\n",
    "例如對學生資料大家都是相同的:\n",
    "\n",
    "類別名稱: Student\n",
    "資料:班級、姓名、學號、手機\n",
    "分數:國文、英文、數學、自然\n",
    "    \n",
    "* 語法:\n",
    "    * 使用class來完成類別的結構\n",
    "    * 定義類別的語法 => class 類別名稱:\n",
    "    * 宣告物件的方法 => 物件名稱 = 類別建構子名稱\n",
    "    \n",
    "```\n",
    "class 類別名稱:\n",
    "    #類別建構式\n",
    "    def __init__(self, 其他參數...):\n",
    "    .\n",
    "    .\n",
    "    def 自訂方法(self, 其他參數...):\n",
    "    .\n",
    "    .\n",
    "```\n",
    "\n",
    "* 建構子:\n",
    "\n",
    "建構子語法如下：\n",
    "`def __init__(self, 其他參數):`\n",
    "    \n",
    "就算是在建構子裡面`self`也是必須傳入的參數！這個方法的開頭和結尾都有兩個**底線**。\n",
    "\n",
    "範例:\n",
    "Student開啟一個類別，代表所有學生可以取用這個類別的設定，避免重複的函式。"
   ]
  },
  {
   "cell_type": "code",
   "execution_count": 7,
   "id": "a0b1f93d",
   "metadata": {},
   "outputs": [
    {
     "name": "stdout",
     "output_type": "stream",
     "text": [
      "Simon\n"
     ]
    }
   ],
   "source": [
    "class Student():\n",
    "    def __init__(self, name):\n",
    "        self.name = name\n",
    "        \n",
    "a = Student(\"Simon\") #建立一個名叫Simon的Student實體(物件)\n",
    "print(a.name)"
   ]
  },
  {
   "cell_type": "markdown",
   "id": "2681e92d",
   "metadata": {},
   "source": [
    "範例中加了一個name屬性，在創class時，都必須要給這個屬性一個參數\n",
    "才能成功創造實體。\n",
    "\n",
    "* 取用Class自己的屬性\n",
    "使用類別自己的變數、函數都須要加上`self.`變數名稱才能使用"
   ]
  },
  {
   "cell_type": "code",
   "execution_count": 8,
   "id": "4e1180a3",
   "metadata": {},
   "outputs": [
    {
     "name": "stdout",
     "output_type": "stream",
     "text": [
      "學生姓名:Simon\n",
      "學生座號:22\n",
      "分數平均:80.0\n"
     ]
    }
   ],
   "source": [
    "class Student():\n",
    "    def __init__(self, name, num):\n",
    "        self.name = name\n",
    "        self.num = num\n",
    "    def avg(self, chinese, english, math):\n",
    "        avg = chinese + english + math\n",
    "        avg /= 3\n",
    "        return avg\n",
    "    \n",
    "s = Student(\"Simon\",22)  #變數s 呼叫Student() class\n",
    "print(\"學生姓名:\" + s.name)\n",
    "print(\"學生座號:\" + str(s.num))\n",
    "\n",
    "avg = s.avg(90, 80, 70) #直接使用s.avg 呼叫 Student()裡面的avg function\n",
    "print(\"分數平均:\" + str(avg))"
   ]
  }
 ],
 "metadata": {
  "kernelspec": {
   "display_name": "Python 3",
   "language": "python",
   "name": "python3"
  },
  "language_info": {
   "codemirror_mode": {
    "name": "ipython",
    "version": 3
   },
   "file_extension": ".py",
   "mimetype": "text/x-python",
   "name": "python",
   "nbconvert_exporter": "python",
   "pygments_lexer": "ipython3",
   "version": "3.7.10"
  },
  "toc": {
   "base_numbering": 1,
   "nav_menu": {},
   "number_sections": false,
   "sideBar": true,
   "skip_h1_title": false,
   "title_cell": "Table of Contents",
   "title_sidebar": "Contents",
   "toc_cell": false,
   "toc_position": {},
   "toc_section_display": true,
   "toc_window_display": true
  }
 },
 "nbformat": 4,
 "nbformat_minor": 5
}
