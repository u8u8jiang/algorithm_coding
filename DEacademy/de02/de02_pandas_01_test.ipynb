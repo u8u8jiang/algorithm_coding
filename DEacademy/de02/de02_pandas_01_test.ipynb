{
 "cells": [
  {
   "attachments": {},
   "cell_type": "markdown",
   "id": "cf746296",
   "metadata": {},
   "source": [
    "## de02-1 pandas 基礎: 作業\n",
    "\n",
    "這個作業的目的**主要是要學員了解如何使用pandas來進行數據的處理（新增、修改、刪除與選取)**。當然還有以下其它的功能:\n",
    "\n",
    "* Cleaning\n",
    "* Filtering\n",
    "* Sorting\n",
    "* Deduplication\n",
    "\n",
    "至於數據的**合併、分割與聚合**會在de02-2章節練習。\n",
    "* Joining\n",
    "* Splitting\n",
    "* Summarization\n"
   ]
  },
  {
   "cell_type": "code",
   "execution_count": null,
   "id": "390c65c9",
   "metadata": {},
   "outputs": [],
   "source": [
    "import pandas as pd\n",
    "\n",
    "# 使用dict來建立dataframe物件\n",
    "grades = {\n",
    "    \"name\": [\"Mike\", \"Sherry\", \"Cindy\", \"John\"],\n",
    "    \"math\": [80, 75, 93, 86],\n",
    "    \"chinese\": [63, 90, 85, 70]\n",
    "}\n",
    "\n",
    "df = pd.DataFrame(grades)\n",
    "\n",
    "print(\"原來的dataframe:\")\n",
    "print(df)"
   ]
  },
  {
   "cell_type": "markdown",
   "id": "b04ca0d5",
   "metadata": {},
   "source": [
    "## 範例#0A\n",
    "\n",
    "利用index及columns屬性(Attribute)來客製化Pandas DataFrame的資料索引成為`[\"s1\",\"s2\",\"s3\", \"s4\"]`及欄位名稱成為` [\"student_name\", \"math_score\", \"chinese_score\"]`, 並打印出來"
   ]
  },
  {
   "cell_type": "code",
   "execution_count": null,
   "id": "9190039a",
   "metadata": {},
   "outputs": [],
   "source": [
    "# example-0A: 客製化Pandas DataFrame的資料索引及欄位名稱\n",
    "import pandas as pd \n",
    "\n",
    "grades = {\n",
    "    \"name\": [\"Mike\", \"Sherry\", \"Cindy\", \"John\"],\n",
    "    \"math\": [80, 75, 93, 86],\n",
    "    \"chinese\": [63, 90, 85, 70]\n",
    "}\n",
    "\n",
    "df = pd.DataFrame(grades)\n",
    "\n",
    "print(\"原來的dataframe:\")\n",
    "print(df)\n",
    "\n",
    "print(\"=================================\")\n",
    "print(\"處理結果:\")\n",
    "\n",
    "## write your code below\n",
    "df.index = [\"s1\", \"s2\", \"s3\", \"s4\"] # 自訂索引值\n",
    "df.columns = [\"student_name\", \"math_score\", \"chinese_score\"] # 自訂欄位名稱\n",
    "print(df)"
   ]
  },
  {
   "cell_type": "markdown",
   "id": "bf9f43e4",
   "metadata": {},
   "source": [
    "## 範例#0B\n",
    "\n",
    "利用`head()`函數來取得dataframe最前面的2筆資料, 並打印出來"
   ]
  },
  {
   "cell_type": "code",
   "execution_count": null,
   "id": "ee9c9d39",
   "metadata": {},
   "outputs": [],
   "source": [
    "## example-0B\n",
    "\n",
    "import pandas as pd \n",
    " \n",
    "grades = {\n",
    "    \"name\": [\"Mike\", \"Sherry\", \"Cindy\", \"John\"],\n",
    "    \"math\": [80, 75, 93, 86],\n",
    "    \"chinese\": [63, 90, 85, 70]\n",
    "}\n",
    " \n",
    "df = pd.DataFrame(grades)\n",
    "\n",
    "print(\"原來的dataframe:\")\n",
    "print(df)\n",
    " \n",
    "print(\"=================================\")\n",
    "print(\"處理結果:\")\n",
    "\n",
    "## write your code below\n",
    "print(df.head(2))"
   ]
  },
  {
   "cell_type": "markdown",
   "id": "eb13dce7",
   "metadata": {},
   "source": [
    "## 範例#0C\n",
    "\n",
    "利用`tail()`函數來取得最後面的3筆資料, 並打印出來"
   ]
  },
  {
   "cell_type": "code",
   "execution_count": null,
   "id": "410070bd",
   "metadata": {},
   "outputs": [],
   "source": [
    "## example-0C\n",
    "\n",
    "import pandas as pd \n",
    " \n",
    "grades = {\n",
    "    \"name\": [\"Mike\", \"Sherry\", \"Cindy\", \"John\"],\n",
    "    \"math\": [80, 75, 93, 86],\n",
    "    \"chinese\": [63, 90, 85, 70]\n",
    "}\n",
    " \n",
    "df = pd.DataFrame(grades)\n",
    "\n",
    "print(\"原來的dataframe:\")\n",
    "print(df)\n",
    " \n",
    "print(\"=================================\")\n",
    "print(\"處理結果:\")\n",
    "\n",
    "## write your code below\n",
    "\n",
    "new_df = df.tail(3)\n",
    "print(new_df)"
   ]
  },
  {
   "cell_type": "markdown",
   "id": "d11a318f",
   "metadata": {},
   "source": [
    "## 範例#0D\n",
    "\n",
    "利用在中括號`[]`中指定「欄位名稱」，來取得`name`與`chinese`的資料, 並打印出來"
   ]
  },
  {
   "cell_type": "code",
   "execution_count": null,
   "id": "b019edbb",
   "metadata": {},
   "outputs": [],
   "source": [
    "## example-0D\n",
    "import pandas as pd \n",
    " \n",
    "grades = {\n",
    "    \"name\": [\"Mike\", \"Sherry\", \"Cindy\", \"John\"],\n",
    "    \"math\": [80, 75, 93, 86],\n",
    "    \"chinese\": [63, 90, 85, 70]\n",
    "}\n",
    " \n",
    "df = pd.DataFrame(grades)\n",
    "\n",
    "print(\"原來的dataframe:\")\n",
    "print(df)\n",
    " \n",
    "print(\"=================================\")\n",
    "print(\"處理結果:\")\n",
    "\n",
    "## write your code below\n",
    "\n",
    "new_df = df[[\"name\", \"chinese\"]]\n",
    "print(new_df)"
   ]
  },
  {
   "cell_type": "markdown",
   "id": "3538dade",
   "metadata": {},
   "source": [
    "## 範例#0E\n",
    "\n",
    "利用`at[資料索引值,欄位名稱]`來取得索引值為`1`的`math`欄位資料, 並打印出來"
   ]
  },
  {
   "cell_type": "code",
   "execution_count": null,
   "id": "8b5b8376",
   "metadata": {},
   "outputs": [],
   "source": [
    "## example-0E\n",
    "import pandas as pd \n",
    " \n",
    "grades = {\n",
    "    \"name\": [\"Mike\", \"Sherry\", \"Cindy\", \"John\"],\n",
    "    \"math\": [80, 75, 93, 86],\n",
    "    \"chinese\": [63, 90, 85, 70]\n",
    "}\n",
    " \n",
    "df = pd.DataFrame(grades)\n",
    "\n",
    "print(\"原來的dataframe:\")\n",
    "print(df)\n",
    " \n",
    "print(\"=================================\")\n",
    "print(\"處理結果:\")\n",
    "\n",
    "## write your code below\n",
    "\n",
    "print(df.at[1, \"math\"])"
   ]
  },
  {
   "cell_type": "markdown",
   "id": "dee73bfe",
   "metadata": {},
   "source": [
    "## 範例#0F\n",
    "\n",
    "利用`loc[資料索引值,欄位名稱]`來取得資料索引值為`1`和`3`的`name`及`chinese`欄位資料, 並打印出來"
   ]
  },
  {
   "cell_type": "code",
   "execution_count": null,
   "id": "3786c3e6",
   "metadata": {},
   "outputs": [],
   "source": [
    "## example-0F\n",
    "import pandas as pd \n",
    " \n",
    "grades = {\n",
    "    \"name\": [\"Mike\", \"Sherry\", \"Cindy\", \"John\"],\n",
    "    \"math\": [80, 75, 93, 86],\n",
    "    \"chinese\": [63, 90, 85, 70]\n",
    "}\n",
    " \n",
    "df = pd.DataFrame(grades)\n",
    "\n",
    "print(\"原來的dataframe:\")\n",
    "print(df)\n",
    " \n",
    "print(\"=================================\")\n",
    "print(\"處理結果:\")\n",
    "\n",
    "## write your code below\n",
    "print(df.loc[[1, 3], [\"name\", \"chinese\"]])"
   ]
  },
  {
   "cell_type": "markdown",
   "id": "8b2d1013",
   "metadata": {},
   "source": [
    "## 範例#0G\n",
    "\n",
    "利用`insert()`在指定的欄位`第2欄`位置新增欄位資料\"`english`\"而值為`[88, 72, 74, 98]`, 並打印出來"
   ]
  },
  {
   "cell_type": "code",
   "execution_count": null,
   "id": "f3aa93cb",
   "metadata": {},
   "outputs": [],
   "source": [
    "## example-0G\n",
    "import pandas as pd \n",
    " \n",
    "grades = {\n",
    "    \"name\": [\"Mike\", \"Sherry\", \"Cindy\", \"John\"],\n",
    "    \"math\": [80, 75, 93, 86],\n",
    "    \"chinese\": [63, 90, 85, 70]\n",
    "}\n",
    " \n",
    "df = pd.DataFrame(grades)\n",
    "\n",
    "print(\"原來的dataframe:\")\n",
    "print(df)\n",
    " \n",
    "print(\"=================================\")\n",
    "print(\"處理結果:\")\n",
    "df.insert(2, column=\"english\", value=[88, 72, 74, 98])\n",
    "print(df)"
   ]
  },
  {
   "cell_type": "markdown",
   "id": "241c1ebf",
   "metadata": {},
   "source": [
    "## 範例#0H\n",
    "\n",
    "利用`append()`透過傳入字典(dict)物件指定各欄位的值新增一筆資料`{\"name\": \"Henry\", \"math\": 60, \"chinese\": 62}`, 並打印出來"
   ]
  },
  {
   "cell_type": "code",
   "execution_count": null,
   "id": "a7a28d72",
   "metadata": {},
   "outputs": [],
   "source": [
    "## example-0H\n",
    "import pandas as pd \n",
    " \n",
    "grades = {\n",
    "    \"name\": [\"Mike\", \"Sherry\", \"Cindy\", \"John\"],\n",
    "    \"math\": [80, 75, 93, 86],\n",
    "    \"chinese\": [63, 90, 85, 70]\n",
    "}\n",
    " \n",
    "df = pd.DataFrame(grades)\n",
    "\n",
    "print(\"原來的dataframe:\")\n",
    "print(df)\n",
    " \n",
    "print(\"=================================\")\n",
    "print(\"處理結果:\")\n",
    "\n",
    "new_df = df.append({\n",
    "    \"name\": \"Henry\",\n",
    "    \"math\": 60,\n",
    "    \"chinese\": 62,\n",
    "}, ignore_index=True)\n",
    "\n",
    "print(new_df)"
   ]
  },
  {
   "cell_type": "markdown",
   "id": "16238e4e",
   "metadata": {},
   "source": [
    "## 作業#01\n",
    "\n",
    "利用Pandas DataFrame的`at[]`取得索引值為`1`的`math`欄位資料，接著進行資料內容的修改成為`100`, 並打印出來"
   ]
  },
  {
   "cell_type": "code",
   "execution_count": null,
   "id": "bc48dbb6",
   "metadata": {},
   "outputs": [],
   "source": [
    "## task01\n",
    "import pandas as pd \n",
    " \n",
    "grades = {\n",
    "    \"name\": [\"Mike\", \"Sherry\", \"Cindy\", \"John\"],\n",
    "    \"math\": [80, 75, 93, 86],\n",
    "    \"chinese\": [63, 90, 85, 70]\n",
    "}\n",
    " \n",
    "df = pd.DataFrame(grades)\n",
    "\n",
    "print(\"原來的dataframe:\")\n",
    "print(df)\n",
    " \n",
    "print(\"=================================\")\n",
    "print(\"處理結果:\")\n",
    "\n",
    "# Write your code below\n",
    "\n",
    "\n",
    "\n"
   ]
  },
  {
   "cell_type": "markdown",
   "id": "cc1b3d73",
   "metadata": {},
   "source": [
    "## 作業#02\n",
    "\n",
    "利用`drop(欄位名稱列表,axis=1)`刪除指定欄位名稱的欄位`math`, 並打印出來"
   ]
  },
  {
   "cell_type": "code",
   "execution_count": null,
   "id": "0fe94ea4",
   "metadata": {},
   "outputs": [],
   "source": [
    "## task02\n",
    "import pandas as pd \n",
    " \n",
    "grades = {\n",
    "    \"name\": [\"Mike\", \"Sherry\", \"Cindy\", \"John\"],\n",
    "    \"math\": [80, 75, 93, 86],\n",
    "    \"chinese\": [63, 90, 85, 70]\n",
    "}\n",
    " \n",
    "df = pd.DataFrame(grades)\n",
    "\n",
    "print(\"原來的dataframe:\")\n",
    "print(df)\n",
    " \n",
    "print(\"=================================\")\n",
    "print(\"處理結果:\")\n",
    "\n",
    "# Write your code below\n",
    "\n",
    "\n",
    "\n"
   ]
  },
  {
   "cell_type": "markdown",
   "id": "713bdb8e",
   "metadata": {},
   "source": [
    "## 作業#03\n",
    "\n",
    "利用`drop(資料索引列表,axis=0)`刪除指定資料索引的資料`[0, 3]`, 並打印出來"
   ]
  },
  {
   "cell_type": "code",
   "execution_count": null,
   "id": "5feff006",
   "metadata": {},
   "outputs": [],
   "source": [
    "## task03\n",
    "import pandas as pd \n",
    " \n",
    "grades = {\n",
    "    \"name\": [\"Mike\", \"Sherry\", \"Cindy\", \"John\"],\n",
    "    \"math\": [80, 75, 93, 86],\n",
    "    \"chinese\": [63, 90, 85, 70]\n",
    "}\n",
    " \n",
    "df = pd.DataFrame(grades)\n",
    "\n",
    "print(\"原來的dataframe:\")\n",
    "print(df)\n",
    " \n",
    "print(\"=================================\")\n",
    "print(\"處理結果:\")\n",
    "\n",
    "# Write your code below\n",
    "\n",
    "\n",
    "\n"
   ]
  },
  {
   "cell_type": "markdown",
   "id": "e6ef086c",
   "metadata": {},
   "source": [
    "## 作業#04\n",
    "\n",
    "利用`dropna()`刪除含有NaN或空值的資料, 並打印出來"
   ]
  },
  {
   "cell_type": "code",
   "execution_count": null,
   "id": "426ffa16",
   "metadata": {},
   "outputs": [],
   "source": [
    "## task04\n",
    "import pandas as pd \n",
    "import numpy as np\n",
    "\n",
    "grades = {\n",
    "    \"name\": [\"Mike\", \"Sherry\", np.NaN, \"John\"],\n",
    "    \"city\": [\"Taipei\", np.NaN, \"Kaohsiung\", \"Taichung\"],\n",
    "    \"math\": [80, 75, 93, 86],\n",
    "    \"chinese\": [63, 90, 85, 70]\n",
    "}\n",
    " \n",
    "df = pd.DataFrame(grades)\n",
    "\n",
    "print(\"原來的dataframe:\")\n",
    "print(df)\n",
    " \n",
    "print(\"=================================\")\n",
    "print(\"處理結果:\")\n",
    "\n",
    "# Write your code below\n",
    "\n",
    "\n",
    "\n"
   ]
  },
  {
   "cell_type": "markdown",
   "id": "ac68363b",
   "metadata": {},
   "source": [
    "## 作業#05\n",
    "\n",
    "利用`drop_duplicates()`刪除重複的資料, 並打印出來"
   ]
  },
  {
   "cell_type": "code",
   "execution_count": null,
   "id": "bab73e46",
   "metadata": {},
   "outputs": [],
   "source": [
    "## task05\n",
    "import pandas as pd \n",
    " \n",
    "grades = {\n",
    "    \"name\": [\"Mike\", \"Mike\", \"Cindy\", \"John\"],\n",
    "    \"city\": [\"Taipei\", \"Taipei\", \"Kaohsiung\", \"Taichung\"],\n",
    "    \"math\": [80, 80, 93, 86],\n",
    "    \"chinese\": [80, 80, 93, 86]\n",
    "}\n",
    " \n",
    "df = pd.DataFrame(grades)\n",
    "print(\"原來的df\")\n",
    "print(df)\n",
    " \n",
    "print(\"======================================\")\n",
    "print(\"處理結果:\")\n",
    "\n",
    "# Write your code below\n",
    "\n",
    "\n",
    "\n"
   ]
  },
  {
   "cell_type": "markdown",
   "id": "60e81b31",
   "metadata": {},
   "source": [
    "## 作業#06\n",
    "\n",
    "利用`中括號[]`存取欄位來篩選`math`大於`80`的資料, 並打印出來"
   ]
  },
  {
   "cell_type": "code",
   "execution_count": null,
   "id": "6962fcbd",
   "metadata": {},
   "outputs": [],
   "source": [
    "## task06\n",
    "import pandas as pd \n",
    " \n",
    "grades = {\n",
    "    \"name\": [\"Mike\", \"Sherry\", \"Cindy\", \"John\"],\n",
    "    \"math\": [80, 75, 93, 86],\n",
    "    \"chinese\": [63, 90, 85, 70]\n",
    "}\n",
    " \n",
    "df = pd.DataFrame(grades)\n",
    "print(\"原來的df\")\n",
    "print(df)\n",
    " \n",
    "print(\"======================================\")\n",
    "print(\"處理結果:\")\n",
    "\n",
    "# Write your code below\n",
    "\n",
    "\n",
    "\n"
   ]
  },
  {
   "cell_type": "markdown",
   "id": "28cb2bf0",
   "metadata": {},
   "source": [
    "## 作業#07\n",
    "\n",
    "利用`isin()`來篩選出`name`欄位包含`John`字串的資料, 並打印出來"
   ]
  },
  {
   "cell_type": "code",
   "execution_count": null,
   "id": "6c4a9ce7",
   "metadata": {},
   "outputs": [],
   "source": [
    "## task07\n",
    "import pandas as pd \n",
    " \n",
    "grades = {\n",
    "    \"name\": [\"Mike\", \"Sherry\", \"Cindy\", \"John\"],\n",
    "    \"math\": [80, 75, 93, 86],\n",
    "    \"chinese\": [63, 90, 85, 70]\n",
    "}\n",
    " \n",
    "df = pd.DataFrame(grades)\n",
    "print(\"原來的df\")\n",
    "print(df)\n",
    " \n",
    "print(\"======================================\")\n",
    "print(\"處理結果:\")\n",
    "\n",
    "# Write your code below\n",
    "\n",
    "\n",
    "\n"
   ]
  },
  {
   "cell_type": "markdown",
   "id": "ea806d9a",
   "metadata": {},
   "source": [
    "## 作業#08\n",
    "\n",
    "利用`sort_index()`依照索引值來進行`遞增`(ascending)排序, 並打印出來"
   ]
  },
  {
   "cell_type": "code",
   "execution_count": null,
   "id": "121550dc",
   "metadata": {},
   "outputs": [],
   "source": [
    "## task08\n",
    "import pandas as pd \n",
    " \n",
    "grades = {\n",
    "    \"name\": [\"Mike\", \"Sherry\", \"Cindy\", \"John\"],\n",
    "    \"math\": [80, 75, 93, 86],\n",
    "    \"chinese\": [63, 90, 85, 70]\n",
    "}\n",
    " \n",
    "df = pd.DataFrame(grades)\n",
    "df.index = [\"s3\", \"s1\", \"s4\", \"s2\"]  # 自訂資料索引值\n",
    "\n",
    "print(\"原來的df\")\n",
    "print(df)\n",
    " \n",
    "print(\"======================================\")\n",
    "print(\"處理結果:\")\n",
    "\n",
    "# Write your code below\n",
    "\n",
    "\n",
    "\n"
   ]
  },
  {
   "cell_type": "markdown",
   "id": "6f0d7447",
   "metadata": {},
   "source": [
    "## 作業#09\n",
    "\n",
    "利用`sort_index()`依照索引值來進行`遞減`(desending)排序, 並打印出來"
   ]
  },
  {
   "cell_type": "code",
   "execution_count": null,
   "id": "85be8d3b",
   "metadata": {},
   "outputs": [],
   "source": [
    "## task09\n",
    "import pandas as pd \n",
    " \n",
    "grades = {\n",
    "    \"name\": [\"Mike\", \"Sherry\", \"Cindy\", \"John\"],\n",
    "    \"math\": [80, 75, 93, 86],\n",
    "    \"chinese\": [63, 90, 85, 70]\n",
    "}\n",
    " \n",
    "df = pd.DataFrame(grades)\n",
    "df.index = [\"s3\", \"s1\", \"s4\", \"s2\"]  # 自訂資料索引值\n",
    "\n",
    "print(\"原來的df\")\n",
    "print(df)\n",
    " \n",
    "print(\"======================================\")\n",
    "print(\"處理結果:\")\n",
    "\n",
    "# Write your code below\n",
    "\n",
    "\n",
    "\n"
   ]
  },
  {
   "cell_type": "markdown",
   "id": "5948a468",
   "metadata": {},
   "source": [
    "## 作業#10\n",
    "\n",
    "利用`sort_values()`依照欄位內容來進行`遞減`(desending)排序, 並打印出來"
   ]
  },
  {
   "cell_type": "code",
   "execution_count": null,
   "id": "ee3a4ddf",
   "metadata": {},
   "outputs": [],
   "source": [
    "## task10\n",
    "import pandas as pd \n",
    " \n",
    "grades = {\n",
    "    \"name\": [\"Mike\", \"Sherry\", \"Cindy\", \"John\"],\n",
    "    \"math\": [80, 75, 93, 86],\n",
    "    \"chinese\": [63, 90, 85, 70]\n",
    "}\n",
    " \n",
    "df = pd.DataFrame(grades)\n",
    "\n",
    "print(\"原來的df\")\n",
    "print(df)\n",
    " \n",
    "print(\"======================================\")\n",
    "print(\"處理結果:\")\n",
    "\n",
    "# Write your code below\n",
    "\n",
    "\n",
    "\n"
   ]
  }
 ],
 "metadata": {
  "kernelspec": {
   "display_name": "Python 3",
   "language": "python",
   "name": "python3"
  },
  "language_info": {
   "codemirror_mode": {
    "name": "ipython",
    "version": 3
   },
   "file_extension": ".py",
   "mimetype": "text/x-python",
   "name": "python",
   "nbconvert_exporter": "python",
   "pygments_lexer": "ipython3",
   "version": "3.7.10"
  },
  "toc": {
   "base_numbering": 1,
   "nav_menu": {},
   "number_sections": true,
   "sideBar": true,
   "skip_h1_title": false,
   "title_cell": "Table of Contents",
   "title_sidebar": "Contents",
   "toc_cell": false,
   "toc_position": {},
   "toc_section_display": true,
   "toc_window_display": true
  }
 },
 "nbformat": 4,
 "nbformat_minor": 5
}
