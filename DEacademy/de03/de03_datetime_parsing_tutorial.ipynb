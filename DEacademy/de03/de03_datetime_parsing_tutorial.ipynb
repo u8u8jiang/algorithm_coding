{
 "cells": [
  {
   "cell_type": "markdown",
   "id": "de53c28f",
   "metadata": {},
   "source": [
    "# Pandas 轉換/解析字串成為Datetime"
   ]
  },
  {
   "cell_type": "markdown",
   "id": "f61faf99",
   "metadata": {},
   "source": [
    "Pandas有一個好用的`.to_datetime()`方法可以將日期的字串轉換為實際的Pandas的`Timestamp`時間戳資料型別。如果要利用Pandas來進行時間序列分析情境時, 這個轉換就非常重要。"
   ]
  },
  {
   "cell_type": "markdown",
   "id": "07d74b5b",
   "metadata": {},
   "source": [
    "## Pandas.to_datetime( ) 方法\n",
    "\n",
    "![](images/pandas_to_datetime.png)"
   ]
  },
  {
   "cell_type": "markdown",
   "id": "9c78b48c",
   "metadata": {},
   "source": [
    "`.to_datetime()`有蠻多的參數：\n",
    "\n",
    "* **arg**: 這是你要轉換為日期時間對象的“東西”。你可以傳入int, float, string, datetime, list, tuple, Series, DataFrame, 或 dict。\n",
    "* **format (Default=None)**: *非常重要* format參數將指示Pandas如何將字串轉換為`DateTime`物件。該格式必須使用以下格式代碼。\n",
    "* **origin (Default='unix')**: 起點只是參考日期。你想從哪裡開始創建時間戳記？預設設置為Unix，即`1970-01-01`。\n",
    "* **unit**: 假設在arg參數傳遞了一個整數（例如20203939），並設定`unit`參數，則`unit`可以指定這的整數離原點的時間距離是多什麼單位。如果我們設置unit='s'，則這意味著Pandas會將20203939解釋為距離原點20,203,939秒。可用時間單位為`[D，s，ms，us，ns]`。\n",
    "* **dayfirst**: 這個參數可幫助Pandas了解要解析的字串是否以是day在前而year在後的格式（例如：01/02/2020 > 2020-02-01）。我建議先嘗試使用其他參數。\n",
    "* **yearfirst**: 這個參數可幫助Pandas了解要解析的字串是否以是year在前而day在後的格式（例如：2020-02-01 > 01/02/2020）。我建議先嘗試使用其他參數。\n",
    "* **utc(Default=None)**: 如果要將DateTime對象轉換為可識別時區（意味著每個`datetime`物件也具有時區資訊），並且希望將該時區設置為UTC，則設置utc=True。\n",
    "\n",
    "理解它們都很重要。熟悉它們之後，你還需要了解以下日期格式代碼。"
   ]
  },
  {
   "cell_type": "markdown",
   "id": "8c4a18a4",
   "metadata": {},
   "source": [
    "## 日期時間格式代碼\n",
    "\n",
    "要理解的一個非常重要的概念是DateTime格式代碼。這是指示Pandas如何解析日期字串的指引。\n",
    "\n",
    "|Format Code|Description|Examples|\n",
    "|:--- |:--- |:--- |\n",
    "|%a|Weekday, abbreviated|Mon, Tues, Sat|\n",
    "|%A|Weekday, full name|Monday, Tuesday, Saturday|\n",
    "|%w|Weekday, decimal. 0=Sunday|1, 2, 6|\n",
    "|%d|Day of month, zero-padded|01, 02, 21|\n",
    "|%b|Month, abbreviated|Jan, Feb, Sep|\n",
    "|%B|Month, full name|January, February, September|\n",
    "|%m|Month number, zero-padded|01, 02, 09|\n",
    "|%y|Year, without century, zero-padded|02, 95, 99|\n",
    "|%Y|Year, with century|1990, 2020|\n",
    "|%H|Hour (24 hour), zero padded|01, 22|\n",
    "|%I|Hour (12 hour) zero padded|01, 12|\n",
    "|%p|AM or PM|AM, PM|\n",
    "|%M|Minute, zero-padded|01, 02, 43|\n",
    "|%S|Second, zero padded|01, 32, 59|\n",
    "|%f|Microsecond, zero-padded|000001, 000342, 999999|\n",
    "|%z|UTC offset ±HHMM[SS[.ffffff]]|+0000, -1030, -3423.234|\n",
    "|%Z|Time zone name|ITC, EST, CST|\n",
    "|%j|Day of year, zero-padded|001, 365, 023|\n",
    "|%U|Week # of year, zero-padded. Sunday first day of week|00, 01, 51|\n",
    "|%W|Week # of year, zero-padded. Monday first day of week|00, 02, 51|\n",
    "|%c|Appropriate date and time|Monday Feb 01 21:30:00 1990|\n",
    "|%x|Appropriate Date|02/01/90|\n",
    "|%X|Appropriate Time|21:22:00|\n",
    "|%%|Literal '%' – Use this when you have a % sign in your format.|%|"
   ]
  },
  {
   "cell_type": "markdown",
   "id": "07d6c8cc",
   "metadata": {},
   "source": [
    "## 解析日期字串成為Datetime\n",
    "\n",
    "Pandas的`to_datetime()`是一個很有用的函數。讓我們將一些字串轉換為日期時間：\n",
    "\n",
    "1. 標量字串(scalar string)的基本轉換\n",
    "2. 轉換 Pandas `Series` 成為 `datetime`\n",
    "3. 轉換 Pandas `Series` 成為 `datetime` (使用custom format)\n",
    "4. 轉換 Unix integer (days) 成為 `datetime`\n",
    "5. 轉換 integer (seconds) 成為 `datetime`\n"
   ]
  },
  {
   "cell_type": "markdown",
   "id": "606f5144",
   "metadata": {},
   "source": [
    "### 標量字串(scalar string)的基本轉換\n",
    "\n",
    "要將任何字串轉換為日期時間，你需要直接從pandas庫中調用`.to_datetime()`。\n",
    "\n",
    "對於第一個範例，我們將顯示變量的類型，並展示從字串到日期時間的變化。"
   ]
  },
  {
   "cell_type": "code",
   "execution_count": 7,
   "id": "7cfa0332",
   "metadata": {},
   "outputs": [
    {
     "name": "stdout",
     "output_type": "stream",
     "text": [
      "Your string: 2020-02-01\n",
      "Your string_to_convert type: <class 'str'>\n",
      "\n",
      "Your new date is: 2020-02-01 00:00:00\n",
      "Your new type is: <class 'pandas._libs.tslibs.timestamps.Timestamp'>\n"
     ]
    }
   ],
   "source": [
    "string_to_convert = '2020-02-01'\n",
    "print(f'Your string: {string_to_convert}')\n",
    "print(f'Your string_to_convert type: {type(string_to_convert)}')\n",
    "print()\n",
    "\n",
    "# Convert your string\n",
    "new_date = pd.to_datetime(string_to_convert)\n",
    "\n",
    "print(f'Your new date is: {new_date}')\n",
    "print(f'Your new type is: {type(new_date)}')"
   ]
  },
  {
   "cell_type": "markdown",
   "id": "32f704f9",
   "metadata": {},
   "source": [
    "### 轉換 Pandas Series 成為 datetime\n",
    "\n",
    "讓我們創建一個`Series`物件:"
   ]
  },
  {
   "cell_type": "code",
   "execution_count": 9,
   "id": "e9110415",
   "metadata": {},
   "outputs": [
    {
     "name": "stdout",
     "output_type": "stream",
     "text": [
      "<class 'pandas.core.series.Series'>\n",
      "0    2020-02-01\n",
      "1    2020-02-02\n",
      "2    2020-02-03\n",
      "3    2020-02-04\n",
      "dtype: object\n"
     ]
    }
   ],
   "source": [
    "s = pd.Series(['2020-02-01',\n",
    "               '2020-02-02',\n",
    "               '2020-02-03',\n",
    "               '2020-02-04'])\n",
    "\n",
    "print(type(s))\n",
    "print(s)"
   ]
  },
  {
   "cell_type": "code",
   "execution_count": 11,
   "id": "73bff346",
   "metadata": {},
   "outputs": [
    {
     "name": "stdout",
     "output_type": "stream",
     "text": [
      "<class 'pandas.core.series.Series'>\n",
      "0   2020-02-01\n",
      "1   2020-02-02\n",
      "2   2020-02-03\n",
      "3   2020-02-04\n",
      "dtype: datetime64[ns]\n"
     ]
    }
   ],
   "source": [
    "s = pd.to_datetime(s)\n",
    "\n",
    "print(type(s))\n",
    "print(s)"
   ]
  },
  {
   "cell_type": "markdown",
   "id": "b38dc39d",
   "metadata": {},
   "source": [
    "你可以注意轉換前的dtype是`object`, 而轉換後則成為`datetime64[ns]`的dtype。"
   ]
  },
  {
   "cell_type": "markdown",
   "id": "33852d75",
   "metadata": {},
   "source": [
    "### 轉換 Pandas Series 成為 datetime (使用custom format)\n",
    "\n",
    "讓我們了解一下使用**日期格式代碼**來進行Datetime轉換的強大功能。假設我們有一個包含日期的凌亂字串，並且需要將其轉換為日期。我們需要告訴Pandas如何進行轉換，這是通過**日期格式代碼**完成的。"
   ]
  },
  {
   "cell_type": "code",
   "execution_count": 12,
   "id": "775da75b",
   "metadata": {},
   "outputs": [
    {
     "name": "stdout",
     "output_type": "stream",
     "text": [
      "<class 'pandas.core.series.Series'>\n",
      "0    My 3date is 01199002\n",
      "1    My 3date is 02199015\n",
      "2    My 3date is 03199020\n",
      "3    My 3date is 09199204\n",
      "dtype: object\n"
     ]
    }
   ],
   "source": [
    "s = pd.Series(['My 3date is 01199002',\n",
    "           'My 3date is 02199015',\n",
    "           'My 3date is 03199020',\n",
    "           'My 3date is 09199204'])\n",
    "\n",
    "print(type(s))\n",
    "print(s)"
   ]
  },
  {
   "cell_type": "code",
   "execution_count": 13,
   "id": "8222c83a",
   "metadata": {},
   "outputs": [
    {
     "name": "stdout",
     "output_type": "stream",
     "text": [
      "<class 'pandas.core.series.Series'>\n",
      "0   1990-01-02\n",
      "1   1990-02-15\n",
      "2   1990-03-20\n",
      "3   1992-09-04\n",
      "dtype: datetime64[ns]\n"
     ]
    }
   ],
   "source": [
    "s = pd.to_datetime(s, format=\"My 3date is %m%Y%d\")\n",
    "\n",
    "print(type(s))\n",
    "print(s)"
   ]
  },
  {
   "cell_type": "markdown",
   "id": "0297aaf1",
   "metadata": {},
   "source": [
    "你可以注意轉換前的dtype是`object`, 而轉換後則成為`datetime64[ns]`的dtype。"
   ]
  },
  {
   "cell_type": "markdown",
   "id": "7b7cc4c0",
   "metadata": {},
   "source": [
    "### 轉換 Unix integer (days) 成為 datetime\n",
    "\n",
    "你還可以將整數轉換為日期時間。但需要記住兩點：\n",
    "\n",
    "1. 時間參考的起點？\n",
    "2. 數字的時間單位是什麼？\n",
    "\n",
    "**Reference point** = 想從什麼時候開始\"計算\"這個時間?\n",
    "\n",
    "**Unit**=時間單位是days, seconds, years還是?"
   ]
  },
  {
   "cell_type": "code",
   "execution_count": 16,
   "id": "13ae530b",
   "metadata": {},
   "outputs": [
    {
     "name": "stdout",
     "output_type": "stream",
     "text": [
      "<class 'pandas._libs.tslibs.timestamps.Timestamp'>\n",
      "2009-11-06 00:00:00\n"
     ]
    }
   ],
   "source": [
    "result = pd.to_datetime(14554, unit='D', origin='unix')\n",
    "\n",
    "print(type(result))\n",
    "print(result)"
   ]
  },
  {
   "cell_type": "markdown",
   "id": "b935a5ee",
   "metadata": {},
   "source": [
    "### 轉換 integer (seconds) 成為 datetime\n",
    "\n",
    "更常見的是，我們常獲得以秒為單位的unix時間戳(epoch time: 從1970-01-01 00:00:00累積至某個時間點的秒數)。"
   ]
  },
  {
   "cell_type": "code",
   "execution_count": 19,
   "id": "d428744c",
   "metadata": {},
   "outputs": [
    {
     "name": "stdout",
     "output_type": "stream",
     "text": [
      "<class 'pandas._libs.tslibs.timestamps.Timestamp'>\n",
      "2009-11-06 00:00:00\n"
     ]
    }
   ],
   "source": [
    "ts = pd.to_datetime(1600355888, unit='s', origin='unix')\n",
    "\n",
    "print(type(result))\n",
    "print(result)"
   ]
  }
 ],
 "metadata": {
  "kernelspec": {
   "display_name": "Python 3",
   "language": "python",
   "name": "python3"
  },
  "language_info": {
   "codemirror_mode": {
    "name": "ipython",
    "version": 3
   },
   "file_extension": ".py",
   "mimetype": "text/x-python",
   "name": "python",
   "nbconvert_exporter": "python",
   "pygments_lexer": "ipython3",
   "version": "3.7.10"
  },
  "toc": {
   "base_numbering": 1,
   "nav_menu": {},
   "number_sections": true,
   "sideBar": true,
   "skip_h1_title": false,
   "title_cell": "Table of Contents",
   "title_sidebar": "Contents",
   "toc_cell": false,
   "toc_position": {},
   "toc_section_display": true,
   "toc_window_display": false
  }
 },
 "nbformat": 4,
 "nbformat_minor": 5
}
