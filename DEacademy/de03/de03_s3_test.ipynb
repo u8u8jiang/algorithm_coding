{
 "cells": [
  {
   "cell_type": "markdown",
   "id": "35986e4a",
   "metadata": {},
   "source": [
    "# de03 S3 連接操作: 作業\n",
    "\n",
    "**S3 連接參數**\n",
    "\n",
    "為了教學的目的, 學院在地端啟動了Minio的服務來模擬公有雲的s3服務。\n",
    "\n",
    "請使用以下的帳號來登入Minio, 每個學員都是不同的登入帳號與密碼:\n",
    "\n",
    "* `endpoint_url` (s3服務的網路位址): **http://10.34.124.114:9000**\n",
    "* `aws_access_key_id` (使用者帳號): **你/妳的工號**\n",
    "* `aws_secret_access_key` (使用者密碼): **學院指派的密碼**\n",
    "* `region_name` (區域編碼): **us-east-1**"
   ]
  },
  {
   "cell_type": "markdown",
   "id": "4f043ce3",
   "metadata": {},
   "source": [
    "**範例數據**: `nyc_taxi_dataset.zip`檔案是`紐約市計程車和禮車協會`所發佈的一個公開資料集。\n",
    "\n",
    "* 檔案目錄: `data/nyc_taxi_dataset.zip`\n",
    "* 資料筆數: 729,322 （73萬筆）\n",
    "* 資料格式: CSV\n",
    "\n",
    "資料欄位:\n",
    "* id - 車程編號\n",
    "* vendor_id - 計程車行編號\n",
    "* pickup_datetime - 上車日期時間\n",
    "* dropoff_datetime - 下車日期時間\n",
    "* passenger_count - 乘客人數\n",
    "* pickup_longitude - 上車經度\n",
    "* pickup_latitude - 上車緯度\n",
    "* dropoff_longitude - 下車經度\n",
    "* dropoff_latitude - 下車緯度\n",
    "* store_and_fwd_flag - 是否直接連線上傳b Y/N\n",
    "* trip_duration - 車程持續時間(以秒為單位)"
   ]
  },
  {
   "cell_type": "markdown",
   "id": "3d9cda13",
   "metadata": {},
   "source": [
    "## 作業#01\n",
    "\n",
    "將CSV文件加載到DataFrame中並導出成Parquet文件(並且以gzip來進行壓縮), 然後上傳到學員個人的bucket(工號轉成lower-case)。\n",
    "\n",
    "* **bucket_name**: {工號}\n",
    "* **object_key**: nyc_taxi_trip_duration.parquet.gz"
   ]
  },
  {
   "cell_type": "code",
   "execution_count": null,
   "id": "1f15703c",
   "metadata": {},
   "outputs": [],
   "source": [
    "## task01\n",
    "\n"
   ]
  },
  {
   "cell_type": "markdown",
   "id": "c50b7dae",
   "metadata": {},
   "source": [
    "## 作業#02\n",
    "\n",
    "透過教學的方法,來從s3 (minio)上讀取這個nyc_taxi_trip_duration.parquet.gz檔案, 並計算出總共有多少名乘客數(total passengers)。並打印出來。\n",
    "\n",
    "* **bucket_name**: {工號}\n",
    "* **object_key**: nyc_taxi_trip_duration.parquet.gz"
   ]
  },
  {
   "cell_type": "code",
   "execution_count": null,
   "id": "4fbac079",
   "metadata": {},
   "outputs": [],
   "source": [
    "## task02\n",
    "\n",
    "total_passenger = 0\n",
    "\n",
    "\n",
    "\n",
    "\n",
    "\n",
    "\n",
    "\n",
    "\n",
    "print(f'Total passengers: {total_passenger}')"
   ]
  },
  {
   "cell_type": "markdown",
   "id": "54068588",
   "metadata": {},
   "source": [
    "## 作業#03\n",
    "\n",
    "以下的程式碼執行後的'dates'欄的資料型別為`object`。請對它進行日期的解析轉換,然後再把結果的Dataframe打印出來。\n",
    "最後`dates`的型別應該為`datetime64[ns]`。"
   ]
  },
  {
   "cell_type": "code",
   "execution_count": null,
   "id": "d090a835",
   "metadata": {},
   "outputs": [],
   "source": [
    "import pandas as pd\n",
    "\n",
    "values = {'dates':  ['20190902','20190913','20190921'],\n",
    "          'status': ['Opened','Opened','Closed']\n",
    "          }\n",
    "\n",
    "df = pd.DataFrame(values, columns = ['dates','status'])\n",
    "\n",
    "\n",
    "print(df.info())\n",
    "print(df)"
   ]
  },
  {
   "cell_type": "code",
   "execution_count": null,
   "id": "dd28bf5c",
   "metadata": {},
   "outputs": [],
   "source": [
    "## task03\n",
    "\n",
    "\n",
    "\n",
    "\n",
    "\n",
    "\n",
    "\n",
    "\n",
    "\n",
    "\n",
    "print(df.info())\n",
    "print(df)"
   ]
  },
  {
   "cell_type": "markdown",
   "id": "3946ddc6",
   "metadata": {},
   "source": [
    "## 作業#04\n",
    "\n",
    "以下的程式碼執行後的'dates'欄的資料型別為`object`。請對它進行日期的解析轉換,然後再把結果的Dataframe打印出來。\n",
    "最後`dates`的型別應該為`datetime64[ns]`。"
   ]
  },
  {
   "cell_type": "code",
   "execution_count": null,
   "id": "22ce0bd7",
   "metadata": {},
   "outputs": [],
   "source": [
    "import pandas as pd\n",
    "\n",
    "values = {'dates':  ['20190902093000','20190913093000','20190921200000'],\n",
    "          'status': ['Opened','Opened','Closed']}\n",
    "\n",
    "df = pd.DataFrame(values, columns = ['dates','status'])\n",
    "\n",
    "print(df.info())\n",
    "print(df)"
   ]
  },
  {
   "cell_type": "code",
   "execution_count": null,
   "id": "4aa604c6",
   "metadata": {},
   "outputs": [],
   "source": [
    "## task04\n",
    "\n",
    "\n",
    "\n",
    "\n",
    "\n",
    "\n",
    "\n",
    "\n",
    "\n",
    "\n",
    "print(df.info())\n",
    "print(df)"
   ]
  },
  {
   "cell_type": "markdown",
   "id": "67bfa8a0",
   "metadata": {},
   "source": [
    "## 作業#05\n",
    "\n",
    "以下的程式碼執行後的'dates'欄的資料型別為`object`。請對它進行日期的解析轉換,然後再把結果的Dataframe打印出來。\n",
    "最後`dates`的型別應該為`datetime64[ns]`。"
   ]
  },
  {
   "cell_type": "code",
   "execution_count": null,
   "id": "9196bb97",
   "metadata": {},
   "outputs": [],
   "source": [
    "import pandas as pd\n",
    "\n",
    "values = {'dates':  ['20190902-093000','20190913-093000','20190921-200000'],\n",
    "          'status': ['Opened','Opened','Closed']}\n",
    "\n",
    "df = pd.DataFrame(values, columns = ['dates','status'])\n",
    "\n",
    "print(df.info())\n",
    "print(df)"
   ]
  },
  {
   "cell_type": "code",
   "execution_count": null,
   "id": "7310687a",
   "metadata": {},
   "outputs": [],
   "source": [
    "## task05\n",
    "\n",
    "\n",
    "\n",
    "\n",
    "\n",
    "\n",
    "\n",
    "\n",
    "\n",
    "\n",
    "print(df.info())\n",
    "print(df)"
   ]
  }
 ],
 "metadata": {
  "kernelspec": {
   "display_name": "Python 3",
   "language": "python",
   "name": "python3"
  },
  "language_info": {
   "codemirror_mode": {
    "name": "ipython",
    "version": 3
   },
   "file_extension": ".py",
   "mimetype": "text/x-python",
   "name": "python",
   "nbconvert_exporter": "python",
   "pygments_lexer": "ipython3",
   "version": "3.7.10"
  },
  "toc": {
   "base_numbering": 1,
   "nav_menu": {},
   "number_sections": true,
   "sideBar": true,
   "skip_h1_title": false,
   "title_cell": "Table of Contents",
   "title_sidebar": "Contents",
   "toc_cell": false,
   "toc_position": {},
   "toc_section_display": true,
   "toc_window_display": false
  }
 },
 "nbformat": 4,
 "nbformat_minor": 5
}
