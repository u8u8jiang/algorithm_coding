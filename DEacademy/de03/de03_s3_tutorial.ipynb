{
 "cells": [
  {
   "cell_type": "markdown",
   "id": "7a33e875",
   "metadata": {},
   "source": [
    "# Python, Boto3, 與 AWS S3\n",
    "\n",
    "亞馬遜網絡服務（AWS）已成為雲計算領域的領導者。它的核心組件之一是`S3`，它是AWS提供的物件存儲服務(Object Storage Service)。憑藉其令人印象深刻的可用性和耐用性，它已成為存儲視頻，圖像和數據的標準方法。\n",
    "\n",
    "`Boto3`是AWS的Python SDK的名稱。它允許你直接使用Python腳本來創建，更新和刪除AWS資源。\n",
    "\n",
    "在本次的教程裡會使用地端的Minio服務器(S3-compatible)來學習如何使用Python來整合Object storage服務。"
   ]
  },
  {
   "cell_type": "markdown",
   "id": "670caaa8",
   "metadata": {},
   "source": [
    "## 安裝Boto3套件\n",
    "\n",
    "如果未來在自己本地的機器要連接到S3的服務時, 必需要先行安裝`boto3`套件。\n",
    "\n",
    "```bash\n",
    "pip install boto3\n",
    "```\n",
    "\n",
    "> 本教程的共用環境己經先行幫大家安裝好了\n",
    "\n",
    "參考: https://boto3.amazonaws.com/v1/documentation/api/latest/reference/services/s3.html"
   ]
  },
  {
   "cell_type": "markdown",
   "id": "c1baa75b",
   "metadata": {},
   "source": [
    "### S3 連接參數\n",
    "\n",
    "要連接到aws的s3服務需要以下的基本參數：\n",
    "\n",
    "* `endpoint_url` (s3服務的網路位址)\n",
    "* `aws_access_key_id` (使用者帳號)\n",
    "* `aws_secret_access_key` (使用者密碼)\n",
    "* `region_name` (區域編碼)\n",
    "\n",
    "為了教學的目的, 學院在地端啟動了Minio的服務來模擬公有雲的s3服務。\n",
    "\n",
    "以下的帳號是為了本次訓練所建(admin的權限), 例如:\n",
    "\n",
    "* `endpoint_url` (s3服務的網路位址): **http://10.34.124.114:9500**\n",
    "* `aws_access_key_id` (使用者帳號): **demo**\n",
    "* `aws_secret_access_key` (使用者密碼): **demo8888**\n",
    "* `region_name` (區域編碼): **us-east-1**\n",
    "\n"
   ]
  },
  {
   "cell_type": "markdown",
   "id": "5fb92a2f",
   "metadata": {},
   "source": [
    "### Boto3的Client與Resource類別\n",
    "\n",
    "從本質上講，Boto3所做的只是代表你去調用AWS API。對於大多數AWS服務，Boto3提供了兩種不同的方法來訪問這些抽象的API：\n",
    "\n",
    "* **Client**: low-level 服務存取\n",
    "* **Resource**: higher-level object-oriented 服務存取\n",
    "\n",
    "你可以使用其中任何一個與S3進行交互。\n",
    "\n",
    "要連接到low-level界面，你必須使用Boto3的`client()`構建函數。然後，輸入要連接的服務的名稱，在這種情況下為`s3`：\n",
    "\n",
    "> API的參考文件: https://boto3.amazonaws.com/v1/documentation/api/latest/reference/services/s3.html#client"
   ]
  },
  {
   "cell_type": "code",
   "execution_count": 1,
   "id": "756149df",
   "metadata": {},
   "outputs": [],
   "source": [
    "import boto3\n",
    "\n",
    "s3_client = boto3.client('s3', \n",
    "                    endpoint_url='http://10.34.124.114:9500',\n",
    "                    aws_access_key_id='demo',\n",
    "                    aws_secret_access_key='demo8888',\n",
    "                    region_name='us-east-1')"
   ]
  },
  {
   "cell_type": "markdown",
   "id": "d058c554",
   "metadata": {},
   "source": [
    "要連接到high-level界面，你將採用類似的方法，但要使用`resource()`的構建函數：\n",
    "\n",
    "> API的參考文件: https://boto3.amazonaws.com/v1/documentation/api/latest/reference/services/s3.html#service-resource"
   ]
  },
  {
   "cell_type": "code",
   "execution_count": 2,
   "id": "5ed1691e",
   "metadata": {},
   "outputs": [],
   "source": [
    "import boto3\n",
    "\n",
    "s3_resource = boto3.resource('s3',\n",
    "                    endpoint_url='http://10.34.124.114:9500',\n",
    "                    aws_access_key_id='demo',\n",
    "                    aws_secret_access_key='demo8888',\n",
    "                    region_name='us-east-1')"
   ]
  },
  {
   "cell_type": "markdown",
   "id": "a3a93730",
   "metadata": {},
   "source": [
    "你已經成功連接到兩個版本的連線物件，但是現在你可能想知道，\"我應該使用哪個版本\"?\n",
    "\n",
    "較low-level的`client`物件給予我們更多操控服務的能力, 但是也要求程式開發員要進行多一點的程序設計工作。\n",
    "\n",
    "大多數`client`的SDK操作都會為你提供字典dict物件作為呼叫API後的response。如果要獲取所需的確切信息，你必須自己解析該字典dict物件。使用`resource`的SDK操作方法時，SDK會幫忙處理這樣的工作。\n",
    "\n",
    "一般來說, `resource`連線物件是優先選用的選項。"
   ]
  },
  {
   "cell_type": "markdown",
   "id": "d9892d7e",
   "metadata": {},
   "source": [
    "## S3常用操作\n",
    "\n",
    "現在你已經了解了`client`和`resource`之間的區別，讓我們開始使用它們來構建一些S3物件。\n",
    "\n",
    "請打開瀏覽器並輸人: http:10.34.124.114:9500\n",
    "\n",
    "![](images/minio_01_login.png)\n",
    "\n",
    "\n",
    "![](images/minio_02_login.png)"
   ]
  },
  {
   "cell_type": "markdown",
   "id": "95b412d9",
   "metadata": {},
   "source": [
    "### 創建一個新的Bucket\n",
    "\n",
    "首先，你需要一個S3存儲桶。要以呼叫SDK方式來創建一個桶`bucket`，你必須首先為存儲桶選擇一個名稱。請記住，此名稱在整個AWS平台上必須唯一，因為存儲桶名稱符合DNS。如果你嘗試創建存儲桶，但另一個用戶已經聲明了相同的存儲桶名稱，則Python將會執行失敗並拋出以下錯誤：`botocore.errorfactory.BucketAlreadyExists`。\n",
    "\n",
    "你可以通過選擇隨機名稱來增加創建存儲桶時的成功機會。在以下範例，我們使用`uuid`模塊來動態生成一個UUID4的字符串(36個字符)，我們可以添加前綴來指定每個存儲桶的用途。"
   ]
  },
  {
   "cell_type": "code",
   "execution_count": 3,
   "id": "aed8739b",
   "metadata": {},
   "outputs": [],
   "source": [
    "import uuid\n",
    "\n",
    "def create_bucket_name(bucket_prefix):\n",
    "    # The generate bucket name must be between 3 and 63 chars long\n",
    "    rnd_uuid = str(uuid.uuid4*())\n",
    "    return f\"{MY_BUCKET_PREFIX}-{rnd_uuid}\""
   ]
  },
  {
   "cell_type": "markdown",
   "id": "5505711b",
   "metadata": {},
   "source": [
    "你已經有了存儲桶名稱，但是現在還需要注意一件事：除非你使用的s3服務的區域位於美國，否則在創建存儲桶時需要明確定義`區域`。否則，Python將收到一個`IllegalLocationConstraintException`。\n",
    "\n",
    "參考: https://docs.aws.amazon.com/AmazonRDS/latest/UserGuide/Concepts.RegionsAndAvailabilityZones.html\n",
    "\n",
    "由於在地端, 我們使用`Minio`來做為aws s3的服務的替代, `region_name`並不是那麼重要, 但是為了符合`Boto3`的要求, 一個有效的`region_name`還是需要設定。\n",
    "\n",
    "> API的參考文件: https://boto3.amazonaws.com/v1/documentation/api/latest/reference/services/s3.html#bucket"
   ]
  },
  {
   "cell_type": "code",
   "execution_count": 4,
   "id": "27629a13",
   "metadata": {},
   "outputs": [],
   "source": [
    "import logging\n",
    "import boto3\n",
    "from botocore.exceptions import ClientError\n",
    "\n",
    "def create_bucket(bucket_name, region=None):\n",
    "    \"\"\"Create an S3 bucket in a specified region\n",
    "\n",
    "    If a region is not specified, the bucket is created in the S3 default\n",
    "    region (us-east-1).\n",
    "\n",
    "    :param bucket_name: Bucket to create\n",
    "    :param region: String region to create bucket in, e.g., 'us-west-2'\n",
    "    :return: True if bucket created, else False\n",
    "    \"\"\"\n",
    "    \n",
    "    # Create bucket\n",
    "    try:\n",
    "        if region is None:\n",
    "            s3_client.create_bucket(Bucket=bucket_name)\n",
    "        else:\n",
    "            location = {'LocationConstraint': region}\n",
    "            s3_client.create_bucket(Bucket=bucket_name,\n",
    "                                   CreateBucketConfiguration=location)\n",
    "    except ClientError as e:\n",
    "        logging.error(e)\n",
    "        return False\n",
    "    return True"
   ]
  },
  {
   "cell_type": "code",
   "execution_count": 5,
   "id": "487f512d",
   "metadata": {},
   "outputs": [
    {
     "name": "stdout",
     "output_type": "stream",
     "text": [
      "Bucket:8703147-01 created --> True\n",
      "Bucket:8703147-02 created --> True\n"
     ]
    }
   ],
   "source": [
    "MY_BUCKET_PREFIX = '8703147' # 請修改成你/妳的工號\n",
    "BUCKET_01 = f\"{MY_BUCKET_PREFIX}-01\"\n",
    "BUCKET_02 = f\"{MY_BUCKET_PREFIX}-02\"\n",
    "\n",
    "# create 1st bucket\n",
    "result = create_bucket(BUCKET_01)\n",
    "\n",
    "print(f\"Bucket:{BUCKET_01} created --> {result}\")\n",
    "\n",
    "# create 2nd bucket\n",
    "create_bucket(BUCKET_02)\n",
    "\n",
    "print(f\"Bucket:{BUCKET_02} created --> {result}\")"
   ]
  },
  {
   "cell_type": "markdown",
   "id": "54f9ba5f",
   "metadata": {},
   "source": [
    "讓我們用Minio的browser UI來檢查是否成功創建了新的buckets。\n",
    "\n",
    "![](images/minio_03_bucket_created.png)\n",
    "\n",
    "現在我們有了存儲桶了。接下來，讓我們往裡頭其中添加一些Object（檔案物件)吧。"
   ]
  },
  {
   "cell_type": "markdown",
   "id": "28d693a5",
   "metadata": {},
   "source": [
    "### 創建Object實例\n",
    "\n",
    "通過使用`resource`的連線物件，你可以使用Bucket和Object的類別來與s3服務互動。\n",
    "\n",
    "讓我們上傳一些檔案做為要儲放進`bucket`的`object`。你可以通過三種方式來上傳檔案：\n",
    "\n",
    "* 透過一個 `Object` 實例\n",
    "* 透過一個 `Bucket` 實例\n",
    "* 透過 `client` 實例"
   ]
  },
  {
   "cell_type": "markdown",
   "id": "30f02ca0",
   "metadata": {},
   "source": [
    "#### 透過一個 `Object` 實例\n",
    "\n",
    "假設我們想要將本地的檔案\"data/hello_world.txt\"上傳到s3,並設定object的key是`hello_world_01.txt`。\n",
    "\n",
    "\n",
    "\n",
    "> API的參考文件: https://boto3.amazonaws.com/v1/documentation/api/latest/reference/services/s3.html#object"
   ]
  },
  {
   "cell_type": "code",
   "execution_count": 6,
   "id": "8dc8c7c8",
   "metadata": {},
   "outputs": [],
   "source": [
    "# setup object key\n",
    "my_object_key_01 = \"hello_world_01.txt\"\n",
    "\n",
    "s3_resource.Object(BUCKET_01, my_object_key_01).upload_file(Filename=\"data/hello_world.txt\")"
   ]
  },
  {
   "cell_type": "markdown",
   "id": "8f1d98e1",
   "metadata": {},
   "source": [
    "透過Minio的UI來檢查結果:\n",
    "\n",
    "![](images/minio_04_object_created.png)"
   ]
  },
  {
   "cell_type": "markdown",
   "id": "08e2f97a",
   "metadata": {},
   "source": [
    "#### 透過一個 `Bucket` 實例\n",
    "\n",
    "假設我們想要將本地的檔案\"data/hello_world.txt\"上傳到s3,並設定object的key是hello_world_02.txt。\n",
    "\n",
    "\n",
    "> API的參考文件: https://boto3.amazonaws.com/v1/documentation/api/latest/reference/services/s3.html#bucket"
   ]
  },
  {
   "cell_type": "code",
   "execution_count": 7,
   "id": "ef8c79dc",
   "metadata": {},
   "outputs": [],
   "source": [
    "# setup object key\n",
    "my_object_key_02 = \"hello_world_02.txt\"\n",
    "\n",
    "s3_resource.Bucket(BUCKET_01).upload_file(Key=my_object_key_02, Filename=\"data/hello_world.txt\")"
   ]
  },
  {
   "cell_type": "markdown",
   "id": "ca00835f",
   "metadata": {},
   "source": [
    "透過Minio的UI來檢查結果:\n",
    "\n",
    "![](images/minio_05_object_created.png)"
   ]
  },
  {
   "cell_type": "markdown",
   "id": "bdc3bba1",
   "metadata": {},
   "source": [
    "#### 透過一個 `Client` 實例\n",
    "\n",
    "假設我們想要將本地的檔案\"data/hello_world.txt\"上傳到s3,並設定object的key是hello_world_03.txt。\n",
    "\n",
    "> API的參考文件: \n",
    "> * https://boto3.amazonaws.com/v1/documentation/api/latest/reference/services/s3.html#service-resource\n",
    "> * https://boto3.amazonaws.com/v1/documentation/api/latest/reference/services/s3.html#client"
   ]
  },
  {
   "cell_type": "code",
   "execution_count": 8,
   "id": "e31fbaf4",
   "metadata": {},
   "outputs": [],
   "source": [
    "# setup object key\n",
    "my_object_key_03 = \"hello_world_03.txt\"\n",
    "\n",
    "s3_resource.meta.client.upload_file(\n",
    "    Bucket=BUCKET_01,\n",
    "    Key=my_object_key_03,\n",
    "    Filename=\"data/hello_world.txt\"\n",
    ")"
   ]
  },
  {
   "cell_type": "markdown",
   "id": "6254342a",
   "metadata": {},
   "source": [
    "透過Minio的UI來檢查結果:\n",
    "\n",
    "![](images/minio_06_object_created.png)"
   ]
  },
  {
   "cell_type": "markdown",
   "id": "eee3dda2",
   "metadata": {},
   "source": [
    "### 下載`Object`\n",
    "\n",
    "要從從S3下載文件本地的檔案系統，你將按照與上傳物件時類似的步驟進行操作。但是在這種情況下，`Filename`參數將映射到本地的檔案路徑。以下範例會將文件下載到Jupyter Notebook所在的目錄："
   ]
  },
  {
   "cell_type": "code",
   "execution_count": 9,
   "id": "7adc0431",
   "metadata": {},
   "outputs": [],
   "source": [
    "# setup object key\n",
    "my_object_key_01 = \"hello_world_01.txt\"\n",
    "\n",
    "# download s3 object to local folder\n",
    "s3_resource.Object(BUCKET_01, my_object_key_01).download_file(my_object_key_01)"
   ]
  },
  {
   "cell_type": "markdown",
   "id": "1fcafda8",
   "metadata": {},
   "source": [
    "透過JupyterHub的UI來檢查結果:\n",
    "\n",
    "![](images/minio_08_object_downloaded.png)"
   ]
  },
  {
   "cell_type": "markdown",
   "id": "f69afb48",
   "metadata": {},
   "source": [
    "### 在不同的`Buckets`間複製`Object`\n",
    "\n",
    "如果你需要將文件從一個存儲桶複製到另一個存儲桶，則Boto3可以為你提供這種可能性。在以下範例中，你將使用`.copy()`將文件從第一個存儲桶複製到第二個存儲桶："
   ]
  },
  {
   "cell_type": "code",
   "execution_count": 10,
   "id": "07839108",
   "metadata": {},
   "outputs": [],
   "source": [
    "def copy_to_bucket(bucket_from_name, bucket_to_name, object_key):\n",
    "    copy_source = {\n",
    "        'Bucket': bucket_from_name,\n",
    "        'Key': object_key\n",
    "    }\n",
    "    s3_resource.Object(bucket_to_name, object_key).copy(copy_source)\n",
    "    \n",
    "# setup object key\n",
    "my_object_key_01 = \"hello_world_01.txt\"\n",
    "\n",
    "first_bucket_name = BUCKET_01\n",
    "second_bucket_name = BUCKET_02\n",
    "\n",
    "copy_to_bucket(first_bucket_name, \n",
    "               second_bucket_name, \n",
    "               my_object_key_01)"
   ]
  },
  {
   "cell_type": "markdown",
   "id": "b968a289",
   "metadata": {},
   "source": [
    "透過Minio的UI來檢查結果:\n",
    "\n",
    "![](images/minio_09_object_copy.png)"
   ]
  },
  {
   "cell_type": "markdown",
   "id": "32f6f38b",
   "metadata": {},
   "source": [
    "### 刪除一個`Object`\n",
    "\n",
    "讓我們通過`Object`實例上調用`.delete()`從第二個存儲桶中刪除新文件："
   ]
  },
  {
   "cell_type": "code",
   "execution_count": 11,
   "id": "4b729307",
   "metadata": {},
   "outputs": [
    {
     "data": {
      "text/plain": [
       "{'ResponseMetadata': {'RequestId': '167E56D2F13A6F3F',\n",
       "  'HostId': '',\n",
       "  'HTTPStatusCode': 204,\n",
       "  'HTTPHeaders': {'accept-ranges': 'bytes',\n",
       "   'content-security-policy': 'block-all-mixed-content',\n",
       "   'server': 'MinIO',\n",
       "   'vary': 'Origin',\n",
       "   'x-amz-request-id': '167E56D2F13A6F3F',\n",
       "   'x-xss-protection': '1; mode=block',\n",
       "   'date': 'Wed, 12 May 2021 14:06:19 GMT'},\n",
       "  'RetryAttempts': 0}}"
      ]
     },
     "execution_count": 11,
     "metadata": {},
     "output_type": "execute_result"
    }
   ],
   "source": [
    "# setup object key\n",
    "my_object_key_01 = \"hello_world_01.txt\"\n",
    "second_bucket_name = BUCKET_02\n",
    "\n",
    "s3_resource.Object(second_bucket_name, my_object_key_01).delete()"
   ]
  },
  {
   "cell_type": "markdown",
   "id": "bae3008c",
   "metadata": {},
   "source": [
    "透過Minio的UI來檢查結果:\n",
    "\n",
    "![](images/minio_10_object_deleted.png)"
   ]
  },
  {
   "cell_type": "markdown",
   "id": "705317ff",
   "metadata": {},
   "source": [
    "## 遍歷S3的Buckets與Objects\n",
    "\n",
    "如果你需要從所有S3資源中檢索信息或對其進行操作，則`Boto3`提供了幾種迭代遍歷存儲桶和物件的方法。首先，遍歷所有已創建的存儲桶。"
   ]
  },
  {
   "cell_type": "markdown",
   "id": "ea19b6d6",
   "metadata": {},
   "source": [
    "### 遍歷 Bucket\n",
    "\n",
    "要遍歷你帳戶所擁有的所有buckets，你可以使用`resource`物件的`buckets`屬性來呼叫`.all()`方法，這個方法會為提供buckets實例的完整列表："
   ]
  },
  {
   "cell_type": "code",
   "execution_count": 12,
   "id": "15defa1d",
   "metadata": {},
   "outputs": [
    {
     "name": "stdout",
     "output_type": "stream",
     "text": [
      "8703147-01\n",
      "8703147-02\n",
      "test\n"
     ]
    }
   ],
   "source": [
    "for bucket in s3_resource.buckets.all():\n",
    "    print(bucket.name)"
   ]
  },
  {
   "cell_type": "markdown",
   "id": "20661b5c",
   "metadata": {},
   "source": [
    "你也可以使用`client`物件來來檢索存儲桶信息，但是代碼稍稍複雜一些，因為你需要從`client`物件返回的字典dict物件中提取存儲桶訊息："
   ]
  },
  {
   "cell_type": "code",
   "execution_count": 13,
   "id": "e7ad7860",
   "metadata": {},
   "outputs": [
    {
     "name": "stdout",
     "output_type": "stream",
     "text": [
      "8703147-01\n",
      "8703147-02\n",
      "test\n"
     ]
    }
   ],
   "source": [
    "for bucket_dict in s3_resource.meta.client.list_buckets().get('Buckets'):\n",
    "    print(bucket_dict['Name'])"
   ]
  },
  {
   "cell_type": "markdown",
   "id": "023e7611",
   "metadata": {},
   "source": [
    "你已經了解瞭如何遍歷帳戶中的buckets。在接下來的部分中，你將選擇一個bucket，並查看其中a儲放的objects。"
   ]
  },
  {
   "cell_type": "markdown",
   "id": "eefdfb6c",
   "metadata": {},
   "source": [
    "### 遍歷 Object\n",
    "\n",
    "如果要列出bucket中的所有objects，則以下程式碼將為你生成一個itrator："
   ]
  },
  {
   "cell_type": "code",
   "execution_count": 14,
   "id": "0b21b575",
   "metadata": {},
   "outputs": [
    {
     "name": "stdout",
     "output_type": "stream",
     "text": [
      "hello_world_01.txt\n",
      "hello_world_02.txt\n",
      "hello_world_03.txt\n"
     ]
    }
   ],
   "source": [
    "my_bucket_01 = s3_resource.Bucket(BUCKET_01)\n",
    "\n",
    "for obj in my_bucket_01.objects.all():\n",
    "    print(obj.key)"
   ]
  },
  {
   "cell_type": "markdown",
   "id": "f9c22da8",
   "metadata": {},
   "source": [
    "obj變數是一個`ObjectSummary`物件。這是對儲放在s3裡頭object的一種輕量級的表示。`ObjectSummary`物件不支持`object`具有的所有屬性。"
   ]
  },
  {
   "cell_type": "code",
   "execution_count": 15,
   "id": "fed033de",
   "metadata": {},
   "outputs": [
    {
     "name": "stdout",
     "output_type": "stream",
     "text": [
      "<class 'boto3.resources.factory.s3.ObjectSummary'>\n",
      "<class 'boto3.resources.factory.s3.Object'>\n",
      "hello_world_01.txt STANDARD 2021-05-12 14:06:19.749000+00:00 None {}\n",
      "<class 'boto3.resources.factory.s3.ObjectSummary'>\n",
      "<class 'boto3.resources.factory.s3.Object'>\n",
      "hello_world_02.txt STANDARD 2021-05-12 14:06:19.781000+00:00 None {}\n",
      "<class 'boto3.resources.factory.s3.ObjectSummary'>\n",
      "<class 'boto3.resources.factory.s3.Object'>\n",
      "hello_world_03.txt STANDARD 2021-05-12 14:06:19.801000+00:00 None {}\n"
     ]
    }
   ],
   "source": [
    "for obj in my_bucket_01.objects.all():\n",
    "    print(type(obj))\n",
    "    s3_obj = obj.Object()\n",
    "    print(type(s3_obj))\n",
    "    print(obj.key, obj.storage_class, obj.last_modified,\n",
    "          s3_obj.version_id, s3_obj.metadata)"
   ]
  },
  {
   "cell_type": "markdown",
   "id": "87eb32bd",
   "metadata": {},
   "source": [
    "現在，你可以迭代地對buckets和object報行操作。接著，你還需要了解一件事：如何刪除在本教程中創建的所有`resoures`。"
   ]
  },
  {
   "cell_type": "markdown",
   "id": "f74503bf",
   "metadata": {},
   "source": [
    "## 刪除Buckets與Objects\n",
    "\n",
    "要刪除所有已創建的buckets和objects，必須首先確保bucket中沒有object。"
   ]
  },
  {
   "cell_type": "markdown",
   "id": "82ffef7f",
   "metadata": {},
   "source": [
    "### 刪除非空的Bucket\n",
    "\n",
    "為了能夠刪除bucket，你必須首先刪除bucket中的每個objects，否則會引發`BucketNotEmpty`異常。當擁有版本化bucket時，你還需要刪除每個objects及其所有版本。\n",
    "\n",
    "如果你發現可以自動執行此操作的`LifeCycle`規則不適合你的需求，則可以通過以下方式以寫程式的方式來刪除objects："
   ]
  },
  {
   "cell_type": "code",
   "execution_count": 16,
   "id": "cecc1dcd",
   "metadata": {},
   "outputs": [
    {
     "data": {
      "text/plain": [
       "[{'ResponseMetadata': {'RequestId': '167E56D2F7708D35',\n",
       "   'HostId': '',\n",
       "   'HTTPStatusCode': 200,\n",
       "   'HTTPHeaders': {'accept-ranges': 'bytes',\n",
       "    'content-length': '260',\n",
       "    'content-security-policy': 'block-all-mixed-content',\n",
       "    'content-type': 'application/xml',\n",
       "    'server': 'MinIO',\n",
       "    'vary': 'Origin',\n",
       "    'x-amz-request-id': '167E56D2F7708D35',\n",
       "    'x-xss-protection': '1; mode=block',\n",
       "    'date': 'Wed, 12 May 2021 14:06:19 GMT'},\n",
       "   'RetryAttempts': 0},\n",
       "  'Deleted': [{'Key': 'hello_world_01.txt'},\n",
       "   {'Key': 'hello_world_02.txt'},\n",
       "   {'Key': 'hello_world_03.txt'}]}]"
      ]
     },
     "execution_count": 16,
     "metadata": {},
     "output_type": "execute_result"
    }
   ],
   "source": [
    "my_bucket_01 = s3_resource.Bucket(BUCKET_01)\n",
    "\n",
    "my_bucket_01.objects.delete()"
   ]
  },
  {
   "cell_type": "markdown",
   "id": "92f29f51",
   "metadata": {},
   "source": [
    "### 刪除Bucket\n",
    "\n",
    "最後，你可以在`bucket`實例上使用`.delete()`方法來刪除bucket："
   ]
  },
  {
   "cell_type": "code",
   "execution_count": 17,
   "id": "95e319f9",
   "metadata": {},
   "outputs": [
    {
     "data": {
      "text/plain": [
       "{'ResponseMetadata': {'RequestId': '167E56D2F8236F28',\n",
       "  'HostId': '',\n",
       "  'HTTPStatusCode': 204,\n",
       "  'HTTPHeaders': {'accept-ranges': 'bytes',\n",
       "   'content-security-policy': 'block-all-mixed-content',\n",
       "   'server': 'MinIO',\n",
       "   'vary': 'Origin',\n",
       "   'x-amz-request-id': '167E56D2F8236F28',\n",
       "   'x-xss-protection': '1; mode=block',\n",
       "   'date': 'Wed, 12 May 2021 14:06:20 GMT'},\n",
       "  'RetryAttempts': 0}}"
      ]
     },
     "execution_count": 17,
     "metadata": {},
     "output_type": "execute_result"
    }
   ],
   "source": [
    "my_bucket_01 = s3_resource.Bucket(BUCKET_01)\n",
    "\n",
    "s3_resource.Bucket(first_bucket_name).delete()"
   ]
  },
  {
   "cell_type": "markdown",
   "id": "4af763dc",
   "metadata": {},
   "source": [
    "透過Minio的UI來檢查結果:\n",
    "\n",
    "![](images/minio_11_bucket_deleted.png)"
   ]
  },
  {
   "cell_type": "markdown",
   "id": "fac61fae",
   "metadata": {},
   "source": [
    "如果需要，你可以使用`client`的物件來刪除bucket："
   ]
  },
  {
   "cell_type": "code",
   "execution_count": 18,
   "id": "6152ec88",
   "metadata": {},
   "outputs": [
    {
     "data": {
      "text/plain": [
       "{'ResponseMetadata': {'RequestId': '167E56D2F89A4B86',\n",
       "  'HostId': '',\n",
       "  'HTTPStatusCode': 204,\n",
       "  'HTTPHeaders': {'accept-ranges': 'bytes',\n",
       "   'content-security-policy': 'block-all-mixed-content',\n",
       "   'server': 'MinIO',\n",
       "   'vary': 'Origin',\n",
       "   'x-amz-request-id': '167E56D2F89A4B86',\n",
       "   'x-xss-protection': '1; mode=block',\n",
       "   'date': 'Wed, 12 May 2021 14:06:20 GMT'},\n",
       "  'RetryAttempts': 0}}"
      ]
     },
     "execution_count": 18,
     "metadata": {},
     "output_type": "execute_result"
    }
   ],
   "source": [
    "second_bucket_name = BUCKET_02\n",
    "\n",
    "s3_resource.meta.client.delete_bucket(Bucket=second_bucket_name)"
   ]
  },
  {
   "cell_type": "markdown",
   "id": "7babc23b",
   "metadata": {},
   "source": [
    "透過Minio的UI來檢查結果:\n",
    "\n",
    "![](images/minio_12_bucket_deleted.png)"
   ]
  },
  {
   "cell_type": "markdown",
   "id": "69a0bfcc",
   "metadata": {},
   "source": [
    "# 使用Pandas在Amazon S3中讀寫文件\n",
    "\n",
    "透過boto3來與pandas進行整合。\n",
    "\n",
    "參考: https://towardsdatascience.com/reading-and-writing-files-from-to-amazon-s3-with-pandas-ccaf90bfe86c\n",
    "\n",
    "![](images/minio_13_pandas.png)"
   ]
  },
  {
   "cell_type": "markdown",
   "id": "0fa72414",
   "metadata": {},
   "source": [
    "## `tempfile` 模組產生暫存檔案、目錄\n",
    "\n",
    "介紹如何使用 Python 的 `tempfile` 模組自動建立暫存檔案或目錄，存放暫時性的資料。"
   ]
  },
  {
   "cell_type": "markdown",
   "id": "cdaa3ef0",
   "metadata": {},
   "source": [
    "### 建立暫存檔案\n",
    "\n",
    "`TemporaryFile()`方法可以用來建立暫存用的檔案，預設會以**二進位**的方式開啟，我們可以將暫存資料寫入檔案中，需要時再讀取出來，**而在檔案關閉之後，該暫存檔就會自動被刪除**。"
   ]
  },
  {
   "cell_type": "code",
   "execution_count": 19,
   "id": "600a00c3",
   "metadata": {},
   "outputs": [
    {
     "name": "stdout",
     "output_type": "stream",
     "text": [
      "b'Hello, world.'\n"
     ]
    }
   ],
   "source": [
    "# 引入 tempfile 模組\n",
    "import tempfile\n",
    "\n",
    "# 建立並開啟暫存檔案（二進位）\n",
    "fp = tempfile.TemporaryFile()\n",
    "\n",
    "# 寫入二進位資料\n",
    "fp.write(b'Hello, world.')\n",
    "\n",
    "# 將檔案讀寫位置（offset）設定為最開頭\n",
    "fp.seek(0)\n",
    "\n",
    "# 讀取檔案內容\n",
    "content = fp.read()\n",
    "\n",
    "# 輸出結果\n",
    "print(content)\n",
    "\n",
    "# 關閉檔案（自動刪除檔案）\n",
    "fp.close()"
   ]
  },
  {
   "cell_type": "markdown",
   "id": "bcd8e152",
   "metadata": {},
   "source": [
    "如果想要儲存的資料是文字，可以改用文字模式開啟暫存檔："
   ]
  },
  {
   "cell_type": "code",
   "execution_count": 20,
   "id": "9e231b55",
   "metadata": {},
   "outputs": [
    {
     "name": "stdout",
     "output_type": "stream",
     "text": [
      "Hello, world.\n"
     ]
    }
   ],
   "source": [
    "import tempfile\n",
    "\n",
    "# 建立並開啟暫存檔案（文字檔）\n",
    "fp = tempfile.TemporaryFile(mode = 'w+')\n",
    "\n",
    "# 寫入文字資料\n",
    "fp.write('Hello, world.')\n",
    "\n",
    "fp.seek(0)\n",
    "content = fp.read()\n",
    "print(content)\n",
    "fp.close()"
   ]
  },
  {
   "cell_type": "markdown",
   "id": "0c9fb54c",
   "metadata": {},
   "source": [
    "若搭配 `with` 使用，可讓語法更簡潔："
   ]
  },
  {
   "cell_type": "code",
   "execution_count": 21,
   "id": "bfe64bb5",
   "metadata": {},
   "outputs": [
    {
     "name": "stdout",
     "output_type": "stream",
     "text": [
      "Hello, world.\n"
     ]
    }
   ],
   "source": [
    "import tempfile\n",
    "\n",
    "with tempfile.TemporaryFile('w+') as fp:\n",
    "    fp.write('Hello, world.')\n",
    "    fp.seek(0)\n",
    "    content = fp.read()\n",
    "    print(content)\n",
    "    \n",
    "# 自動刪除暫存檔"
   ]
  },
  {
   "cell_type": "markdown",
   "id": "d5ebdd64",
   "metadata": {},
   "source": [
    "### 建立具名暫存檔案\n",
    "\n",
    "使用 `TemporaryFile()` 所建立的暫存檔是匿名的，如果需要取得檔案名稱，可以改用 `NamedTemporaryFile()`："
   ]
  },
  {
   "cell_type": "code",
   "execution_count": 22,
   "id": "d356634c",
   "metadata": {},
   "outputs": [
    {
     "name": "stdout",
     "output_type": "stream",
     "text": [
      "暫存檔： /tmp/tmpu7nhogoe\n"
     ]
    }
   ],
   "source": [
    "import tempfile\n",
    "\n",
    "with tempfile.NamedTemporaryFile('w+') as fp:\n",
    "    print('暫存檔：', fp.name)\n",
    "    # ... processing ....\n",
    "    \n",
    "# 自動刪除暫存檔"
   ]
  },
  {
   "cell_type": "markdown",
   "id": "b23a92a2",
   "metadata": {},
   "source": [
    "具名的暫存檔案一樣會在關閉時自動被刪除，如果希望自己管理暫存檔案的刪除動作，可以加上 `delete=False` 參數："
   ]
  },
  {
   "cell_type": "code",
   "execution_count": 23,
   "id": "967e76dc",
   "metadata": {},
   "outputs": [],
   "source": [
    "import tempfile\n",
    "import os\n",
    "\n",
    "with tempfile.NamedTemporaryFile('w+', delete=False) as fp:\n",
    "    tmpFilename = fp.name\n",
    "    # ...\n",
    "\n",
    "# 自行刪除暫存檔\n",
    "os.unlink(tmpFilename)"
   ]
  },
  {
   "cell_type": "markdown",
   "id": "32972d47",
   "metadata": {},
   "source": [
    "### 建立暫存目錄\n",
    "\n",
    "若需要建立一個暫存目錄，存放各種暫存檔案，可以使用 TemporaryDirectory() 函數，在暫存目錄中可以存放任意數量的暫存檔，使用完畢之後，該暫存目錄（連同裡面所有檔案）會自動被刪除。"
   ]
  },
  {
   "cell_type": "code",
   "execution_count": 24,
   "id": "f9f1c190",
   "metadata": {},
   "outputs": [
    {
     "name": "stdout",
     "output_type": "stream",
     "text": [
      "暫存目錄： /tmp/tmp1s4tw33c\n"
     ]
    }
   ],
   "source": [
    "import tempfile\n",
    "\n",
    "with tempfile.TemporaryDirectory() as dirname:\n",
    "    print('暫存目錄：', dirname)\n",
    "    # ...\n",
    "\n",
    "# 自動刪除暫存目錄與所有內容"
   ]
  },
  {
   "cell_type": "markdown",
   "id": "92db633f",
   "metadata": {},
   "source": [
    "## 將`data frame`寫出成CSV檔案並上傳至S3\n",
    "\n",
    "透過`tempfile`模組產生暫存檔案來讓pandas的`to_csv()`方法產生出目標結構的資料檔案之後, 接著使用boto3的API來上傳檔案到s3的bucket中。\n",
    "\n",
    "> 如果bucket不存在時, 以下的程式碼會失敗"
   ]
  },
  {
   "cell_type": "code",
   "execution_count": 25,
   "id": "524e47c8",
   "metadata": {},
   "outputs": [
    {
     "name": "stdout",
     "output_type": "stream",
     "text": [
      "<class 'pandas.core.frame.DataFrame'>\n",
      "RangeIndex: 3 entries, 0 to 2\n",
      "Data columns (total 2 columns):\n",
      " #   Column  Non-Null Count  Dtype  \n",
      "---  ------  --------------  -----  \n",
      " 0   Title   3 non-null      object \n",
      " 1   Price   3 non-null      float64\n",
      "dtypes: float64(1), object(1)\n",
      "memory usage: 176.0+ bytes\n",
      "None\n",
      "      Title  Price\n",
      "0    Book I  56.60\n",
      "1   Book II  59.87\n",
      "2  Book III  74.54\n",
      "Upload file to s3 success!\n"
     ]
    }
   ],
   "source": [
    "import io\n",
    "import os\n",
    "import pandas as pd\n",
    "import boto3\n",
    "import tempfile\n",
    "\n",
    "s3_resource = boto3.resource('s3',\n",
    "                    endpoint_url='http://10.34.124.114:9500',\n",
    "                    aws_access_key_id='demo',\n",
    "                    aws_secret_access_key='demo8888',\n",
    "                    region_name='us-east-1')\n",
    "\n",
    "# 構建dataframe\n",
    "books_df = pd.DataFrame(\n",
    "    data={\"Title\": [\"Book I\", \"Book II\", \"Book III\"], \"Price\": [56.6, 59.87, 74.54]},\n",
    "    columns=[\"Title\", \"Price\"],\n",
    ")\n",
    "\n",
    "print(books_df.info())\n",
    "print(books_df.head())\n",
    "\n",
    "my_bucket_name = 'test'\n",
    "my_object_key = 'test.csv'\n",
    "\n",
    "with tempfile.NamedTemporaryFile('w+') as fp:\n",
    "    temp_filename = fp.name # 暫存檔案名\n",
    "    books_df.to_csv(temp_filename, index=False) # 快捷鍵 SHIFT + TAB\n",
    "    try:\n",
    "        s3_resource.Object(my_bucket_name, my_object_key).upload_file(Filename=temp_filename)\n",
    "        print('Upload file to s3 success!')\n",
    "    except ClientError as e:\n",
    "        printt('Upload file to s3 fail:{e}')\n",
    "    \n",
    "# 自行刪除暫存檔"
   ]
  },
  {
   "cell_type": "markdown",
   "id": "abc2d11d",
   "metadata": {},
   "source": [
    "透過Minio的UI來檢查結果:\n",
    "\n",
    "![](images/minio_14_pandas_s3.png)\n",
    "\n",
    "下載`test.csv`並使用Excel打開它。\n",
    "\n",
    "![](images/minio_15_pandas_s3.png)\n"
   ]
  },
  {
   "cell_type": "markdown",
   "id": "1946bcbf",
   "metadata": {},
   "source": [
    "## 讀取S3上的CSV的物件成為`data frame`\n",
    "\n",
    "使用`boto3`的API從s3的bucket來下載檔案物件本地的檔案(透過`tempfile`模組產生暫存檔案）。接著讓pandas的`read_csv()`方法把數據轉換成DataFrame物件。"
   ]
  },
  {
   "cell_type": "code",
   "execution_count": 26,
   "id": "d085ec28",
   "metadata": {},
   "outputs": [
    {
     "name": "stdout",
     "output_type": "stream",
     "text": [
      "Download s3 object to local success!\n",
      "<class 'pandas.core.frame.DataFrame'>\n",
      "RangeIndex: 3 entries, 0 to 2\n",
      "Data columns (total 2 columns):\n",
      " #   Column  Non-Null Count  Dtype  \n",
      "---  ------  --------------  -----  \n",
      " 0   Title   3 non-null      object \n",
      " 1   Price   3 non-null      float64\n",
      "dtypes: float64(1), object(1)\n",
      "memory usage: 176.0+ bytes\n",
      "None\n",
      "      Title  Price\n",
      "0    Book I  56.60\n",
      "1   Book II  59.87\n",
      "2  Book III  74.54\n"
     ]
    }
   ],
   "source": [
    "import io\n",
    "import os\n",
    "import pandas as pd\n",
    "import boto3\n",
    "import tempfile\n",
    "\n",
    "s3_resource = boto3.resource('s3',\n",
    "                    endpoint_url='http://10.34.124.114:9500',\n",
    "                    aws_access_key_id='demo',\n",
    "                    aws_secret_access_key='demo8888',\n",
    "                    region_name='us-east-1')\n",
    "\n",
    "\n",
    "\n",
    "\n",
    "my_bucket_name = 'test'\n",
    "my_object_key = 'test.csv'\n",
    "\n",
    "with tempfile.NamedTemporaryFile('w+') as fp:\n",
    "    temp_filename = fp.name # 暫存檔案名    \n",
    "    # download s3 object to local folder\n",
    "    try:\n",
    "        s3_resource.Object(my_bucket_name, my_object_key).download_file(temp_filename)\n",
    "        print('Download s3 object to local success!')\n",
    "    except ClientError as e:\n",
    "        printt('Download s3 object to local fail:{e}')\n",
    "    \n",
    "\n",
    "    # read CSV into DataFrame\n",
    "    book_df2 = pd.read_csv(temp_filename)\n",
    "    \n",
    "    print(books_df.info())\n",
    "    print(books_df.head())\n",
    "    \n",
    "    \n",
    "# 自行刪除暫存檔"
   ]
  }
 ],
 "metadata": {
  "kernelspec": {
   "display_name": "Python 3",
   "language": "python",
   "name": "python3"
  },
  "language_info": {
   "codemirror_mode": {
    "name": "ipython",
    "version": 3
   },
   "file_extension": ".py",
   "mimetype": "text/x-python",
   "name": "python",
   "nbconvert_exporter": "python",
   "pygments_lexer": "ipython3",
   "version": "3.7.10"
  },
  "toc": {
   "base_numbering": 1,
   "nav_menu": {},
   "number_sections": true,
   "sideBar": true,
   "skip_h1_title": false,
   "title_cell": "Table of Contents",
   "title_sidebar": "Contents",
   "toc_cell": false,
   "toc_position": {
    "height": "calc(100% - 180px)",
    "left": "10px",
    "top": "150px",
    "width": "330.33px"
   },
   "toc_section_display": true,
   "toc_window_display": true
  }
 },
 "nbformat": 4,
 "nbformat_minor": 5
}
