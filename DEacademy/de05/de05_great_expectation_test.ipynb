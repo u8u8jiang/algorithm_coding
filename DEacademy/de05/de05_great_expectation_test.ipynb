{
 "cells": [
  {
   "cell_type": "markdown",
   "id": "dd674d7d",
   "metadata": {},
   "source": [
    "# de05 資料品質檢驗: 作業\n",
    "\n",
    "這個作業主要是要讓學員學習如何使用great expections來進行數據品質的檢驗。\n",
    "\n",
    "**範例數據**: `yellow_tripdata_sample_2019-02.csv`檔案是`紐約市計程車和禮車協會`所發佈的一個公開資料集。\n",
    "\n",
    "檔案路徑: `data/yellow_tripdata_sample_2019-02.csv`\n",
    "\n",
    "資料欄位:\n",
    "* vendor_id\n",
    "* pickup_datetime\n",
    "* dropoff_datetime\n",
    "* passenger_count\n",
    "* trip_distance\n",
    "* rate_code_id\n",
    "* store_and_fwd_flag\n",
    "* pickup_location_id\n",
    "* dropoff_location_id\n",
    "* payment_type\n",
    "* fare_amount\n",
    "* extra\n",
    "* mta_tax\n",
    "* tip_amount\n",
    "* tolls_amount\n",
    "* improvement_surcharge\n",
    "* total_amount\n",
    "* congestion_surcharge\n",
    "\n",
    "\n",
    "為了方便起見，我們從原始CSV文件中創建了`10,000`行樣本（使用Pandas樣本函數），並手動添加了一些更改（`passenger_count`列中有些資料為0）以創造一些潛在的數據問題。"
   ]
  },
  {
   "cell_type": "code",
   "execution_count": null,
   "id": "476fa6d7",
   "metadata": {},
   "outputs": [],
   "source": [
    "import pandas as pd\n",
    "import great_expectations as ge\n",
    "\n",
    "df_taxi = ge.read_csv('data/yellow_tripdata_sample_2019-02.csv')\n",
    "\n",
    "print(df_taxi.info())\n",
    "print(df_taxi.head())"
   ]
  },
  {
   "cell_type": "markdown",
   "id": "6c58578b",
   "metadata": {},
   "source": [
    "## 作業#01\n",
    "\n",
    "請使用`expect_table_columns_to_match_ordered_list()`方法來檢查Dataframe的欄位順序符合以下的*期待*, 並把驗證的結果打印出來:\n",
    "\n",
    "```python\n",
    "columns_list = [\"vendor_id\",\n",
    "          \"pickup_datetime\",\n",
    "          \"dropoff_datetime\",\n",
    "          \"passenger_count\",\n",
    "          \"trip_distance\",\n",
    "          \"rate_code_id\",\n",
    "          \"store_and_fwd_flag\",\n",
    "          \"pickup_location_id\",\n",
    "          \"dropoff_location_id\",\n",
    "          \"payment_type\",\n",
    "          \"fare_amount\",\n",
    "          \"extra\",\n",
    "          \"mta_tax\",\n",
    "          \"tip_amount\",\n",
    "          \"tolls_amount\",\n",
    "          \"improvement_surcharge\",\n",
    "          \"total_amount\",\n",
    "          \"congestion_surcharge\"]\n",
    "```"
   ]
  },
  {
   "cell_type": "code",
   "execution_count": null,
   "id": "68a291f0",
   "metadata": {},
   "outputs": [],
   "source": [
    "#task01\n",
    "\n",
    "columns_list = [\"vendor_id\",\n",
    "          \"pickup_datetime\",\n",
    "          \"dropoff_datetime\",\n",
    "          \"passenger_count\",\n",
    "          \"trip_distance\",\n",
    "          \"rate_code_id\",\n",
    "          \"store_and_fwd_flag\",\n",
    "          \"pickup_location_id\",\n",
    "          \"dropoff_location_id\",\n",
    "          \"payment_type\",\n",
    "          \"fare_amount\",\n",
    "          \"extra\",\n",
    "          \"mta_tax\",\n",
    "          \"tip_amount\",\n",
    "          \"tolls_amount\",\n",
    "          \"improvement_surcharge\",\n",
    "          \"total_amount\",\n",
    "          \"congestion_surcharge\"]\n",
    "\n",
    "# write your code below\n",
    "\n",
    "\n"
   ]
  },
  {
   "cell_type": "markdown",
   "id": "6336aedd",
   "metadata": {},
   "source": [
    "**請說明檢驗結果**\n",
    "\n",
    "* 檢驗成功或失敗: ???\n",
    "* 原因: ???"
   ]
  },
  {
   "cell_type": "markdown",
   "id": "001468e1",
   "metadata": {},
   "source": [
    "## 作業#02\n",
    "\n",
    "請使用`expect_table_row_count_to_be_between()`方法來檢查Dataframe的總筆數是否落在9,000到11,000之間, 並把驗證的結果打印出來:"
   ]
  },
  {
   "cell_type": "code",
   "execution_count": null,
   "id": "48890c70",
   "metadata": {},
   "outputs": [],
   "source": [
    "#task02\n",
    "\n",
    "# write your code below\n",
    "\n"
   ]
  },
  {
   "cell_type": "markdown",
   "id": "ba3102e1",
   "metadata": {},
   "source": [
    "**請說明檢驗結果**\n",
    "\n",
    "* 檢驗成功或失敗: ???\n",
    "* 原因: ???"
   ]
  },
  {
   "cell_type": "markdown",
   "id": "d22ac1ae",
   "metadata": {},
   "source": [
    "## 作業#03\n",
    "\n",
    "請使用`expect_column_min_to_be_between()`方法來檢查Dataframe的欄位`passenger_count`的最少乘客數數為`1`, 並把驗證的結果打印出來。"
   ]
  },
  {
   "cell_type": "code",
   "execution_count": null,
   "id": "faf8b4e4",
   "metadata": {},
   "outputs": [],
   "source": [
    "#task03\n",
    "\n",
    "# write your code below\n",
    "\n"
   ]
  },
  {
   "cell_type": "markdown",
   "id": "dd2e45b6",
   "metadata": {},
   "source": [
    "**請說明檢驗結果**\n",
    "\n",
    "* 檢驗成功或失敗: ???\n",
    "* 原因: ???"
   ]
  },
  {
   "cell_type": "markdown",
   "id": "58c30427",
   "metadata": {},
   "source": [
    "## 作業#04\n",
    "\n",
    "請使用`expect_column_max_to_be_between()`方法來檢查Dataframe的欄位`passenger_count`的最多乘客數為`6`, 並把驗證的結果打印出來。"
   ]
  },
  {
   "cell_type": "code",
   "execution_count": null,
   "id": "3bae5a2c",
   "metadata": {},
   "outputs": [],
   "source": [
    "#task04\n",
    "\n",
    "# write your code below\n",
    "\n"
   ]
  },
  {
   "cell_type": "markdown",
   "id": "f216526e",
   "metadata": {},
   "source": [
    "**請說明檢驗結果**\n",
    "\n",
    "* 檢驗成功或失敗: ???\n",
    "* 原因: ???"
   ]
  },
  {
   "cell_type": "markdown",
   "id": "cc7cc76a",
   "metadata": {},
   "source": [
    "## 作業#05\n",
    "\n",
    "請使用`expect_column_values_to_be_in_set()`方法來檢查Dataframe的欄位`passenger_count`的乘客數的值落在列表`[1,2,3,4,5,6]`, 並把驗證的結果打印出來。"
   ]
  },
  {
   "cell_type": "code",
   "execution_count": null,
   "id": "618bdddf",
   "metadata": {},
   "outputs": [],
   "source": [
    "#task05\n",
    "\n",
    "# write your code below\n",
    "\n"
   ]
  },
  {
   "cell_type": "markdown",
   "id": "f2d399fc",
   "metadata": {},
   "source": [
    "**請說明檢驗結果**\n",
    "\n",
    "* 檢驗成功或失敗: ???\n",
    "* 原因: ???"
   ]
  }
 ],
 "metadata": {
  "kernelspec": {
   "display_name": "Python 3",
   "language": "python",
   "name": "python3"
  },
  "language_info": {
   "codemirror_mode": {
    "name": "ipython",
    "version": 3
   },
   "file_extension": ".py",
   "mimetype": "text/x-python",
   "name": "python",
   "nbconvert_exporter": "python",
   "pygments_lexer": "ipython3",
   "version": "3.7.3"
  },
  "toc": {
   "base_numbering": 1,
   "nav_menu": {},
   "number_sections": true,
   "sideBar": true,
   "skip_h1_title": false,
   "title_cell": "Table of Contents",
   "title_sidebar": "Contents",
   "toc_cell": false,
   "toc_position": {},
   "toc_section_display": true,
   "toc_window_display": true
  }
 },
 "nbformat": 4,
 "nbformat_minor": 5
}
