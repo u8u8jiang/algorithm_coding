{
 "cells": [
  {
   "cell_type": "markdown",
   "id": "0238bf45",
   "metadata": {},
   "source": [
    "# Great expectations (GE) 初體驗\n",
    "\n",
    "官網: https://greatexpectations.io/\n",
    "\n",
    "![](images/ge_overview.png)\n",
    "\n",
    "要使用`great_expections`首先得先安裝這個模組:\n",
    "    \n",
    "```python\n",
    "pip install great_expections\n",
    "```\n",
    "\n"
   ]
  },
  {
   "cell_type": "markdown",
   "id": "321351e0",
   "metadata": {},
   "source": [
    "## 步驟\n",
    "\n",
    "### Step1. 載入 great_expectations"
   ]
  },
  {
   "cell_type": "code",
   "execution_count": null,
   "id": "a95e3aa1",
   "metadata": {},
   "outputs": [],
   "source": [
    "import great_expectations as ge"
   ]
  },
  {
   "cell_type": "markdown",
   "id": "129dadac",
   "metadata": {},
   "source": [
    "### Step2. 加載一些數據\n",
    "\n",
    "讓我們使用titanic的數據來進行學習。"
   ]
  },
  {
   "cell_type": "code",
   "execution_count": null,
   "id": "77f1de34",
   "metadata": {},
   "outputs": [],
   "source": [
    "my_df = ge.read_csv(\"data/titanic.csv\")\n",
    "\n",
    "print(my_df.info())\n",
    "print(my_df.head())"
   ]
  },
  {
   "cell_type": "markdown",
   "id": "4bba2375",
   "metadata": {},
   "source": [
    "`ge.read_csv()`方法的行為與`pandas.read_csv()`完全相同。其他Pandas IO的方法也有類似wrapper版本(read_excel，read_table，read_parquet，read_pickle，read_json等等）。\n",
    "\n",
    "當然你也可以將Pandas的Dataframe物件轉換成GE的Dataframe物件:"
   ]
  },
  {
   "cell_type": "code",
   "execution_count": null,
   "id": "45781417",
   "metadata": {},
   "outputs": [],
   "source": [
    "import pandas as pd\n",
    "\n",
    "pd_df = pd.read_csv(\"data/titanic.csv\")\n",
    "print(type(pd_df))\n",
    "\n",
    "# convert to great_expectation dataframe\n",
    "ge_df = ge.from_pandas(pd_df)\n",
    "\n",
    "print(type(ge_df))\n",
    "\n",
    "print(ge_df.info())\n",
    "\n",
    "print(ge_df.head())"
   ]
  },
  {
   "cell_type": "markdown",
   "id": "de491fac",
   "metadata": {},
   "source": [
    "以上的手法會將Pandas的`DataFrame`轉換為great_expectations新`PandasDataset`物件。除了`PandasDataset`物件可以訪問**Great Expectations**的方法外，這兩個類別是完全相同的。"
   ]
  },
  {
   "cell_type": "markdown",
   "id": "3fe346f9",
   "metadata": {},
   "source": [
    "### Step3. 探索數據並添加對它的期望`expectation`\n",
    "\n",
    "Great Expections的模組預先設定了許多`Expectation`的類別可以幫助用來驗證資料集Dataset裡頭的資料是否符合**預期**。\n",
    "\n",
    "這些`Expectation`可以被分類為:\n",
    "\n",
    "> 想要了解每一個expection的使用方法, 請查閱官網: [Glossary of Expectations](https://docs.greatexpectations.io/en/latest/reference/glossary_of_expectations.html)"
   ]
  },
  {
   "cell_type": "markdown",
   "id": "5477d54d",
   "metadata": {},
   "source": [
    "#### Table shape (驗證資料集的型狀)\n",
    "\n",
    "* expect_column_to_exist: 欄位是否存在\n",
    "* expect_table_columns_to_match_ordered_list: 資料集的欄位排列順序是否符合預期\n",
    "* expect_table_columns_to_match_set: 資料集的欄位集是否符合預期\n",
    "* expect_table_row_count_to_be_between: 資料集的筆數是否在某個預期的筆數區間, 比如 1000 ~ 5000\n",
    "* expect_table_row_count_to_equal: 資料集的總筆數是否與預期的一樣\n",
    "* expect_table_row_count_to_equal_other_table: 資料集的總筆數與別一個資料集是否一致"
   ]
  },
  {
   "cell_type": "markdown",
   "id": "3de73bac",
   "metadata": {},
   "source": [
    "#### Missing values, unique values, and types (驗證內容值、獨特值與資料型別)\n",
    "\n",
    "* expect_column_values_to_be_unique: 欄位裡頭的值是否都是相同的值\n",
    "* expect_column_values_to_not_be_null: 欄位裡頭的值是否都不為null值\n",
    "* expect_column_values_to_be_null: 欄位裡頭的值是否為null值\n",
    "* expect_column_values_to_be_of_type: 預期欄位的值是否為指定數據類型\n",
    "* expect_column_values_to_be_in_type_list: 預期欄位的值是否為指定數據類型列表裡的數據類型"
   ]
  },
  {
   "cell_type": "markdown",
   "id": "11e1b924",
   "metadata": {},
   "source": [
    "#### Sets and ranges (數字集合與區間)\n",
    "\n",
    "* expect_column_values_to_be_in_set: 預期欄位的值是否都在指定的值集中\n",
    "* expect_column_values_to_not_be_in_set: 預期欄位的值是否都不在指定的值集中\n",
    "* expect_column_values_to_be_between: 預期欄位的值會落在特定的值區間內\n",
    "* expect_column_values_to_be_increasing: 預期欄位的值會遞增\n",
    "* expect_column_values_to_be_decreasing: 預期欄位的值會遞減"
   ]
  },
  {
   "cell_type": "markdown",
   "id": "718d88ec",
   "metadata": {},
   "source": [
    "#### String matching (字串模式檢查)\n",
    "\n",
    "* expect_column_value_lengths_to_be_between: 預期欄位的值的字串長度是否指定的值區間內\n",
    "* expect_column_value_lengths_to_equal: 預期欄位的值的字串長度是否指定的長度\n",
    "* expect_column_values_to_match_regex: 預期欄位的值吻合指定的regular expression\n",
    "* expect_column_values_to_not_match_regex: 預期欄位的值不吻合指定的regular expression\n",
    "* expect_column_values_to_match_regex_list: 預期欄位的值吻合指定的regular expression列表\n",
    "* expect_column_values_to_not_match_regex_list: 預期欄位的值不吻合指定的regular expression列表\n",
    "* expect_column_values_to_match_like_pattern: 預期欄位的值吻合指定的like pattern\n",
    "* expect_column_values_to_not_match_like_pattern: 預期欄位的值不吻合指定的like pattern\n",
    "* expect_column_values_to_match_like_pattern_list: 預期欄位的值吻合指定的like pattern列表\n",
    "* expect_column_values_to_not_match_like_pattern_list: 預期欄位的值不吻合指定的like pattern列表"
   ]
  },
  {
   "cell_type": "markdown",
   "id": "37e6e933",
   "metadata": {},
   "source": [
    "#### Datetime and JSON parsing (日期/時間與JSON的解析)\n",
    "\n",
    "* expect_column_values_to_match_strftime_format: 預期欄位的值吻合指定的strftime的格式\n",
    "* expect_column_values_to_be_dateutil_parseable: 預期欄位的值可以被dateutil模組所解析\n",
    "* expect_column_values_to_be_json_parseable: 預期欄位的值可以被JSON所解析\n",
    "* expect_column_values_to_match_json_schema: 預期欄位的值符合指定的JSON schema"
   ]
  },
  {
   "cell_type": "markdown",
   "id": "5b3ee478",
   "metadata": {},
   "source": [
    "#### Aggregate functions (聚合檢查)\n",
    "\n",
    "* expect_column_distinct_values_to_be_in_set: 預期欄位內distinct後的值是否都在指定的值集中\n",
    "* expect_column_distinct_values_to_contain_set: 預期欄位內distinct後的值是否有包含指定的值集\n",
    "* expect_column_distinct_values_to_equal_set: 預期欄位內distinct後的值是否與指定的值集相同\n",
    "* expect_column_mean_to_be_between: 預期欄位的值的平均數會落在特定的值區間內\n",
    "* expect_column_median_to_be_between: 預期欄位的值的中位數會落在特定的值區間內\n",
    "* expect_column_quantile_values_to_be_between: 預期欄位的值的分位數會落在特定的值區間內\n",
    "* expect_column_stdev_to_be_between: 預期欄位的值的標準差會落在特定的值區間內\n",
    "* expect_column_unique_value_count_to_be_between:預期欄位的獨特值的筆數會落在特定的值區間內\n",
    "* expect_column_proportion_of_unique_values_to_be_between: 預期欄位的獨特值的比率會落在特定的比率區間內\n",
    "* expect_column_most_common_value_to_be_in_set: 預期欄位內多數常見值是否都在指定的值集中\n",
    "* expect_column_max_to_be_between: 預期欄位的值的最大數值會落在特定的值區間內\n",
    "* expect_column_min_to_be_between: 預期欄位的值的最小數值會落在特定的值區間內\n",
    "* expect_column_sum_to_be_between: 預期欄位的值的總合值會落在特定的值區間內"
   ]
  },
  {
   "cell_type": "markdown",
   "id": "909689f1",
   "metadata": {},
   "source": [
    "#### Multi-column (多欄位檢驗)\n",
    "\n",
    "* expect_column_pair_values_A_to_be_greater_than_B: 預期欄位A的值比欄位B的值大\n",
    "* expect_column_pair_values_to_be_equal: 預期兩個欄位的值是相等的\n",
    "* expect_column_pair_values_to_be_in_set: 預期欄位A的值與欄位B的值會在指定的值集中\n",
    "* expect_select_column_values_to_be_unique_within_record: 預期每一筆record都是unique的\n",
    "* expect_multicolumn_sum_to_equal: 預期多個欄位的加總值會相等\n",
    "* expect_column_pair_cramers_phi_value_to_be_less_than: 期望column_A中的值獨立於column_B中的值\n",
    "* expect_compound_columns_to_be_unique: 期望這些列在一起是唯一的"
   ]
  },
  {
   "cell_type": "markdown",
   "id": "e3646031",
   "metadata": {},
   "source": [
    "#### Distributional functions (數值分佈檢驗)\n",
    "\n",
    "expect_column_kl_divergence_to_be_less_than: 預期指定列相對於分區對象的Kulback-Leibler（KL）散度（相對熵）低於提供的閾值\n",
    "expect_column_bootstrapped_ks_test_p_value_to_be_greater_than: 預期列值的分佈類似於提供的連續分區。\n",
    "expect_column_chisquare_test_p_value_to_be_greater_than: 預期列值的分佈類似於提供的分類分區。\n",
    "expect_column_parameterized_distribution_ks_test_p_value_to_be_greater_than: 預期列值的分佈類似於scipy分佈。"
   ]
  },
  {
   "cell_type": "markdown",
   "id": "4a9d5d2c",
   "metadata": {},
   "source": [
    "在Great Expection的模組中，每個`Expectation`方法名稱都以名稱`expect_`開頭，因此你可以使用自動完成功能快速訪問完整列表：\n",
    "![](images/expectation_autocomplete.gif)"
   ]
  },
  {
   "cell_type": "markdown",
   "id": "77a03a17",
   "metadata": {},
   "source": [
    "調用`Expectation`時，Great Expectation將立即根據你的數據對其進行驗證。返回的物件將包含**結果**和**意外值**列表。這種即時反饋可幫助你快速降低非預期的數值，從而消除了在數據探索中的許多猜測。\n",
    "\n",
    "![](images/expectation_notebook_interactive_loop.gif)"
   ]
  },
  {
   "cell_type": "code",
   "execution_count": null,
   "id": "026e3070",
   "metadata": {},
   "outputs": [],
   "source": [
    "validate_result = my_df.expect_column_values_to_be_in_set(\"Sex\", [\"male\", \"female\"])\n",
    "\n",
    "print(type(validate_result))\n",
    "\n",
    "print(validate_result)"
   ]
  },
  {
   "cell_type": "markdown",
   "id": "a4474a29",
   "metadata": {},
   "source": [
    "提示：在大多數情況下都會遇到數據問題，但是我們很難保證100％符合預期。在這些情況下，請考慮使用`mostly`參數。此參數是一個選項，它允許你控制要在數據驗證中內置一些容錯的空間。\n",
    "\n",
    "![](images/interactive_mostly.gif)"
   ]
  },
  {
   "cell_type": "code",
   "execution_count": null,
   "id": "531bb039",
   "metadata": {},
   "outputs": [],
   "source": [
    "validate_result = my_df.expect_column_values_to_be_in_set(\"PClass\", [\"1st\", \"2nd\", \"3rd\"], mostly=.99)\n",
    "\n",
    "print(type(validate_result))\n",
    "\n",
    "print(validate_result)"
   ]
  },
  {
   "cell_type": "markdown",
   "id": "dc19ffad",
   "metadata": {},
   "source": [
    "### Step4. 檢視你的Expectations設定\n",
    "\n",
    "在Jupyter Notebook中運行Expectations時，`my_df`將建立一個運行中的Expectations列表。預設情況下，`Great Expectations`將識別並替換重複的Expectations，以便僅存儲最新版本的設定。\n",
    "\n",
    "你可以通過運行以下命令獲取`Great Expectations`的設定文件, 以下的程式碼將會返回一個[`Expection Suite`物件](https://docs.greatexpectations.io/en/latest/reference/core_concepts/expectations/expectations.html#reference-core-concepts-expectations-expectation-suites)。"
   ]
  },
  {
   "cell_type": "code",
   "execution_count": null,
   "id": "9a33d283",
   "metadata": {},
   "outputs": [],
   "source": [
    "expection_suite = my_df.get_expectation_suite()\n",
    "\n",
    "print(type(expection_suite))\n",
    "\n",
    "print(expection_suite)"
   ]
  },
  {
   "cell_type": "markdown",
   "id": "959de484",
   "metadata": {},
   "source": [
    "預設情況下，`get_expectation_suite()`僅在最近一次驗證時返回帶有`success=True`的`expectation`設定。你可以使用以下方法來調整這個行為："
   ]
  },
  {
   "cell_type": "code",
   "execution_count": null,
   "id": "ac586866",
   "metadata": {},
   "outputs": [],
   "source": [
    "expection_suite = my_df.get_expectation_suite(discard_failed_expectations=False)\n",
    "\n",
    "print(type(expection_suite))\n",
    "\n",
    "print(expection_suite)"
   ]
  },
  {
   "cell_type": "markdown",
   "id": "86e05708",
   "metadata": {},
   "source": [
    "### Step5. 保存你的Expectation Suite。\n",
    "\n",
    "`Expectation Suite`可以序列化為JSON物件，因此你可以像這樣保存`Expectation Suite`："
   ]
  },
  {
   "cell_type": "code",
   "execution_count": null,
   "id": "0d5dd43e",
   "metadata": {},
   "outputs": [],
   "source": [
    "import json\n",
    "\n",
    "with open( \"my_expectation_config.json\", \"w\") as my_file:\n",
    "    my_file.write(\n",
    "        json.dumps(my_df.get_expectation_suite().to_json_dict())\n",
    "    )"
   ]
  },
  {
   "cell_type": "markdown",
   "id": "65219000",
   "metadata": {},
   "source": [
    "隨著開發更多的Expectation Suite，你可能會需要一種手法來命名和組織它們，更不用說持續利用這些expections規則來與數據進行匹配，進行驗證並跟踪驗證結果。\n",
    "\n",
    "想要了解更多使用Great Expection的細解, 請詳見官網: [Getting started with Great Expectations – v3 (Batch Request) API](https://docs.greatexpectations.io/en/latest/guides/tutorials/getting_started_v3_api.html)"
   ]
  }
 ],
 "metadata": {
  "kernelspec": {
   "display_name": "Python 3",
   "language": "python",
   "name": "python3"
  },
  "language_info": {
   "codemirror_mode": {
    "name": "ipython",
    "version": 3
   },
   "file_extension": ".py",
   "mimetype": "text/x-python",
   "name": "python",
   "nbconvert_exporter": "python",
   "pygments_lexer": "ipython3",
   "version": "3.7.10"
  },
  "toc": {
   "base_numbering": 1,
   "nav_menu": {},
   "number_sections": true,
   "sideBar": true,
   "skip_h1_title": false,
   "title_cell": "Table of Contents",
   "title_sidebar": "Contents",
   "toc_cell": false,
   "toc_position": {},
   "toc_section_display": true,
   "toc_window_display": true
  }
 },
 "nbformat": 4,
 "nbformat_minor": 5
}
