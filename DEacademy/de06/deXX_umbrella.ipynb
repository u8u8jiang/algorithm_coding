{
 "cells": [
  {
   "cell_type": "code",
   "execution_count": null,
   "id": "8f43521f",
   "metadata": {},
   "outputs": [],
   "source": [
    "from airflow import DAG\n",
    "from airflow.operators.dummy import DummyOperator\n",
    "from airflow.utils.dates import days_ago\n",
    "\n",
    "default_args = {\n",
    "    'owner':'EMPLOYEE_ID', # owner是DAG的開發者, 例如: 員工8703147\n",
    "}\n",
    "\n",
    "dag = DAG(\n",
    "    dag_id=\"deXX_umbrella\", # prefix必需是tenant id, 例如: de00\n",
    "    description=\"Umbrella example with DummyOperators.\",\n",
    "    start_date=days_ago(2),\n",
    "    schedule_interval=None,\n",
    "    catchup=False,\n",
    "    default_args=default_args,\n",
    "    access_control={\n",
    "        'TENANT_ID': {'can_read', 'can_edit'} # 設定DAG歸屬那個團隊[tenant id]與權限, 例如: de00\n",
    "    }\n",
    ")\n",
    "\n",
    "fetch_weather_forecast = DummyOperator(task_id=\"fetch_weather_forecast\", dag=dag)\n",
    "fetch_sales_data = DummyOperator(task_id=\"fetch_sales_data\", dag=dag)\n",
    "clean_forecast_data = DummyOperator(task_id=\"clean_forecast_data\", dag=dag)\n",
    "clean_sales_data = DummyOperator(task_id=\"clean_sales_data\", dag=dag)\n",
    "join_datasets = DummyOperator(task_id=\"join_datasets\", dag=dag)\n",
    "train_ml_model = DummyOperator(task_id=\"train_ml_model\", dag=dag)\n",
    "deploy_ml_model = DummyOperator(task_id=\"deploy_ml_model\", dag=dag)\n",
    "\n",
    "# Set dependencies between all tasks\n",
    "fetch_weather_forecast >> clean_forecast_data\n",
    "fetch_sales_data >> clean_sales_data\n",
    "[clean_forecast_data, clean_sales_data] >> join_datasets\n",
    "join_datasets >> train_ml_model >> deploy_ml_model\n"
   ]
  }
 ],
 "metadata": {
  "kernelspec": {
   "display_name": "Python 3",
   "language": "python",
   "name": "python3"
  },
  "language_info": {
   "codemirror_mode": {
    "name": "ipython",
    "version": 3
   },
   "file_extension": ".py",
   "mimetype": "text/x-python",
   "name": "python",
   "nbconvert_exporter": "python",
   "pygments_lexer": "ipython3",
   "version": "3.7.10"
  },
  "toc": {
   "base_numbering": 1,
   "nav_menu": {},
   "number_sections": true,
   "sideBar": true,
   "skip_h1_title": false,
   "title_cell": "Table of Contents",
   "title_sidebar": "Contents",
   "toc_cell": false,
   "toc_position": {},
   "toc_section_display": true,
   "toc_window_display": false
  }
 },
 "nbformat": 4,
 "nbformat_minor": 5
}
