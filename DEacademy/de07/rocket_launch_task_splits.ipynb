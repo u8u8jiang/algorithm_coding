{
 "cells": [
  {
   "cell_type": "markdown",
   "id": "71ffd3a8",
   "metadata": {},
   "source": [
    "# 拆解工作\n",
    "\n",
    "## 取得Rocket Launch的內容"
   ]
  },
  {
   "cell_type": "code",
   "execution_count": null,
   "id": "f4d064c4",
   "metadata": {},
   "outputs": [],
   "source": [
    "import requests\n",
    "\n",
    "def get_rocket_launch_data():\n",
    "    api_url = \"http://10.34.124.114:7706/2.0.0/launch/upcoming\"\n",
    "    # 呼叫API並取得回應\n",
    "    resp = requests.get(api_url)\n",
    "    \n",
    "    # 根據規格,API的內容是JSON\n",
    "    launches_content = resp.text\n",
    "    \n",
    "    return launches_content"
   ]
  },
  {
   "cell_type": "code",
   "execution_count": null,
   "id": "af5509cd",
   "metadata": {},
   "outputs": [],
   "source": [
    "launches_content = get_rocket_launch_data()\n",
    "\n",
    "# 檢查一下\n",
    "print(type(launches_content))\n",
    "print(launches_content)"
   ]
  },
  {
   "cell_type": "markdown",
   "id": "8dedda9e",
   "metadata": {},
   "source": [
    "## 解析Rocket Launch的內容並取得所需要的資料"
   ]
  },
  {
   "cell_type": "code",
   "execution_count": null,
   "id": "999abac4",
   "metadata": {
    "scrolled": true
   },
   "outputs": [],
   "source": [
    "import json\n",
    "\n",
    "launches = json.loads(launches_content)\n",
    "\n",
    "image_urls = []\n",
    "\n",
    "for launch in launches[\"results\"]:\n",
    "    image_url = launch[\"image\"]\n",
    "    image_urls.append(image_url)\n",
    "    \n",
    "    print(image_url)"
   ]
  },
  {
   "cell_type": "markdown",
   "id": "549bbef2",
   "metadata": {},
   "source": [
    "## 下載每個Rocket的圖像"
   ]
  },
  {
   "cell_type": "code",
   "execution_count": null,
   "id": "72121ece",
   "metadata": {},
   "outputs": [],
   "source": [
    "import os\n",
    "\n",
    "# 創建一個儲放images的目錄\n",
    "if not os.path.exists('images'):\n",
    "    os.makedirs('images')\n",
    "    \n",
    "    \n",
    "image_url = image_urls[0]\n",
    "\n",
    "# 取得images的檔名\n",
    "image_filename = image_url.split(\"/\")[-1]\n",
    "\n",
    "print(image_filename)\n",
    "\n",
    "resp = requests.get(image_url)\n",
    "\n",
    "target_file_path = f'images/{image_filename}'\n",
    "\n",
    "# 把圖檔寫到本地目錄\n",
    "with open(target_file_path, 'wb') as f:\n",
    "    f.write(resp.content)"
   ]
  },
  {
   "cell_type": "code",
   "execution_count": null,
   "id": "4ff292f3",
   "metadata": {},
   "outputs": [],
   "source": [
    "from IPython.display import Image\n",
    "from IPython.core.display import HTML \n",
    "Image(filename = target_file_path , width=850, height=600)   "
   ]
  }
 ],
 "metadata": {
  "kernelspec": {
   "display_name": "Python 3",
   "language": "python",
   "name": "python3"
  },
  "language_info": {
   "codemirror_mode": {
    "name": "ipython",
    "version": 3
   },
   "file_extension": ".py",
   "mimetype": "text/x-python",
   "name": "python",
   "nbconvert_exporter": "python",
   "pygments_lexer": "ipython3",
   "version": "3.7.10"
  },
  "toc": {
   "base_numbering": 1,
   "nav_menu": {},
   "number_sections": true,
   "sideBar": true,
   "skip_h1_title": false,
   "title_cell": "Table of Contents",
   "title_sidebar": "Contents",
   "toc_cell": false,
   "toc_position": {},
   "toc_section_display": true,
   "toc_window_display": false
  }
 },
 "nbformat": 4,
 "nbformat_minor": 5
}
