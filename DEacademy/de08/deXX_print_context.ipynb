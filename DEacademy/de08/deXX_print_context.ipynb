{
 "cells": [
  {
   "cell_type": "code",
   "execution_count": null,
   "id": "99674f94",
   "metadata": {},
   "outputs": [],
   "source": [
    "from airflow import DAG\n",
    "from airflow.operators.python import PythonOperator\n",
    "from airflow.utils.dates import days_ago\n",
    "from pprint import pprint\n",
    "\n",
    "\n",
    "# method to print out airflow dag context\n",
    "def print_context(**kwargs):\n",
    "    pprint(kwargs) # 透過pprint來讓輸出易讀\n",
    "\n",
    "\n",
    "default_args = {\n",
    "    'owner':'EMPLOYEE_ID', # owner是DAG的開發者, 例如: 員工8703147\n",
    "}\n",
    "\n",
    "dag = DAG(\n",
    "    dag_id=\"deXX_print_context\", # prefix必需是tenant id, 例如: de00\n",
    "    description=\"dag to print out airflow dag context\",\n",
    "    start_date=days_ago(2),\n",
    "    schedule_interval=None,\n",
    "    catchup=False,\n",
    "    default_args=default_args,\n",
    "    access_control={\n",
    "        'deXX': {'can_read', 'can_edit'} # 設定DAG歸屬那個團隊[tenant id]與權限\n",
    "    },\n",
    "    tags=['de08'],\n",
    ")\n",
    "\n",
    "# task to print out airflow dag context\n",
    "task_print_context = PythonOperator(\n",
    "    task_id='print_context',\n",
    "    python_callable=print_context,\n",
    "    dag=dag,\n",
    ")\n"
   ]
  }
 ],
 "metadata": {
  "kernelspec": {
   "display_name": "Python 3",
   "language": "python",
   "name": "python3"
  },
  "language_info": {
   "codemirror_mode": {
    "name": "ipython",
    "version": 3
   },
   "file_extension": ".py",
   "mimetype": "text/x-python",
   "name": "python",
   "nbconvert_exporter": "python",
   "pygments_lexer": "ipython3",
   "version": "3.7.10"
  },
  "toc": {
   "base_numbering": 1,
   "nav_menu": {},
   "number_sections": true,
   "sideBar": true,
   "skip_h1_title": false,
   "title_cell": "Table of Contents",
   "title_sidebar": "Contents",
   "toc_cell": false,
   "toc_position": {},
   "toc_section_display": true,
   "toc_window_display": false
  }
 },
 "nbformat": 4,
 "nbformat_minor": 5
}
