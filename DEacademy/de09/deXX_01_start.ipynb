{
 "cells": [
  {
   "cell_type": "code",
   "execution_count": null,
   "id": "38d766f4",
   "metadata": {},
   "outputs": [],
   "source": [
    "from airflow import DAG\n",
    "from airflow.utils.dates import days_ago\n",
    "from airflow.operators.dummy import DummyOperator\n",
    "\n",
    "default_args = {\n",
    "    'owner':'EMPLOYEE_ID', # owner是DAG的開發者, 例如: 員工8703147\n",
    "}\n",
    "\n",
    "with DAG(\n",
    "    dag_id=\"deXX_01_start\",  # prefix必需是tenant id, 例如: de00\n",
    "    start_date=days_ago(2),\n",
    "    schedule_interval=None,\n",
    "    default_args=default_args,\n",
    "    access_control={\n",
    "        'deXX': {'can_read', 'can_edit'}  # 設定DAG歸屬那個團隊[tenant id]與權限\n",
    "    },\n",
    "    tags=['de09'],\n",
    ") as dag:\n",
    "    start = DummyOperator(task_id=\"start\")\n",
    "    fetch_sales = DummyOperator(task_id=\"fetch_sales\")\n",
    "    clean_sales = DummyOperator(task_id=\"clean_sales\")\n",
    "    fetch_weather = DummyOperator(task_id=\"fetch_weather\")\n",
    "    clean_weather = DummyOperator(task_id=\"clean_weather\")\n",
    "    join_datasets = DummyOperator(task_id=\"join_datasets\")\n",
    "    train_model = DummyOperator(task_id=\"train_model\")\n",
    "    deploy_model = DummyOperator(task_id=\"deploy_model\")\n",
    "\n",
    "    start >> [fetch_sales, fetch_weather]\n",
    "    fetch_sales >> clean_sales\n",
    "    fetch_weather >> clean_weather\n",
    "    [clean_sales, clean_weather] >> join_datasets\n",
    "    join_datasets >> train_model >> deploy_model"
   ]
  }
 ],
 "metadata": {
  "kernelspec": {
   "display_name": "Python 3",
   "language": "python",
   "name": "python3"
  },
  "language_info": {
   "codemirror_mode": {
    "name": "ipython",
    "version": 3
   },
   "file_extension": ".py",
   "mimetype": "text/x-python",
   "name": "python",
   "nbconvert_exporter": "python",
   "pygments_lexer": "ipython3",
   "version": "3.7.10"
  },
  "toc": {
   "base_numbering": 1,
   "nav_menu": {},
   "number_sections": true,
   "sideBar": true,
   "skip_h1_title": false,
   "title_cell": "Table of Contents",
   "title_sidebar": "Contents",
   "toc_cell": false,
   "toc_position": {},
   "toc_section_display": true,
   "toc_window_display": false
  }
 },
 "nbformat": 4,
 "nbformat_minor": 5
}
