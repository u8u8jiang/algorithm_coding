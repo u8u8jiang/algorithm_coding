{
 "cells": [
  {
   "attachments": {},
   "cell_type": "markdown",
   "metadata": {},
   "source": [
    "People-to-People correlation 協同過濾       \n",
    "\n",
    "1. 首先，找到User1 喜歡的電影；     \n",
    "2. 找出與User1具有相同的電影興趣愛好的人群；            \n",
    "3. 找出該人群喜歡的其他電影；           \n",
    "4. 將這些電影推送給User1。          "
   ]
  },
  {
   "attachments": {},
   "cell_type": "markdown",
   "metadata": {},
   "source": [
    "data        \n",
    "數據包含138,000 個用戶對27,000 個電影的評價，評價分為0-5            \n",
    "1. ranking: ml-latest-small(1MB)        \n",
    "2. movies： ml-latest(234.2MB)      "
   ]
  },
  {
   "cell_type": "code",
   "execution_count": 28,
   "metadata": {},
   "outputs": [],
   "source": [
    "# pip install pandas\n",
    "import pandas as pd                         \n",
    "\n",
    "ratings = pd.read_csv('./ml-latest/ratings.csv')    \n",
    "# print (ratings.head(20)) \n",
    "movies = pd.read_csv('./ml-latest/movies.csv') \n",
    "# print(movies.head(5))"
   ]
  },
  {
   "cell_type": "code",
   "execution_count": 29,
   "metadata": {},
   "outputs": [],
   "source": [
    "data = pd.merge(movies, ratings, on = 'movieId')\n",
    "# print(data.head(5))\n",
    "data[['userId','rating','movieId','title']].sort_values('userId').to_csv('./data.csv',index=False)\n",
    "data = pd.read_csv('data.csv')\n",
    "# print(data.head(5))\n"
   ]
  },
  {
   "cell_type": "code",
   "execution_count": 30,
   "metadata": {},
   "outputs": [
    {
     "data": {
      "text/plain": [
       "{'1': {'Hollow Man (2000)': '2.0',\n",
       "  'RoboCop 2 (1990)': '2.5',\n",
       "  \"Weekend at Bernie's (1989)\": '1.5',\n",
       "  '\"Running Man': '3.5',\n",
       "  'Spawn (1997)': '1.5',\n",
       "  'Falling Down (1993)': '4.0',\n",
       "  'Event Horizon (1997)': '2.5',\n",
       "  'Do the Right Thing (1989)': '4.5',\n",
       "  'Stigmata (1999)': '3.0',\n",
       "  'Kalifornia (1993)': '3.5',\n",
       "  'Nurse Betty (2000)': '3.5',\n",
       "  '¡Three Amigos! (1986)': '4.0',\n",
       "  'Better Off Dead... (1985)': '4.5',\n",
       "  'Weird Science (1985)': '4.5',\n",
       "  'Three Colors: Blue (Trois couleurs: Bleu) (1993)': '3.5',\n",
       "  'Waiting for Guffman (1996)': '4.5'},\n",
       " '2': {'\"Room with a View': '4.5',\n",
       "  'Broadcast News (1987)': '4.5',\n",
       "  'Arlington Road (1999)': '3.5',\n",
       "  'Manhattan (1979)': '3.0',\n",
       "  'Risky Business (1983)': '3.5',\n",
       "  'Little Shop of Horrors (1986)': '4.0',\n",
       "  'Escape from L.A. (1996)': '3.5',\n",
       "  'Hackers (1995)': '3.5',\n",
       "  'Driving Miss Daisy (1989)': '4.0',\n",
       "  'L.A. Story (1991)': '3.5',\n",
       "  'American Graffiti (1973)': '4.0',\n",
       "  '\"Sex': '3.5',\n",
       "  '\"Big Chill': '4.0',\n",
       "  'Stripes (1981)': '3.0',\n",
       "  'Harold and Maude (1971)': '3.0'},\n",
       " '3': {'\"Adventures of Pinocchio': '4.0',\n",
       "  'Angel on My Shoulder (1946)': '3.0',\n",
       "  '\"Rapture': '3.0',\n",
       "  'The Players Club (1998)': '3.0',\n",
       "  '\"Godfather: Part II': '4.0',\n",
       "  'Diabolique (1996)': '3.0',\n",
       "  'Room at the Top (1959)': '4.0',\n",
       "  'Saving Private Ryan (1998)': '5.0',\n",
       "  \"The Devil's Advocate (1997)\": '4.0',\n",
       "  'Halloween 4: The Return of Michael Myers (1988)': '2.0',\n",
       "  '\"American Werewolf in London': '4.0'},\n",
       " '4': {'\"Professional': '4.5',\n",
       "  '\"Core': '3.0',\n",
       "  'Batman & Robin (1997)': '1.0',\n",
       "  '\"Fish Called Wanda': '4.5',\n",
       "  'Derailed (2005)': '4.0',\n",
       "  '\"Whole Nine Yards': '4.5',\n",
       "  '\"Mask': '2.5',\n",
       "  'Unleashed (Danny the Dog) (2005)': '4.5',\n",
       "  'Hot Shots! (1991)': '3.0',\n",
       "  'Godzilla (1998)': '3.0',\n",
       "  'Kill Bill: Vol. 1 (2003)': '4.5',\n",
       "  'Predator 2 (1990)': '3.5',\n",
       "  'Moulin Rouge (2001)': '0.5',\n",
       "  'Dragonheart (1996)': '3.5',\n",
       "  '\"Jewel of the Nile': '4.0',\n",
       "  'Behind Enemy Lines (2001)': '4.5',\n",
       "  '\"Day After Tomorrow': '3.5',\n",
       "  \"Block Party (a.k.a. Dave Chappelle's Block Party) (2005)\": '0.5',\n",
       "  'Star Trek IV: The Voyage Home (1986)': '3.5',\n",
       "  'Lethal Weapon 2 (1989)': '4.0',\n",
       "  'Hook (1991)': '4.0',\n",
       "  'We Were Soldiers (2002)': '4.5',\n",
       "  'Battlefield Earth (2000)': '1.0',\n",
       "  'Ace Ventura: Pet Detective (1994)': '3.0',\n",
       "  'Rising Sun (1993)': '3.5',\n",
       "  'Boogie Nights (1997)': '3.0',\n",
       "  '\"Thomas Crown Affair': '4.5',\n",
       "  'Maverick (1994)': '3.5',\n",
       "  \"Ocean's Eleven (2001)\": '4.0',\n",
       "  'Tears of the Sun (2003)': '4.0',\n",
       "  'City Slickers (1991)': '3.0',\n",
       "  'Crimson Tide (1995)': '4.0',\n",
       "  'Wedding Crashers (2005)': '5.0',\n",
       "  'Rush Hour 2 (2001)': '4.0',\n",
       "  'American Pie (1999)': '4.0',\n",
       "  'Eye for an Eye (1996)': '3.0',\n",
       "  'AVP: Alien vs. Predator (2004)': '4.0',\n",
       "  'Harold and Kumar Go to White Castle (2004)': '4.0',\n",
       "  '\"Godfather': '4.0',\n",
       "  'Beverly Hills Cop (1984)': '4.0',\n",
       "  'Under Siege 2: Dark Territory (1995)': '3.5',\n",
       "  'Super Troopers (2001)': '4.5',\n",
       "  'Basic Instinct (1992)': '4.0',\n",
       "  'Live Free or Die Hard (2007)': '3.5',\n",
       "  'Seven (a.k.a. Se7en) (1995)': '5.0',\n",
       "  'Natural Born Killers (1994)': '4.5',\n",
       "  'Star Trek III: The Search for Spock (1984)': '3.5',\n",
       "  'Blue Streak (1999)': '3.5',\n",
       "  'Starship Troopers (1997)': '3.5',\n",
       "  'Pirates of the Caribbean: The Curse of the Black Pearl (2003)': '5.0',\n",
       "  'Beverly Hills Cop III (1994)': '2.0',\n",
       "  '\"Ref': '4.5',\n",
       "  '\"Perfect Murder': '4.5',\n",
       "  'Mad Max Beyond Thunderdome (1985)': '3.0',\n",
       "  'Bowfinger (1999)': '2.5',\n",
       "  '16 Blocks (2006)': '4.5'}}"
      ]
     },
     "execution_count": 30,
     "metadata": {},
     "output_type": "execute_result"
    }
   ],
   "source": [
    "# 字典來表示每位用戶評論的電影和評分        \n",
    "\n",
    "# 逐行读取刚刚合并并保存的数据集\n",
    "content = []\n",
    "with open('./data.csv',\"r\",encoding=\"utf-8\") as fp:\n",
    "    content = fp.readlines()\n",
    "\n",
    "# 将用户、评分、和电影写入字典data\n",
    "data = {}\n",
    "for line in content[1:100]:\n",
    "    line = line.strip().split(',')\n",
    "    #如果字典中没有某位用户，则使用用户ID来创建这位用户\n",
    "    if not line[0] in data.keys():\n",
    "        data[line[0]] = {line[3]:line[1]}\n",
    "    #否则直接添加以该用户ID为key字典中\n",
    "    else:\n",
    "        data[line[0]][line[3]] = line[1]\n",
    "\n",
    "\n",
    "data "
   ]
  },
  {
   "cell_type": "code",
   "execution_count": 31,
   "metadata": {},
   "outputs": [
    {
     "name": "stdout",
     "output_type": "stream",
     "text": [
      "[('2', 1.0), ('3', 1.0), ('4', 1.0)]\n"
     ]
    }
   ],
   "source": [
    "# 計算任兩位用戶間的相似度\n",
    "# 找共同評論過的電影, 計算兩者之間的歐式距離(相似度)。\n",
    "\n",
    "from math import *\n",
    "\n",
    "def Euclidean(user1,user2):\n",
    "    \n",
    "    user1_data = data[user1]                     #取出两位用户评论过的电影和评分\n",
    "    user2_data = data[user2]\n",
    "    distance = 0\n",
    "    \n",
    "    for key in user1_data.keys():               #找到两位用户都评论过的电影，并计算欧式距离\n",
    "        if key in user2_data.keys():\n",
    "            #注意，distance越大表示两者越相似\n",
    "            distance += pow(float(user1_data[key])-float(user2_data[key]),2)\n",
    " \n",
    "    return 1/(1+sqrt(distance))                 #这里返回值越小，相似度越大\n",
    "\n",
    "\n",
    "#计算某个用户与其他用户的相似度\n",
    "def top10_simliar(userID):\n",
    "    res = []\n",
    "    for userid in data.keys():\n",
    "        \n",
    "        if not userid == userID:                #排除与自己计算相似度\n",
    "            simliar = Euclidean(userID, userid)\n",
    "            res.append((userid, simliar))\n",
    "    res.sort(key=lambda val:val[1])\n",
    "    \n",
    "    return res[:4]\n",
    " \n",
    "RES = top10_simliar('1')\n",
    "\n",
    "print(RES)\n",
    "# 用户之间相似度结果：0表示两位的影评几乎一样，1表示没有共同的影评\n",
    "\n"
   ]
  },
  {
   "cell_type": "code",
   "execution_count": 32,
   "metadata": {},
   "outputs": [
    {
     "name": "stdout",
     "output_type": "stream",
     "text": [
      "[('\"Room with a View', '4.5'), ('Broadcast News (1987)', '4.5'), ('Little Shop of Horrors (1986)', '4.0'), ('Driving Miss Daisy (1989)', '4.0'), ('American Graffiti (1973)', '4.0'), ('\"Big Chill', '4.0'), ('Arlington Road (1999)', '3.5'), ('Risky Business (1983)', '3.5'), ('Escape from L.A. (1996)', '3.5'), ('Hackers (1995)', '3.5')]\n"
     ]
    }
   ],
   "source": [
    "# 根據相似度來推薦用戶：\n",
    "\n",
    "def recommend(user):\n",
    "    \n",
    "    top_sim_user = top10_simliar(user)[0][0]                    #相似度最高的用户\n",
    "    items = data[top_sim_user]                                  #相似度最高的用户的观影记录\n",
    "    recommendations = []\n",
    "    \n",
    "    for item in items.keys():                                   #筛选出该用户未观看的电影并添加到列表中\n",
    "        if item not in data[user].keys():\n",
    "            recommendations.append((item,items[item]))\n",
    "    recommendations.sort(key=lambda val:val[1], reverse=True)    #按照评分排序\n",
    "    \n",
    "    return recommendations[:10]                                 #返回评分最高的10部电影\n",
    " \n",
    "Recommendations = recommend('1')\n",
    "print(Recommendations)\n"
   ]
  }
 ],
 "metadata": {
  "kernelspec": {
   "display_name": "Python 3",
   "language": "python",
   "name": "python3"
  },
  "language_info": {
   "codemirror_mode": {
    "name": "ipython",
    "version": 3
   },
   "file_extension": ".py",
   "mimetype": "text/x-python",
   "name": "python",
   "nbconvert_exporter": "python",
   "pygments_lexer": "ipython3",
   "version": "3.7.9"
  },
  "orig_nbformat": 4
 },
 "nbformat": 4,
 "nbformat_minor": 2
}
